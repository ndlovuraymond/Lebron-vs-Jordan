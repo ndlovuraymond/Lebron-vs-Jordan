{
 "cells": [
  {
   "cell_type": "code",
   "execution_count": 1,
   "id": "2f3db617",
   "metadata": {},
   "outputs": [],
   "source": [
    "from dash import Dash,dcc,html,callback,Output,Input\n",
    "from jupyter_dash import JupyterDash\n",
    "import pandas as pd\n",
    "import plotly.express as px"
   ]
  },
  {
   "cell_type": "code",
   "execution_count": 13,
   "id": "ad776073",
   "metadata": {},
   "outputs": [
    {
     "ename": "SyntaxError",
     "evalue": "invalid syntax. Perhaps you forgot a comma? (3758768975.py, line 4)",
     "output_type": "error",
     "traceback": [
      "\u001b[0;36m  Cell \u001b[0;32mIn[13], line 4\u001b[0;36m\u001b[0m\n\u001b[0;31m    style={ 'body' {\u001b[0m\n\u001b[0m            ^\u001b[0m\n\u001b[0;31mSyntaxError\u001b[0m\u001b[0;31m:\u001b[0m invalid syntax. Perhaps you forgot a comma?\n"
     ]
    }
   ],
   "source": [
    "app = JupyterDash(__name__)\n",
    "\n",
    "app.layout = html.Body(\n",
    "    style={ 'body' {\n",
    "'background-image': 'url(\"/assets/Lebron vs Jordan.webp\")',\n",
    "'background-repeat': 'no-repeat',\n",
    "'width': '100vw',\n",
    "'height': '100vh'\n",
    "    }\n",
    "},children=\"Welcome to Dash\"\n",
    ")\n",
    "\n",
    "app.run_server(debug=True,port=8056)"
   ]
  },
  {
   "cell_type": "code",
   "execution_count": null,
   "id": "9a781237",
   "metadata": {},
   "outputs": [],
   "source": []
  }
 ],
 "metadata": {
  "kernelspec": {
   "display_name": "Python 3 (ipykernel)",
   "language": "python",
   "name": "python3"
  },
  "language_info": {
   "codemirror_mode": {
    "name": "ipython",
    "version": 3
   },
   "file_extension": ".py",
   "mimetype": "text/x-python",
   "name": "python",
   "nbconvert_exporter": "python",
   "pygments_lexer": "ipython3",
   "version": "3.11.3"
  }
 },
 "nbformat": 4,
 "nbformat_minor": 5
}
