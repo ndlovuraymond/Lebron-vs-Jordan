{
 "cells": [
  {
   "cell_type": "code",
   "execution_count": 1,
   "id": "2f3db617",
   "metadata": {},
   "outputs": [],
   "source": [
    "from dash import Dash,dcc,html,callback,Output,Input\n",
    "from jupyter_dash import JupyterDash\n",
    "import pandas as pd\n",
    "import plotly.express as px"
   ]
  },
  {
   "cell_type": "code",
   "execution_count": 89,
   "id": "056e54bf",
   "metadata": {},
   "outputs": [],
   "source": [
    "import warnings\n",
    "warnings.filterwarnings('ignore')"
   ]
  },
  {
   "cell_type": "code",
   "execution_count": 112,
   "id": "ad776073",
   "metadata": {},
   "outputs": [
    {
     "name": "stdout",
     "output_type": "stream",
     "text": [
      "Dash is running on http://127.0.0.1:8050/\n",
      "\n",
      "Dash app running on http://127.0.0.1:8050/\n"
     ]
    }
   ],
   "source": [
    "#regular season import\n",
    "lebron_regular_season = pd.read_csv(\"lebron_career.csv\",parse_dates=[\"date\"])\n",
    "lebron_totals_regular = lebron_regular_season[[\"pts\",\"ast\",\"trb\",\"blk\",\"stl\",\"tov\"]].sum().to_frame()\n",
    "lebron_totals_regular.rename(columns={lebron_totals_regular.columns[0]:\"Total\"},inplace=True)\n",
    "lebron_averages_regular = lebron_regular_season[[\"pts\",\"ast\",\"trb\",\"blk\",\"stl\",\"tov\"]].mean().to_frame()\n",
    "lebron_averages_regular.rename(columns={lebron_averages_regular.columns[0]:\"Total\"},inplace=True)\n",
    "jordan_regular_season = pd.read_csv(\"jordan_career.csv\",parse_dates=[\"date\"])\n",
    "jordan_totals_regular = jordan_regular_season[[\"pts\",\"ast\",\"trb\",\"blk\",\"stl\",\"tov\"]].sum().to_frame()\n",
    "jordan_totals_regular.rename(columns={jordan_totals_regular.columns[0]:\"Total\"},inplace=True)\n",
    "jordan_averages_regular = jordan_regular_season[[\"pts\",\"ast\",\"trb\",\"blk\",\"stl\",\"tov\"]].mean().to_frame()\n",
    "jordan_averages_regular.rename(columns={jordan_averages_regular.columns[0]:\"Total\"},inplace=True)\n",
    "#playoffs import\n",
    "lebron_playoffs = pd.read_csv(\"lebron_playoffs.csv\",parse_dates=[\"date\"])\n",
    "lebron_totals_playoffs = lebron_playoffs[[\"pts\",\"ast\",\"trb\",\"blk\",\"stl\",\"tov\"]].sum().to_frame()\n",
    "lebron_totals_playoffs.rename(columns={lebron_totals_playoffs.columns[0]:\"Total\"},inplace=True)\n",
    "lebron_averages_playoffs = lebron_playoffs[[\"pts\",\"ast\",\"trb\",\"blk\",\"stl\",\"tov\"]].mean().to_frame()\n",
    "lebron_averages_playoffs.rename(columns={lebron_averages_playoffs.columns[0]:\"Total\"},inplace=True)\n",
    "jordan_playoffs = pd.read_csv(\"jordan_playoffs.csv\",parse_dates=[\"date\"])\n",
    "jordan_totals_playoffs = jordan_playoffs[[\"pts\",\"ast\",\"trb\",\"blk\",\"stl\",\"tov\"]].sum().to_frame()\n",
    "jordan_totals_playoffs.rename(columns={jordan_totals_playoffs.columns[0]:\"Total\"},inplace=True)\n",
    "jordan_averages_playoffs = jordan_playoffs[[\"pts\",\"ast\",\"trb\",\"blk\",\"stl\",\"tov\"]].mean().to_frame()\n",
    "jordan_averages_playoffs.rename(columns={jordan_averages_playoffs.columns[0]:\"Total\"},inplace=True)\n",
    "#importing finals data\n",
    "lebron_finals = lebron_playoffs.query(\"series == 'FIN'\")\n",
    "lebron_total_finals = lebron_finals[[\"pts\",\"ast\",\"trb\",\"blk\",\"stl\",\"tov\"]].sum().to_frame()\n",
    "lebron_total_finals.rename(columns={lebron_total_finals.columns[0]:\"Total\"},inplace=True)\n",
    "lebron_averages_finals = lebron_finals[[\"pts\",\"ast\",\"trb\",\"blk\",\"stl\",\"tov\"]].mean().to_frame()\n",
    "lebron_averages_finals.rename(columns={lebron_averages_finals.columns[0]:\"Total\"},inplace=True)\n",
    "jordan_finals = jordan_playoffs.query(\"series == 'FIN'\")\n",
    "jordan_total_finals = jordan_finals[[\"pts\",\"ast\",\"trb\",\"blk\",\"stl\",\"tov\"]].sum().to_frame()\n",
    "jordan_total_finals.rename(columns={jordan_total_finals.columns[0]:\"Total\"},inplace=True)\n",
    "jordan_averages_finals = jordan_finals[[\"pts\",\"ast\",\"trb\",\"blk\",\"stl\",\"tov\"]].mean().to_frame()\n",
    "jordan_averages_finals.rename(columns={jordan_averages_finals.columns[0]:\"Total\"},inplace=True)\n",
    "\n",
    "# making efficiency statisitics columns to be used for efficiency charts\n",
    "lebron_regular_season[\"Field Goals Made\"] = lebron_regular_season[\"fg\"]\n",
    "lebron_regular_season[\"Field Goals Missed\"] = lebron_regular_season[\"fga\"] - lebron_regular_season[\"fg\"]\n",
    "jordan_regular_season[\"Field Goals Made\"] = jordan_regular_season[\"fg\"]\n",
    "jordan_regular_season[\"Field Goals Missed\"] = jordan_regular_season[\"fga\"] - jordan_regular_season[\"fg\"]\n",
    "    \n",
    "lebron_regular_season[\"Free Throws Made\"] = lebron_regular_season[\"ft\"]\n",
    "lebron_regular_season[\"Free Throws Missed\"] = lebron_regular_season[\"fta\"] - lebron_regular_season[\"ft\"]\n",
    "jordan_regular_season[\"Free Throws Made\"] = jordan_regular_season[\"ft\"]\n",
    "jordan_regular_season[\"Free Throws Missed\"] = jordan_regular_season[\"fta\"] - jordan_regular_season[\"ft\"]\n",
    "    \n",
    "lebron_regular_season[\"Three Made\"] = lebron_regular_season[\"three\"]\n",
    "lebron_regular_season[\"Three Missed\"] = lebron_regular_season[\"threeatt\"] - lebron_regular_season[\"three\"]\n",
    "jordan_regular_season[\"Three Made\"] = jordan_regular_season[\"three\"]\n",
    "jordan_regular_season[\"Three Missed\"] = jordan_regular_season[\"threeatt\"] - jordan_regular_season[\"three\"]\n",
    "    \n",
    "lebron_playoffs[\"Field Goals Made\"] = lebron_playoffs[\"fg\"]\n",
    "lebron_playoffs[\"Field Goals Missed\"] = lebron_playoffs[\"fga\"] - lebron_playoffs[\"fg\"]\n",
    "jordan_playoffs[\"Field Goals Made\"] = jordan_playoffs[\"fg\"]\n",
    "jordan_playoffs[\"Field Goals Missed\"] = jordan_playoffs[\"fga\"] - jordan_playoffs[\"fg\"]\n",
    "    \n",
    "lebron_playoffs[\"Free Throws Made\"] = lebron_playoffs[\"ft\"]\n",
    "lebron_playoffs[\"Free Throws Missed\"] = lebron_playoffs[\"fta\"] - lebron_playoffs[\"ft\"]\n",
    "jordan_playoffs[\"Free Throws Made\"] = jordan_playoffs[\"ft\"]\n",
    "jordan_playoffs[\"Free Throws Missed\"] = jordan_playoffs[\"fta\"] - jordan_playoffs[\"ft\"]\n",
    "    \n",
    "lebron_playoffs[\"Three Made\"] = lebron_playoffs[\"three\"]\n",
    "lebron_playoffs[\"Three Missed\"] = lebron_playoffs[\"threeatt\"] - lebron_playoffs[\"three\"]\n",
    "jordan_playoffs[\"Three Made\"] = jordan_playoffs[\"three\"]\n",
    "jordan_playoffs[\"Three Missed\"] = jordan_playoffs[\"threeatt\"] - jordan_playoffs[\"three\"]\n",
    "    \n",
    "lebron_finals[\"Field Goals Made\"] = lebron_finals[\"fg\"]\n",
    "lebron_finals[\"Field Goals Missed\"] = lebron_finals[\"fga\"] - lebron_finals[\"fg\"]\n",
    "jordan_finals[\"Field Goals Made\"] = jordan_finals[\"fg\"]\n",
    "jordan_finals[\"Field Goals Missed\"] = jordan_finals[\"fga\"] - jordan_finals[\"fg\"]\n",
    "    \n",
    "lebron_finals[\"Free Throws Made\"] = lebron_finals[\"ft\"]\n",
    "lebron_finals[\"Free Throws Missed\"] = lebron_finals[\"fta\"] - lebron_finals[\"ft\"]\n",
    "jordan_finals[\"Free Throws Made\"] = jordan_finals[\"ft\"]\n",
    "jordan_finals[\"Free Throws Missed\"] = jordan_finals[\"fta\"] - jordan_finals[\"ft\"]\n",
    "    \n",
    "lebron_finals[\"Three Made\"] = lebron_finals[\"three\"]\n",
    "lebron_finals[\"Three Missed\"] = lebron_finals[\"threeatt\"] - lebron_finals[\"three\"]\n",
    "jordan_finals[\"Three Made\"] = jordan_finals[\"three\"]\n",
    "jordan_finals[\"Three Missed\"] = jordan_finals[\"threeatt\"] - jordan_finals[\"three\"]\n",
    "\n",
    "#creating dataframes for cumulative shooting\n",
    "lebron_shooting_totals_regular = lebron_regular_season[[\"fg\",\"fga\",\"three\",\n",
    "                                                                \"threeatt\",\"ft\",\"fta\"]].sum().to_frame()\n",
    "lebron_shooting_totals_regular.rename(columns={lebron_shooting_totals_regular.columns[0]:\"Total\"},\n",
    "                                              inplace=True)\n",
    "jordan_shooting_totals_regular = jordan_regular_season[[\"fg\",\"fga\",\"three\",\n",
    "                                                                \"threeatt\",\"ft\",\"fta\"]].sum().to_frame()\n",
    "jordan_shooting_totals_regular.rename(columns={jordan_shooting_totals_regular.columns[0]:\"Total\"},\n",
    "                                              inplace=True)\n",
    "    \n",
    "lebron_shooting_totals_playoffs = lebron_playoffs[[\"fg\",\"fga\",\"three\",\n",
    "                                                                \"threeatt\",\"ft\",\"fta\"]].sum().to_frame()\n",
    "lebron_shooting_totals_playoffs.rename(columns={lebron_shooting_totals_playoffs.columns[0]:\"Total\"},\n",
    "                                              inplace=True)\n",
    "jordan_shooting_totals_playoffs = jordan_playoffs[[\"fg\",\"fga\",\"three\",\n",
    "                                                                \"threeatt\",\"ft\",\"fta\"]].sum().to_frame()\n",
    "jordan_shooting_totals_playoffs.rename(columns={jordan_shooting_totals_playoffs.columns[0]:\"Total\"},\n",
    "                                              inplace=True)\n",
    "    \n",
    "lebron_shooting_totals_finals = lebron_finals[[\"fg\",\"fga\",\"three\",\n",
    "                                                                \"threeatt\",\"ft\",\"fta\"]].sum().to_frame()\n",
    "lebron_shooting_totals_finals.rename(columns={lebron_shooting_totals_finals.columns[0]:\"Total\"},\n",
    "                                              inplace=True)\n",
    "jordan_shooting_totals_finals = jordan_finals[[\"fg\",\"fga\",\"three\",\n",
    "                                                                \"threeatt\",\"ft\",\"fta\"]].sum().to_frame()\n",
    "jordan_shooting_totals_finals.rename(columns={jordan_shooting_totals_finals.columns[0]:\"Total\"},\n",
    "                                              inplace=True)\n",
    "\n",
    "app = JupyterDash(__name__)\n",
    "\n",
    "app.layout = html.Div(\n",
    "children=[\n",
    "    html.Div(html.H1(\"Lebron vs Jordan\",style={'text-align':'center','color':'white','font-size':'2.5rem',\n",
    "                                     'font-weight':'bolder','display':'block',\n",
    "                                      'background-color':'rgb(0,0,0,0.40)','padding':'10px'\n",
    "                                      ,'border-radius':'5px','margin-bottom':'10px'}),\n",
    "             id=\"main-heading\"),\n",
    "    #Total Statistics\n",
    "        html.Div(children=[html.H2(\"Total Career Statistics\",style={'text-align':'left',\n",
    "                        'color':'white','font-size':'2rem','font-weight':'bolder','display':'block',\n",
    "                        'background-color':'rgb(0,0,0,0.40)','padding':'10px','border-radius':'5px',\n",
    "                         'margin-top':'0px','margin-bottom':'10px'}),\n",
    "                         dcc.Dropdown(options=[\"Regular Season\",\"Playoffs\",\"NBA Finals\"],value=\"Regular Season\"\n",
    "                            ,id=\"total-dropdown\",\n",
    "                            searchable=False)\n",
    "             ],id=\"sub-heading\"),\n",
    "    html.Div(children=[\n",
    "    dcc.Graph(id=\"lebron-stats-total\",style={'width':'90%','margin-right':'20px','margin-left':'20px'}),\n",
    "      dcc.Graph(id=\"jordan-stats-total\",style={'width':'90%','margin-right':'20px'})],id=\"stats-div\"),\n",
    "# Average statistics\n",
    "    html.Div(children=[html.H2(\"Average Career Statistics\",style={'text-align':'left',\n",
    "                        'color':'white','font-size':'2rem','font-weight':'bolder','display':'block',\n",
    "                        'background-color':'rgb(0,0,0,0.40)','padding':'10px','border-radius':'5px',\n",
    "                         'margin-top':'0px','margin-bottom':'10px'}),\n",
    "                         dcc.Dropdown(options=[\"Regular Season\",\"Playoffs\",\"NBA Finals\"],value=\"Regular Season\"\n",
    "                            ,id=\"averages-dropdown\",searchable=False)],id=\"sub-heading-avg\"),\n",
    "    html.Div(children=[\n",
    "    dcc.Graph(id=\"lebron-stats-averages\",style={'width':'90%','margin-right':'20px','margin-left':'20px'}),\n",
    "      dcc.Graph(id=\"jordan-stats-averages\",style={'width':'90%','margin-right':'20px'})],id=\"stats-div-avg\"),\n",
    "# Shooting Efficiency\n",
    "    html.Div(children=[html.H2(\"Career Efficiency Statistics\",style={'text-align':'left',\n",
    "                        'color':'white','font-size':'2rem','font-weight':'bolder','display':'block',\n",
    "                        'background-color':'rgb(0,0,0,0.40)','padding':'10px','border-radius':'5px',\n",
    "                         'margin-top':'0px','margin-bottom':'10px'}),\n",
    "                         dcc.Dropdown(options=[\"Regular Season\",\"Playoffs\",\"NBA Finals\"],value=\"Regular Season\"\n",
    "                            ,id=\"season-dropdown\",searchable=False),\n",
    "                         dcc.Dropdown(options=[\"Field Goals\",\"Three Pointers\",\"Free Throws\"],value=\"Field Goals\"\n",
    "                            ,id=\"efficiency-dropdown\",searchable=False)]\n",
    "             ,id=\"sub-heading-eff\"),\n",
    "    html.Div(children=[\n",
    "    dcc.Graph(id=\"lebron-stats-efficiency\",style={'width':'90%','margin-right':'20px','margin-left':'20px'}),\n",
    "      dcc.Graph(id=\"jordan-stats-efficiency\",style={'width':'90%','margin-right':'20px'})],id=\"stats-div-eff\"),\n",
    "# Cumulative Shooting Statistics\n",
    "    html.Div(children=[html.H2(\"Cumulative Shooting Statistics\",style={'text-align':'left',\n",
    "                        'color':'white','font-size':'2rem','font-weight':'bolder','display':'block',\n",
    "                        'background-color':'rgb(0,0,0,0.40)','padding':'10px','border-radius':'5px',\n",
    "                         'margin-top':'0px','margin-bottom':'10px'}),\n",
    "                         dcc.Dropdown(options=[\"Regular Season\",\"Playoffs\",\"NBA Finals\"],value=\"Regular Season\"\n",
    "                            ,id=\"cumulative-dropdown\",searchable=False)]\n",
    "             ,id=\"sub-heading-cumulative\"),\n",
    "    html.Div(children=[\n",
    "    dcc.Graph(id=\"lebron-stats-cumulative\",style={'width':'90%','margin-right':'20px','margin-left':'20px'}),\n",
    "      dcc.Graph(id=\"jordan-stats-cumulative\",style={'width':'90%','margin-right':'20px'})],\n",
    "             id=\"stats-div-cumulative\")\n",
    "])\n",
    "\n",
    "@callback(\n",
    "    Output(\"lebron-stats-cumulative\",\"figure\"),\n",
    "    Output(\"jordan-stats-cumulative\",\"figure\"),\n",
    "    Input(\"cumulative-dropdown\",\"value\"),\n",
    "    allow_duplicate=True\n",
    ")\n",
    "\n",
    "def Update_Cumulative(cumulative):\n",
    "    \n",
    "    if cumulative == \"Regular Season\":\n",
    "        total_range = 0 \n",
    "        lebron_range = lebron_shooting_totals_regular.max()[0]\n",
    "        jordan_range = jordan_shooting_totals_regular.max()[0]\n",
    "        if jordan_range > lebron_range:\n",
    "            total_range = jordan_range\n",
    "        else:\n",
    "            total_range = lebron_range\n",
    "            \n",
    "            \n",
    "        lebron_figure=px.bar(lebron_shooting_totals_regular,x=lebron_shooting_totals_regular.index,y=\"Total\",\n",
    "          title=\"Lebron's Cumulative Shooting Statistics\",\n",
    "          color_discrete_sequence =[[\"#552583\",\"#fdb927\",\"#552583\",\"#fdb927\",\"#552583\",\"#fdb927\"]]\n",
    "          ).update_layout(\n",
    "            paper_bgcolor=\"rgb(0,0,0,0.40)\",plot_bgcolor=\"rgb(0,0,0,0.40)\",font={'color':'white'},\n",
    "            yaxis_range=[0,total_range]\n",
    "        ).update_xaxes(\n",
    "        title=\"Statistical Category\",\n",
    "        tickvals=['fg','fga','three','threeatt','ft','fta'],\n",
    "        ticktext=['Field Goals','Field Goals Attempted',\"Three's\",\"Three's Attempted\",\n",
    "                  \"Free Throws\",'Free Throws Attempted'])\n",
    "        \n",
    "        jordan_figure=px.bar(jordan_shooting_totals_regular,x=jordan_shooting_totals_regular.index,y=\"Total\",\n",
    "          title=\"Jordan's Cumulative Shooting Statistics\",\n",
    "          color_discrete_sequence =[[\"#CE1141\",\"white\",\"#CE1141\",\"white\",\"#CE1141\",\"white\"]]\n",
    "          ).update_layout(\n",
    "            paper_bgcolor=\"rgb(0,0,0,0.40)\",plot_bgcolor=\"rgb(0,0,0,0.40)\",font={'color':'white'},\n",
    "            yaxis_range=[0,total_range]\n",
    "        ).update_xaxes(\n",
    "        title=\"Statistical Category\",\n",
    "        tickvals=['fg','fga','three','threeatt','ft','fta'],\n",
    "        ticktext=['Field Goals','Field Goals Attempted',\"Three's\",\"Three's Attempted\",\n",
    "                  \"Free Throws\",'Free Throws Attempted'])\n",
    "        \n",
    "        return lebron_figure,jordan_figure\n",
    "    \n",
    "    elif cumulative == \"Playoffs\":\n",
    "        total_range = 0 \n",
    "        lebron_range = lebron_shooting_totals_playoffs.max()[0]\n",
    "        jordan_range = jordan_shooting_totals_playoffs.max()[0]\n",
    "        if jordan_range > lebron_range:\n",
    "            total_range = jordan_range\n",
    "        else:\n",
    "            total_range = lebron_range\n",
    "            \n",
    "            \n",
    "        lebron_figure=px.bar(lebron_shooting_totals_playoffs,x=lebron_shooting_totals_playoffs.index,y=\"Total\",\n",
    "          title=\"Lebron's Cumulative Playoff Shooting Statistics\",\n",
    "          color_discrete_sequence =[[\"#552583\",\"#fdb927\",\"#552583\",\"#fdb927\",\"#552583\",\"#fdb927\"]]\n",
    "          ).update_layout(\n",
    "            paper_bgcolor=\"rgb(0,0,0,0.40)\",plot_bgcolor=\"rgb(0,0,0,0.40)\",font={'color':'white'},\n",
    "            yaxis_range=[0,total_range]\n",
    "        ).update_xaxes(\n",
    "        title=\"Statistical Category\",\n",
    "        tickvals=['fg','fga','three','threeatt','ft','fta'],\n",
    "        ticktext=['Field Goals','Field Goals Attempted',\"Three's\",\"Three's Attempted\",\n",
    "                  \"Free Throws\",'Free Throws Attempted'])\n",
    "        \n",
    "        jordan_figure=px.bar(jordan_shooting_totals_playoffs,x=jordan_shooting_totals_playoffs.index,y=\"Total\",\n",
    "          title=\"Jordan's Cumulative Shooting Playoff Statistics\",\n",
    "          color_discrete_sequence =[[\"#CE1141\",\"white\",\"#CE1141\",\"white\",\"#CE1141\",\"white\"]]\n",
    "          ).update_layout(\n",
    "            paper_bgcolor=\"rgb(0,0,0,0.40)\",plot_bgcolor=\"rgb(0,0,0,0.40)\",font={'color':'white'},\n",
    "            yaxis_range=[0,total_range]\n",
    "        ).update_xaxes(\n",
    "        title=\"Statistical Category\",\n",
    "        tickvals=['fg','fga','three','threeatt','ft','fta'],\n",
    "        ticktext=['Field Goals','Field Goals Attempted',\"Three's\",\"Three's Attempted\",\n",
    "                  \"Free Throws\",'Free Throws Attempted'])\n",
    "        \n",
    "        return lebron_figure,jordan_figure\n",
    "    \n",
    "    elif cumulative == \"NBA Finals\":\n",
    "        total_range = 0 \n",
    "        lebron_range = lebron_shooting_totals_finals.max()[0]\n",
    "        jordan_range = jordan_shooting_totals_finals.max()[0]\n",
    "        if jordan_range > lebron_range:\n",
    "            total_range = jordan_range\n",
    "        else:\n",
    "            total_range = lebron_range\n",
    "            \n",
    "            \n",
    "        lebron_figure=px.bar(lebron_shooting_totals_finals,x=lebron_shooting_totals_finals.index,y=\"Total\",\n",
    "          title=\"Lebron's Cumulative Finals Shooting Statistics\",\n",
    "          color_discrete_sequence =[[\"#552583\",\"#fdb927\",\"#552583\",\"#fdb927\",\"#552583\",\"#fdb927\"]]\n",
    "          ).update_layout(\n",
    "            paper_bgcolor=\"rgb(0,0,0,0.40)\",plot_bgcolor=\"rgb(0,0,0,0.40)\",font={'color':'white'},\n",
    "            yaxis_range=[0,total_range]\n",
    "        ).update_xaxes(\n",
    "        title=\"Statistical Category\",\n",
    "        tickvals=['fg','fga','three','threeatt','ft','fta'],\n",
    "        ticktext=['Field Goals','Field Goals Attempted',\"Three's\",\"Three's Attempted\",\n",
    "                  \"Free Throws\",'Free Throws Attempted'])\n",
    "        \n",
    "        jordan_figure=px.bar(jordan_shooting_totals_finals,x=jordan_shooting_totals_finals.index,y=\"Total\",\n",
    "          title=\"Jordan's Cumulative Shooting Finals Statistics\",\n",
    "          color_discrete_sequence =[[\"#CE1141\",\"white\",\"#CE1141\",\"white\",\"#CE1141\",\"white\"]]\n",
    "          ).update_layout(\n",
    "            paper_bgcolor=\"rgb(0,0,0,0.40)\",plot_bgcolor=\"rgb(0,0,0,0.40)\",font={'color':'white'},\n",
    "            yaxis_range=[0,total_range]\n",
    "        ).update_xaxes(\n",
    "        title=\"Statistical Category\",\n",
    "        tickvals=['fg','fga','three','threeatt','ft','fta'],\n",
    "        ticktext=['Field Goals','Field Goals Attempted',\"Three's\",\"Three's Attempted\",\n",
    "                  \"Free Throws\",'Free Throws Attempted'])\n",
    "        \n",
    "        return lebron_figure,jordan_figure\n",
    "\n",
    "@callback(\n",
    "    Output(\"lebron-stats-efficiency\",\"figure\"),\n",
    "    Output(\"jordan-stats-efficiency\",\"figure\"),\n",
    "    Input(\"season-dropdown\",\"value\"),\n",
    "    Input(\"efficiency-dropdown\",\"value\"),\n",
    "    allow_duplicate=True\n",
    ")\n",
    "\n",
    "def Update_Efficiency(season,efficiency):\n",
    "    if season == \"Regular Season\":\n",
    "        if efficiency == \"Field Goals\":\n",
    "            lbj_efficiency = lebron_regular_season[[\"Field Goals Made\",\"Field Goals Missed\"]].mean().to_frame()\n",
    "            lbj_efficiency.rename(columns={lbj_efficiency.columns[0]:\"Total\"},inplace=True)\n",
    "            lbj_figure=px.pie(lbj_efficiency,values=\"Total\",names=lbj_efficiency.index,\n",
    "                              title=\"Lebron's Field Goal Efficiency\",hole=.4,\n",
    "                              color_discrete_sequence=[\"#552583\",\"#fdb927\"]).update_layout(\n",
    "                    paper_bgcolor=\"rgb(0,0,0,0.40)\",plot_bgcolor=\"rgb(0,0,0,0.40)\",\n",
    "                font={'color':'white'}).update_traces(sort=False)\n",
    "\n",
    "            jordan_efficiency = jordan_regular_season[[\"Field Goals Made\",\"Field Goals Missed\"]].mean().to_frame()\n",
    "            jordan_efficiency.rename(columns={jordan_efficiency.columns[0]:\"Total\"},inplace=True)\n",
    "            jordan_figure=px.pie(jordan_efficiency,values=\"Total\",names=jordan_efficiency.index,\n",
    "                              title=\"Jordan's Field Goal Efficiency\",hole=.4,\n",
    "                              color_discrete_sequence=[\"#CE1141\",\"white\"]).update_layout(\n",
    "                    paper_bgcolor=\"rgb(0,0,0,0.40)\",plot_bgcolor=\"rgb(0,0,0,0.40)\",\n",
    "                font={'color':'white'}).update_traces(sort=False)\n",
    "\n",
    "            return lbj_figure,jordan_figure\n",
    "        \n",
    "        elif efficiency == \"Three Pointers\":\n",
    "            lbj_efficiency = lebron_regular_season[[\"Three Made\",\"Three Missed\"]].mean().to_frame()\n",
    "            lbj_efficiency.rename(columns={lbj_efficiency.columns[0]:\"Total\"},inplace=True)\n",
    "            lbj_figure=px.pie(lbj_efficiency,values=\"Total\",names=lbj_efficiency.index,\n",
    "                              title=\"Lebron's Three Point Efficiency\",hole=.4,\n",
    "                              color_discrete_sequence=[\"#552583\",\"#fdb927\"]).update_layout(\n",
    "                    paper_bgcolor=\"rgb(0,0,0,0.40)\",plot_bgcolor=\"rgb(0,0,0,0.40)\",\n",
    "                font={'color':'white'}).update_traces(sort=False)\n",
    "\n",
    "            jordan_efficiency = jordan_regular_season[[\"Three Made\",\"Three Missed\"]].mean().to_frame()\n",
    "            jordan_efficiency.rename(columns={jordan_efficiency.columns[0]:\"Total\"},inplace=True)\n",
    "            jordan_figure=px.pie(jordan_efficiency,values=\"Total\",names=jordan_efficiency.index,\n",
    "                              title=\"Jordan's Three Point Efficiency\",hole=.4,\n",
    "                              color_discrete_sequence=[\"#CE1141\",\"white\"]).update_layout(\n",
    "                    paper_bgcolor=\"rgb(0,0,0,0.40)\",plot_bgcolor=\"rgb(0,0,0,0.40)\",\n",
    "                font={'color':'white'}).update_traces(sort=False)\n",
    "            \n",
    "            return lbj_figure,jordan_figure\n",
    "        elif efficiency == \"Free Throws\":\n",
    "            lbj_efficiency = lebron_regular_season[[\"Free Throws Made\",\"Free Throws Missed\"]].mean().to_frame()\n",
    "            lbj_efficiency.rename(columns={lbj_efficiency.columns[0]:\"Total\"},inplace=True)\n",
    "            lbj_figure=px.pie(lbj_efficiency,values=\"Total\",names=lbj_efficiency.index,\n",
    "                              title=\"Lebron's Free Throw Efficiency\",hole=.4,\n",
    "                              color_discrete_sequence=[\"#552583\",\"#fdb927\"]).update_layout(\n",
    "                    paper_bgcolor=\"rgb(0,0,0,0.40)\",plot_bgcolor=\"rgb(0,0,0,0.40)\",\n",
    "                font={'color':'white'}).update_traces(sort=False)\n",
    "\n",
    "            jordan_efficiency = jordan_regular_season[[\"Free Throws Made\",\"Free Throws Missed\"]].mean().to_frame()\n",
    "            jordan_efficiency.rename(columns={jordan_efficiency.columns[0]:\"Total\"},inplace=True)\n",
    "            jordan_figure=px.pie(jordan_efficiency,values=\"Total\",names=jordan_efficiency.index,\n",
    "                              title=\"Jordan's Free Throw Efficiency\",hole=.4,\n",
    "                              color_discrete_sequence=[\"#CE1141\",\"white\"]).update_layout(\n",
    "                    paper_bgcolor=\"rgb(0,0,0,0.40)\",plot_bgcolor=\"rgb(0,0,0,0.40)\",\n",
    "                font={'color':'white'}).update_traces(sort=False)\n",
    "            \n",
    "            return lbj_figure,jordan_figure \n",
    "        \n",
    "    elif season == \"Playoffs\":\n",
    "        if efficiency == \"Field Goals\":\n",
    "            lbj_efficiency = lebron_playoffs[[\"Field Goals Made\",\"Field Goals Missed\"]].mean().to_frame()\n",
    "            lbj_efficiency.rename(columns={lbj_efficiency.columns[0]:\"Total\"},inplace=True)\n",
    "            lbj_figure=px.pie(lbj_efficiency,values=\"Total\",names=lbj_efficiency.index,\n",
    "                              title=\"Lebron's Field Goal Efficiency\",hole=.4,\n",
    "                              color_discrete_sequence=[\"#552583\",\"#fdb927\"]).update_layout(\n",
    "                    paper_bgcolor=\"rgb(0,0,0,0.40)\",plot_bgcolor=\"rgb(0,0,0,0.40)\",\n",
    "                font={'color':'white'}).update_traces(sort=False)\n",
    "\n",
    "            jordan_efficiency = jordan_playoffs[[\"Field Goals Made\",\"Field Goals Missed\"]].mean().to_frame()\n",
    "            jordan_efficiency.rename(columns={jordan_efficiency.columns[0]:\"Total\"},inplace=True)\n",
    "            jordan_figure=px.pie(jordan_efficiency,values=\"Total\",names=jordan_efficiency.index,\n",
    "                              title=\"Jordan's Field Goal Efficiency\",hole=.4,\n",
    "                              color_discrete_sequence=[\"#CE1141\",\"white\"]).update_layout(\n",
    "                    paper_bgcolor=\"rgb(0,0,0,0.40)\",plot_bgcolor=\"rgb(0,0,0,0.40)\",\n",
    "                font={'color':'white'}).update_traces(sort=False)\n",
    "\n",
    "            return lbj_figure,jordan_figure\n",
    "        \n",
    "        elif efficiency == \"Three Pointers\":\n",
    "            lbj_efficiency = lebron_playoffs[[\"Three Made\",\"Three Missed\"]].mean().to_frame()\n",
    "            lbj_efficiency.rename(columns={lbj_efficiency.columns[0]:\"Total\"},inplace=True)\n",
    "            lbj_figure=px.pie(lbj_efficiency,values=\"Total\",names=lbj_efficiency.index,\n",
    "                              title=\"Lebron's Three Point Efficiency\",hole=.4,\n",
    "                              color_discrete_sequence=[\"#552583\",\"#fdb927\"]).update_layout(\n",
    "                    paper_bgcolor=\"rgb(0,0,0,0.40)\",plot_bgcolor=\"rgb(0,0,0,0.40)\",\n",
    "                font={'color':'white'}).update_traces(sort=False)\n",
    "\n",
    "            jordan_efficiency = jordan_playoffs[[\"Three Made\",\"Three Missed\"]].mean().to_frame()\n",
    "            jordan_efficiency.rename(columns={jordan_efficiency.columns[0]:\"Total\"},inplace=True)\n",
    "            jordan_figure=px.pie(jordan_efficiency,values=\"Total\",names=jordan_efficiency.index,\n",
    "                              title=\"Jordan's Three Point Efficiency\",hole=.4,\n",
    "                              color_discrete_sequence=[\"#CE1141\",\"white\"]).update_layout(\n",
    "                    paper_bgcolor=\"rgb(0,0,0,0.40)\",plot_bgcolor=\"rgb(0,0,0,0.40)\",\n",
    "                font={'color':'white'}).update_traces(sort=False)\n",
    "            \n",
    "            return lbj_figure,jordan_figure\n",
    "        elif efficiency == \"Free Throws\":\n",
    "            lbj_efficiency = lebron_playoffs[[\"Free Throws Made\",\"Free Throws Missed\"]].mean().to_frame()\n",
    "            lbj_efficiency.rename(columns={lbj_efficiency.columns[0]:\"Total\"},inplace=True)\n",
    "            lbj_figure=px.pie(lbj_efficiency,values=\"Total\",names=lbj_efficiency.index,\n",
    "                              title=\"Lebron's Free Throws Efficiency\",hole=.4,\n",
    "                              color_discrete_sequence=[\"#552583\",\"#fdb927\"]).update_layout(\n",
    "                    paper_bgcolor=\"rgb(0,0,0,0.40)\",plot_bgcolor=\"rgb(0,0,0,0.40)\",\n",
    "                font={'color':'white'}).update_traces(sort=False)\n",
    "\n",
    "            jordan_efficiency = jordan_playoffs[[\"Free Throws Made\",\"Free Throws Missed\"]].mean().to_frame()\n",
    "            jordan_efficiency.rename(columns={jordan_efficiency.columns[0]:\"Total\"},inplace=True)\n",
    "            jordan_figure=px.pie(jordan_efficiency,values=\"Total\",names=jordan_efficiency.index,\n",
    "                              title=\"Jordan's Free Throw Efficiency\",hole=.4,\n",
    "                              color_discrete_sequence=[\"#CE1141\",\"white\"]).update_layout(\n",
    "                    paper_bgcolor=\"rgb(0,0,0,0.40)\",plot_bgcolor=\"rgb(0,0,0,0.40)\",\n",
    "                font={'color':'white'}).update_traces(sort=False)\n",
    "            \n",
    "            return lbj_figure,jordan_figure \n",
    "        \n",
    "    elif season == \"NBA Finals\":\n",
    "        if efficiency == \"Field Goals\":\n",
    "            lbj_efficiency = lebron_finals[[\"Field Goals Made\",\"Field Goals Missed\"]].mean().to_frame()\n",
    "            lbj_efficiency.rename(columns={lbj_efficiency.columns[0]:\"Total\"},inplace=True)\n",
    "            lbj_figure=px.pie(lbj_efficiency,values=\"Total\",names=lbj_efficiency.index,\n",
    "                              title=\"Lebron's Field Goal Efficiency\",hole=.4,\n",
    "                              color_discrete_sequence=[\"#552583\",\"#fdb927\"]).update_layout(\n",
    "                    paper_bgcolor=\"rgb(0,0,0,0.40)\",plot_bgcolor=\"rgb(0,0,0,0.40)\",\n",
    "                font={'color':'white'}).update_traces(sort=False)\n",
    "\n",
    "            jordan_efficiency = jordan_finals[[\"Field Goals Made\",\"Field Goals Missed\"]].mean().to_frame()\n",
    "            jordan_efficiency.rename(columns={jordan_efficiency.columns[0]:\"Total\"},inplace=True)\n",
    "            jordan_figure=px.pie(jordan_efficiency,values=\"Total\",names=jordan_efficiency.index,\n",
    "                              title=\"Jordan's Field Goal Efficiency\",hole=.4,\n",
    "                              color_discrete_sequence=[\"#CE1141\",\"white\"]).update_layout(\n",
    "                    paper_bgcolor=\"rgb(0,0,0,0.40)\",plot_bgcolor=\"rgb(0,0,0,0.40)\",\n",
    "                font={'color':'white'}).update_traces(sort=False)\n",
    "\n",
    "            return lbj_figure,jordan_figure\n",
    "        \n",
    "        elif efficiency == \"Three Pointers\":\n",
    "            lbj_efficiency = lebron_finals[[\"Three Made\",\"Three Missed\"]].mean().to_frame()\n",
    "            lbj_efficiency.rename(columns={lbj_efficiency.columns[0]:\"Total\"},inplace=True)\n",
    "            lbj_figure=px.pie(lbj_efficiency,values=\"Total\",names=lbj_efficiency.index,\n",
    "                              title=\"Lebron's Three Point Efficiency\",hole=.4,\n",
    "                              color_discrete_sequence=[\"#552583\",\"#fdb927\"]).update_layout(\n",
    "                    paper_bgcolor=\"rgb(0,0,0,0.40)\",plot_bgcolor=\"rgb(0,0,0,0.40)\",\n",
    "                font={'color':'white'}).update_traces(sort=False)\n",
    "\n",
    "            jordan_efficiency = jordan_finals[[\"Three Made\",\"Three Missed\"]].mean().to_frame()\n",
    "            jordan_efficiency.rename(columns={jordan_efficiency.columns[0]:\"Total\"},inplace=True)\n",
    "            jordan_figure=px.pie(jordan_efficiency,values=\"Total\",names=jordan_efficiency.index,\n",
    "                              title=\"Jordan's Three Point Efficiency\",hole=.4,\n",
    "                              color_discrete_sequence=[\"#CE1141\",\"white\"]).update_layout(\n",
    "                    paper_bgcolor=\"rgb(0,0,0,0.40)\",plot_bgcolor=\"rgb(0,0,0,0.40)\",\n",
    "                font={'color':'white'}).update_traces(sort=False)\n",
    "            \n",
    "            return lbj_figure,jordan_figure\n",
    "        elif efficiency == \"Free Throws\":\n",
    "            lbj_efficiency = lebron_finals[[\"Free Throws Made\",\"Free Throws Missed\"]].mean().to_frame()\n",
    "            lbj_efficiency.rename(columns={lbj_efficiency.columns[0]:\"Total\"},inplace=True)\n",
    "            lbj_figure=px.pie(lbj_efficiency,values=\"Total\",names=lbj_efficiency.index,\n",
    "                              title=\"Lebron's Free Throw Efficiency\",hole=.4,\n",
    "                              color_discrete_sequence=[\"#552583\",\"#fdb927\"]).update_layout(\n",
    "                    paper_bgcolor=\"rgb(0,0,0,0.40)\",plot_bgcolor=\"rgb(0,0,0,0.40)\",\n",
    "                font={'color':'white'}).update_traces(sort=False)\n",
    "\n",
    "            jordan_efficiency = jordan_finals[[\"Free Throws Made\",\"Free Throws Missed\"]].mean().to_frame()\n",
    "            jordan_efficiency.rename(columns={jordan_efficiency.columns[0]:\"Total\"},inplace=True)\n",
    "            jordan_figure=px.pie(jordan_efficiency,values=\"Total\",names=jordan_efficiency.index,\n",
    "                              title=\"Jordan's Free Throw Efficiency\",hole=.4,\n",
    "                              color_discrete_sequence=[\"#CE1141\",\"white\"]).update_layout(\n",
    "                    paper_bgcolor=\"rgb(0,0,0,0.40)\",plot_bgcolor=\"rgb(0,0,0,0.40)\",\n",
    "                font={'color':'white'}).update_traces(sort=False)\n",
    "            \n",
    "            return lbj_figure,jordan_figure \n",
    "    \n",
    "@callback(\n",
    "    Output(\"lebron-stats-total\",\"figure\"),\n",
    "    Output(\"jordan-stats-total\",\"figure\"),\n",
    "    Input(\"total-dropdown\",\"value\"),\n",
    "    allow_duplicate=True\n",
    ")\n",
    "def Update_Totals(value):\n",
    "    if value == \"Regular Season\":\n",
    "        \n",
    "        total_range = 0 \n",
    "        lebron_range = lebron_totals_regular.max()[0]\n",
    "        jordan_range = jordan_totals_regular.max()[0]\n",
    "        if jordan_range > lebron_range:\n",
    "            total_range = jordan_range\n",
    "        else:\n",
    "            total_range = lebron_range\n",
    "        \n",
    "        lebron_figure=px.bar(lebron_totals_regular,x=lebron_totals_regular.index,y=\"Total\",\n",
    "          title=\"Lebron's Total Regular Season Statistics\",\n",
    "          color_discrete_sequence =['#552583']*len(lebron_totals_regular)\n",
    "          ).update_layout(\n",
    "            paper_bgcolor=\"rgb(0,0,0,0.40)\",plot_bgcolor=\"rgb(0,0,0,0.40)\",font={'color':'white'},\n",
    "            yaxis_range=[0,total_range]\n",
    "        ).update_xaxes(\n",
    "        title=\"Statistical Category\",\n",
    "        tickvals=['pts','ast','trb','blk','stl','tov'],\n",
    "        ticktext=['Points','Assists','Rebounds','Blocks','Steals','Turnovers'])\n",
    "        \n",
    "        jordan_figure=px.bar(jordan_totals_regular,x=jordan_totals_regular.index,y=\"Total\",\n",
    "          title=\"Jordan's Total Regular Season Statistics\",\n",
    "          color_discrete_sequence =['#CE1141']*len(jordan_totals_regular)\n",
    "          ).update_layout(\n",
    "            paper_bgcolor=\"rgb(0,0,0,0.40)\",plot_bgcolor=\"rgb(0,0,0,0.40)\",font={'color':'white'},\n",
    "            yaxis_range=[0,total_range]\n",
    "        ).update_xaxes(\n",
    "        title=\"Statistical Category\",\n",
    "        tickvals=['pts','ast','trb','blk','stl','tov'],\n",
    "        ticktext=['Points','Assists','Rebounds','Blocks','Steals','Turnovers'])\n",
    "        return lebron_figure,jordan_figure\n",
    "    elif value == \"Playoffs\":\n",
    "        \n",
    "        total_range = 0 \n",
    "        lebron_range = lebron_totals_playoffs.max()[0]\n",
    "        jordan_range = jordan_totals_playoffs.max()[0]\n",
    "        if jordan_range > lebron_range:\n",
    "            total_range = jordan_range\n",
    "        else:\n",
    "            total_range = lebron_range\n",
    "            \n",
    "        lebron_figure=px.bar(lebron_totals_playoffs,x=lebron_totals_playoffs.index,y=\"Total\",\n",
    "          title=\"Lebron's Total Playoff Statistics\",\n",
    "          color_discrete_sequence =['#552583']*len(lebron_totals_playoffs)\n",
    "          ).update_layout(\n",
    "            paper_bgcolor=\"rgb(0,0,0,0.40)\",plot_bgcolor=\"rgb(0,0,0,0.40)\",font={'color':'white'},\n",
    "            yaxis_range=[0,total_range]\n",
    "        ).update_xaxes(\n",
    "        title=\"Statistical Category\",\n",
    "        tickvals=['pts','ast','trb','blk','stl','tov'],\n",
    "        ticktext=['Points','Assists','Rebounds','Blocks','Steals','Turnovers'])\n",
    "        \n",
    "        jordan_figure=px.bar(jordan_totals_playoffs,x=jordan_totals_playoffs.index,y=\"Total\",\n",
    "          title=\"Jordan's Total Playoff Statistics\",\n",
    "          color_discrete_sequence =['#CE1141']*len(jordan_totals_playoffs)\n",
    "          ).update_layout(\n",
    "            paper_bgcolor=\"rgb(0,0,0,0.40)\",plot_bgcolor=\"rgb(0,0,0,0.40)\",font={'color':'white'},\n",
    "            yaxis_range=[0,total_range]\n",
    "        ).update_xaxes(\n",
    "        title=\"Statistical Category\",\n",
    "        tickvals=['pts','ast','trb','blk','stl','tov'],\n",
    "        ticktext=['Points','Assists','Rebounds','Blocks','Steals','Turnovers'])\n",
    "        \n",
    "        return lebron_figure,jordan_figure\n",
    "    elif value == \"NBA Finals\":\n",
    "        \n",
    "        total_range = 0 \n",
    "        lebron_range = lebron_total_finals.max()[0]\n",
    "        jordan_range = jordan_total_finals.max()[0]\n",
    "        if jordan_range > lebron_range:\n",
    "            total_range = jordan_range\n",
    "        else:\n",
    "            total_range = lebron_range\n",
    "            \n",
    "        lebron_figure=px.bar(lebron_total_finals,x=lebron_total_finals.index,y=\"Total\",\n",
    "          title=\"Lebron's Total Finals Statistics\",\n",
    "          color_discrete_sequence =['#552583']*len(lebron_total_finals)\n",
    "          ).update_layout(\n",
    "            paper_bgcolor=\"rgb(0,0,0,0.40)\",plot_bgcolor=\"rgb(0,0,0,0.40)\",font={'color':'white'},\n",
    "            yaxis_range=[0,total_range]\n",
    "        ).update_xaxes(\n",
    "        title=\"Statistical Category\",\n",
    "        tickvals=['pts','ast','trb','blk','stl','tov'],\n",
    "        ticktext=['Points','Assists','Rebounds','Blocks','Steals','Turnovers'])\n",
    "        \n",
    "        jordan_figure=px.bar(jordan_total_finals,x=jordan_total_finals.index,y=\"Total\",\n",
    "          title=\"Jordan's Total Finals Statistics\",\n",
    "          color_discrete_sequence =['#CE1141']*len(jordan_total_finals)\n",
    "          ).update_layout(\n",
    "            paper_bgcolor=\"rgb(0,0,0,0.40)\",plot_bgcolor=\"rgb(0,0,0,0.40)\",font={'color':'white'},\n",
    "            yaxis_range=[0,total_range]\n",
    "        ).update_xaxes(\n",
    "        title=\"Statistical Category\",\n",
    "        tickvals=['pts','ast','trb','blk','stl','tov'],\n",
    "        ticktext=['Points','Assists','Rebounds','Blocks','Steals','Turnovers'])\n",
    "        \n",
    "        return lebron_figure,jordan_figure\n",
    "        \n",
    "@callback (\n",
    "    Output(\"lebron-stats-averages\",\"figure\"),\n",
    "    Output(\"jordan-stats-averages\",\"figure\"),\n",
    "    Input(\"averages-dropdown\",\"value\"),\n",
    "    allow_duplicate=True\n",
    ")\n",
    "\n",
    "def Update_Averages(value):\n",
    "    if value == \"Regular Season\":\n",
    "        \n",
    "        total_range = 0 \n",
    "        lebron_range = lebron_averages_regular.max()[0]\n",
    "        jordan_range = jordan_averages_regular.max()[0]\n",
    "        if jordan_range > lebron_range:\n",
    "            total_range = jordan_range\n",
    "        else:\n",
    "            total_range = lebron_range\n",
    "        \n",
    "        lebron_figure=px.bar(lebron_averages_regular,x=lebron_averages_regular.index,y=\"Total\",\n",
    "          title=\"Lebron's Average Regular Season Statistics\",\n",
    "          color_discrete_sequence =['#552583']*len(lebron_averages_regular)\n",
    "          ).update_layout(\n",
    "            paper_bgcolor=\"rgb(0,0,0,0.40)\",plot_bgcolor=\"rgb(0,0,0,0.40)\",font={'color':'white'},\n",
    "            yaxis_range=[0,total_range]\n",
    "        ).update_xaxes(\n",
    "        title=\"Statistical Category\",\n",
    "        tickvals=['pts','ast','trb','blk','stl','tov'],\n",
    "        ticktext=['Points','Assists','Rebounds','Blocks','Steals','Turnovers'])\n",
    "        \n",
    "        jordan_figure=px.bar(jordan_averages_regular,x=jordan_averages_regular.index,y=\"Total\",\n",
    "          title=\"Jordan's Average Regular Season Statistics\",\n",
    "          color_discrete_sequence =['#CE1141']*len(jordan_averages_regular)\n",
    "          ).update_layout(\n",
    "            paper_bgcolor=\"rgb(0,0,0,0.40)\",plot_bgcolor=\"rgb(0,0,0,0.40)\",font={'color':'white'},\n",
    "            yaxis_range=[0,total_range]\n",
    "        ).update_xaxes(\n",
    "        title=\"Statistical Category\",\n",
    "        tickvals=['pts','ast','trb','blk','stl','tov'],\n",
    "        ticktext=['Points','Assists','Rebounds','Blocks','Steals','Turnovers'])\n",
    "        return lebron_figure,jordan_figure\n",
    "    elif value == \"Playoffs\":\n",
    "        \n",
    "        total_range = 0 \n",
    "        lebron_range = lebron_averages_playoffs.max()[0]\n",
    "        jordan_range = jordan_averages_playoffs.max()[0]\n",
    "        if jordan_range > lebron_range:\n",
    "            total_range = jordan_range\n",
    "        else:\n",
    "            total_range = lebron_range\n",
    "            \n",
    "        lebron_figure=px.bar(lebron_averages_playoffs,x=lebron_averages_playoffs.index,y=\"Total\",\n",
    "          title=\"Lebron's Average Playoff Statistics\",\n",
    "          color_discrete_sequence =['#552583']*len(lebron_averages_playoffs)\n",
    "          ).update_layout(\n",
    "            paper_bgcolor=\"rgb(0,0,0,0.40)\",plot_bgcolor=\"rgb(0,0,0,0.40)\",font={'color':'white'},\n",
    "            yaxis_range=[0,total_range]\n",
    "        ).update_xaxes(\n",
    "        title=\"Statistical Category\",\n",
    "        tickvals=['pts','ast','trb','blk','stl','tov'],\n",
    "        ticktext=['Points','Assists','Rebounds','Blocks','Steals','Turnovers'])\n",
    "        \n",
    "        jordan_figure=px.bar(jordan_averages_playoffs,x=jordan_averages_playoffs.index,y=\"Total\",\n",
    "          title=\"Jordan's Average Playoff Statistics\",\n",
    "          color_discrete_sequence =['#CE1141']*len(jordan_averages_playoffs)\n",
    "          ).update_layout(\n",
    "            paper_bgcolor=\"rgb(0,0,0,0.40)\",plot_bgcolor=\"rgb(0,0,0,0.40)\",font={'color':'white'},\n",
    "            yaxis_range=[0,total_range]\n",
    "        ).update_xaxes(\n",
    "        title=\"Statistical Category\",\n",
    "        tickvals=['pts','ast','trb','blk','stl','tov'],\n",
    "        ticktext=['Points','Assists','Rebounds','Blocks','Steals','Turnovers'])\n",
    "        \n",
    "        return lebron_figure,jordan_figure\n",
    "    elif value == \"NBA Finals\":\n",
    "        \n",
    "        total_range = 0 \n",
    "        lebron_range = lebron_averages_finals.max()[0]\n",
    "        jordan_range = jordan_averages_finals.max()[0]\n",
    "        if jordan_range > lebron_range:\n",
    "            total_range = jordan_range\n",
    "        else:\n",
    "            total_range = lebron_range\n",
    "            \n",
    "        lebron_figure=px.bar(lebron_averages_finals,x=lebron_averages_finals.index,y=\"Total\",\n",
    "          title=\"Lebron's Average Finals Statistics\",\n",
    "          color_discrete_sequence =['#552583']*len(lebron_averages_finals)\n",
    "          ).update_layout(\n",
    "            paper_bgcolor=\"rgb(0,0,0,0.40)\",plot_bgcolor=\"rgb(0,0,0,0.40)\",font={'color':'white'},\n",
    "            yaxis_range=[0,total_range]\n",
    "        ).update_xaxes(\n",
    "        title=\"Statistical Category\",\n",
    "        tickvals=['pts','ast','trb','blk','stl','tov'],\n",
    "        ticktext=['Points','Assists','Rebounds','Blocks','Steals','Turnovers'])\n",
    "        \n",
    "        jordan_figure=px.bar(jordan_averages_finals,x=jordan_averages_finals.index,y=\"Total\",\n",
    "          title=\"Jordan's Average Finals Statistics\",\n",
    "          color_discrete_sequence =['#CE1141']*len(jordan_averages_finals)\n",
    "          ).update_layout(\n",
    "            paper_bgcolor=\"rgb(0,0,0,0.40)\",plot_bgcolor=\"rgb(0,0,0,0.40)\",font={'color':'white'},\n",
    "            yaxis_range=[0,total_range]\n",
    "        ).update_xaxes(\n",
    "        title=\"Statistical Category\",\n",
    "        tickvals=['pts','ast','trb','blk','stl','tov'],\n",
    "        ticktext=['Points','Assists','Rebounds','Blocks','Steals','Turnovers'])\n",
    "        \n",
    "        return lebron_figure,jordan_figure\n",
    "    \n",
    "app.run_server(debug=True,port=8050) "
   ]
  },
  {
   "cell_type": "code",
   "execution_count": 103,
   "id": "588f67a3",
   "metadata": {},
   "outputs": [
    {
     "data": {
      "application/vnd.plotly.v1+json": {
       "config": {
        "plotlyServerURL": "https://plot.ly"
       },
       "data": [
        {
         "alignmentgroup": "True",
         "hovertemplate": "index=%{x}<br>Total=%{y}<extra></extra>",
         "legendgroup": "",
         "marker": {
          "color": [
           "#552583",
           "#fdb927",
           "#552583",
           "#fdb927",
           "#552583",
           "#fdb927"
          ],
          "pattern": {
           "shape": ""
          }
         },
         "name": "",
         "offsetgroup": "",
         "orientation": "v",
         "showlegend": false,
         "textposition": "auto",
         "type": "bar",
         "x": [
          "fg",
          "fga",
          "three",
          "threeatt",
          "ft",
          "fta"
         ],
         "xaxis": "x",
         "y": [
          12481,
          24781,
          1875,
          5453,
          7404,
          10082
         ],
         "yaxis": "y"
        }
       ],
       "layout": {
        "barmode": "relative",
        "font": {
         "color": "white"
        },
        "legend": {
         "tracegroupgap": 0
        },
        "paper_bgcolor": "rgb(0,0,0,0.40)",
        "plot_bgcolor": "rgb(0,0,0,0.40)",
        "template": {
         "data": {
          "bar": [
           {
            "error_x": {
             "color": "#2a3f5f"
            },
            "error_y": {
             "color": "#2a3f5f"
            },
            "marker": {
             "line": {
              "color": "#E5ECF6",
              "width": 0.5
             },
             "pattern": {
              "fillmode": "overlay",
              "size": 10,
              "solidity": 0.2
             }
            },
            "type": "bar"
           }
          ],
          "barpolar": [
           {
            "marker": {
             "line": {
              "color": "#E5ECF6",
              "width": 0.5
             },
             "pattern": {
              "fillmode": "overlay",
              "size": 10,
              "solidity": 0.2
             }
            },
            "type": "barpolar"
           }
          ],
          "carpet": [
           {
            "aaxis": {
             "endlinecolor": "#2a3f5f",
             "gridcolor": "white",
             "linecolor": "white",
             "minorgridcolor": "white",
             "startlinecolor": "#2a3f5f"
            },
            "baxis": {
             "endlinecolor": "#2a3f5f",
             "gridcolor": "white",
             "linecolor": "white",
             "minorgridcolor": "white",
             "startlinecolor": "#2a3f5f"
            },
            "type": "carpet"
           }
          ],
          "choropleth": [
           {
            "colorbar": {
             "outlinewidth": 0,
             "ticks": ""
            },
            "type": "choropleth"
           }
          ],
          "contour": [
           {
            "colorbar": {
             "outlinewidth": 0,
             "ticks": ""
            },
            "colorscale": [
             [
              0,
              "#0d0887"
             ],
             [
              0.1111111111111111,
              "#46039f"
             ],
             [
              0.2222222222222222,
              "#7201a8"
             ],
             [
              0.3333333333333333,
              "#9c179e"
             ],
             [
              0.4444444444444444,
              "#bd3786"
             ],
             [
              0.5555555555555556,
              "#d8576b"
             ],
             [
              0.6666666666666666,
              "#ed7953"
             ],
             [
              0.7777777777777778,
              "#fb9f3a"
             ],
             [
              0.8888888888888888,
              "#fdca26"
             ],
             [
              1,
              "#f0f921"
             ]
            ],
            "type": "contour"
           }
          ],
          "contourcarpet": [
           {
            "colorbar": {
             "outlinewidth": 0,
             "ticks": ""
            },
            "type": "contourcarpet"
           }
          ],
          "heatmap": [
           {
            "colorbar": {
             "outlinewidth": 0,
             "ticks": ""
            },
            "colorscale": [
             [
              0,
              "#0d0887"
             ],
             [
              0.1111111111111111,
              "#46039f"
             ],
             [
              0.2222222222222222,
              "#7201a8"
             ],
             [
              0.3333333333333333,
              "#9c179e"
             ],
             [
              0.4444444444444444,
              "#bd3786"
             ],
             [
              0.5555555555555556,
              "#d8576b"
             ],
             [
              0.6666666666666666,
              "#ed7953"
             ],
             [
              0.7777777777777778,
              "#fb9f3a"
             ],
             [
              0.8888888888888888,
              "#fdca26"
             ],
             [
              1,
              "#f0f921"
             ]
            ],
            "type": "heatmap"
           }
          ],
          "heatmapgl": [
           {
            "colorbar": {
             "outlinewidth": 0,
             "ticks": ""
            },
            "colorscale": [
             [
              0,
              "#0d0887"
             ],
             [
              0.1111111111111111,
              "#46039f"
             ],
             [
              0.2222222222222222,
              "#7201a8"
             ],
             [
              0.3333333333333333,
              "#9c179e"
             ],
             [
              0.4444444444444444,
              "#bd3786"
             ],
             [
              0.5555555555555556,
              "#d8576b"
             ],
             [
              0.6666666666666666,
              "#ed7953"
             ],
             [
              0.7777777777777778,
              "#fb9f3a"
             ],
             [
              0.8888888888888888,
              "#fdca26"
             ],
             [
              1,
              "#f0f921"
             ]
            ],
            "type": "heatmapgl"
           }
          ],
          "histogram": [
           {
            "marker": {
             "pattern": {
              "fillmode": "overlay",
              "size": 10,
              "solidity": 0.2
             }
            },
            "type": "histogram"
           }
          ],
          "histogram2d": [
           {
            "colorbar": {
             "outlinewidth": 0,
             "ticks": ""
            },
            "colorscale": [
             [
              0,
              "#0d0887"
             ],
             [
              0.1111111111111111,
              "#46039f"
             ],
             [
              0.2222222222222222,
              "#7201a8"
             ],
             [
              0.3333333333333333,
              "#9c179e"
             ],
             [
              0.4444444444444444,
              "#bd3786"
             ],
             [
              0.5555555555555556,
              "#d8576b"
             ],
             [
              0.6666666666666666,
              "#ed7953"
             ],
             [
              0.7777777777777778,
              "#fb9f3a"
             ],
             [
              0.8888888888888888,
              "#fdca26"
             ],
             [
              1,
              "#f0f921"
             ]
            ],
            "type": "histogram2d"
           }
          ],
          "histogram2dcontour": [
           {
            "colorbar": {
             "outlinewidth": 0,
             "ticks": ""
            },
            "colorscale": [
             [
              0,
              "#0d0887"
             ],
             [
              0.1111111111111111,
              "#46039f"
             ],
             [
              0.2222222222222222,
              "#7201a8"
             ],
             [
              0.3333333333333333,
              "#9c179e"
             ],
             [
              0.4444444444444444,
              "#bd3786"
             ],
             [
              0.5555555555555556,
              "#d8576b"
             ],
             [
              0.6666666666666666,
              "#ed7953"
             ],
             [
              0.7777777777777778,
              "#fb9f3a"
             ],
             [
              0.8888888888888888,
              "#fdca26"
             ],
             [
              1,
              "#f0f921"
             ]
            ],
            "type": "histogram2dcontour"
           }
          ],
          "mesh3d": [
           {
            "colorbar": {
             "outlinewidth": 0,
             "ticks": ""
            },
            "type": "mesh3d"
           }
          ],
          "parcoords": [
           {
            "line": {
             "colorbar": {
              "outlinewidth": 0,
              "ticks": ""
             }
            },
            "type": "parcoords"
           }
          ],
          "pie": [
           {
            "automargin": true,
            "type": "pie"
           }
          ],
          "scatter": [
           {
            "fillpattern": {
             "fillmode": "overlay",
             "size": 10,
             "solidity": 0.2
            },
            "type": "scatter"
           }
          ],
          "scatter3d": [
           {
            "line": {
             "colorbar": {
              "outlinewidth": 0,
              "ticks": ""
             }
            },
            "marker": {
             "colorbar": {
              "outlinewidth": 0,
              "ticks": ""
             }
            },
            "type": "scatter3d"
           }
          ],
          "scattercarpet": [
           {
            "marker": {
             "colorbar": {
              "outlinewidth": 0,
              "ticks": ""
             }
            },
            "type": "scattercarpet"
           }
          ],
          "scattergeo": [
           {
            "marker": {
             "colorbar": {
              "outlinewidth": 0,
              "ticks": ""
             }
            },
            "type": "scattergeo"
           }
          ],
          "scattergl": [
           {
            "marker": {
             "colorbar": {
              "outlinewidth": 0,
              "ticks": ""
             }
            },
            "type": "scattergl"
           }
          ],
          "scattermapbox": [
           {
            "marker": {
             "colorbar": {
              "outlinewidth": 0,
              "ticks": ""
             }
            },
            "type": "scattermapbox"
           }
          ],
          "scatterpolar": [
           {
            "marker": {
             "colorbar": {
              "outlinewidth": 0,
              "ticks": ""
             }
            },
            "type": "scatterpolar"
           }
          ],
          "scatterpolargl": [
           {
            "marker": {
             "colorbar": {
              "outlinewidth": 0,
              "ticks": ""
             }
            },
            "type": "scatterpolargl"
           }
          ],
          "scatterternary": [
           {
            "marker": {
             "colorbar": {
              "outlinewidth": 0,
              "ticks": ""
             }
            },
            "type": "scatterternary"
           }
          ],
          "surface": [
           {
            "colorbar": {
             "outlinewidth": 0,
             "ticks": ""
            },
            "colorscale": [
             [
              0,
              "#0d0887"
             ],
             [
              0.1111111111111111,
              "#46039f"
             ],
             [
              0.2222222222222222,
              "#7201a8"
             ],
             [
              0.3333333333333333,
              "#9c179e"
             ],
             [
              0.4444444444444444,
              "#bd3786"
             ],
             [
              0.5555555555555556,
              "#d8576b"
             ],
             [
              0.6666666666666666,
              "#ed7953"
             ],
             [
              0.7777777777777778,
              "#fb9f3a"
             ],
             [
              0.8888888888888888,
              "#fdca26"
             ],
             [
              1,
              "#f0f921"
             ]
            ],
            "type": "surface"
           }
          ],
          "table": [
           {
            "cells": {
             "fill": {
              "color": "#EBF0F8"
             },
             "line": {
              "color": "white"
             }
            },
            "header": {
             "fill": {
              "color": "#C8D4E3"
             },
             "line": {
              "color": "white"
             }
            },
            "type": "table"
           }
          ]
         },
         "layout": {
          "annotationdefaults": {
           "arrowcolor": "#2a3f5f",
           "arrowhead": 0,
           "arrowwidth": 1
          },
          "autotypenumbers": "strict",
          "coloraxis": {
           "colorbar": {
            "outlinewidth": 0,
            "ticks": ""
           }
          },
          "colorscale": {
           "diverging": [
            [
             0,
             "#8e0152"
            ],
            [
             0.1,
             "#c51b7d"
            ],
            [
             0.2,
             "#de77ae"
            ],
            [
             0.3,
             "#f1b6da"
            ],
            [
             0.4,
             "#fde0ef"
            ],
            [
             0.5,
             "#f7f7f7"
            ],
            [
             0.6,
             "#e6f5d0"
            ],
            [
             0.7,
             "#b8e186"
            ],
            [
             0.8,
             "#7fbc41"
            ],
            [
             0.9,
             "#4d9221"
            ],
            [
             1,
             "#276419"
            ]
           ],
           "sequential": [
            [
             0,
             "#0d0887"
            ],
            [
             0.1111111111111111,
             "#46039f"
            ],
            [
             0.2222222222222222,
             "#7201a8"
            ],
            [
             0.3333333333333333,
             "#9c179e"
            ],
            [
             0.4444444444444444,
             "#bd3786"
            ],
            [
             0.5555555555555556,
             "#d8576b"
            ],
            [
             0.6666666666666666,
             "#ed7953"
            ],
            [
             0.7777777777777778,
             "#fb9f3a"
            ],
            [
             0.8888888888888888,
             "#fdca26"
            ],
            [
             1,
             "#f0f921"
            ]
           ],
           "sequentialminus": [
            [
             0,
             "#0d0887"
            ],
            [
             0.1111111111111111,
             "#46039f"
            ],
            [
             0.2222222222222222,
             "#7201a8"
            ],
            [
             0.3333333333333333,
             "#9c179e"
            ],
            [
             0.4444444444444444,
             "#bd3786"
            ],
            [
             0.5555555555555556,
             "#d8576b"
            ],
            [
             0.6666666666666666,
             "#ed7953"
            ],
            [
             0.7777777777777778,
             "#fb9f3a"
            ],
            [
             0.8888888888888888,
             "#fdca26"
            ],
            [
             1,
             "#f0f921"
            ]
           ]
          },
          "colorway": [
           "#636efa",
           "#EF553B",
           "#00cc96",
           "#ab63fa",
           "#FFA15A",
           "#19d3f3",
           "#FF6692",
           "#B6E880",
           "#FF97FF",
           "#FECB52"
          ],
          "font": {
           "color": "#2a3f5f"
          },
          "geo": {
           "bgcolor": "white",
           "lakecolor": "white",
           "landcolor": "#E5ECF6",
           "showlakes": true,
           "showland": true,
           "subunitcolor": "white"
          },
          "hoverlabel": {
           "align": "left"
          },
          "hovermode": "closest",
          "mapbox": {
           "style": "light"
          },
          "paper_bgcolor": "white",
          "plot_bgcolor": "#E5ECF6",
          "polar": {
           "angularaxis": {
            "gridcolor": "white",
            "linecolor": "white",
            "ticks": ""
           },
           "bgcolor": "#E5ECF6",
           "radialaxis": {
            "gridcolor": "white",
            "linecolor": "white",
            "ticks": ""
           }
          },
          "scene": {
           "xaxis": {
            "backgroundcolor": "#E5ECF6",
            "gridcolor": "white",
            "gridwidth": 2,
            "linecolor": "white",
            "showbackground": true,
            "ticks": "",
            "zerolinecolor": "white"
           },
           "yaxis": {
            "backgroundcolor": "#E5ECF6",
            "gridcolor": "white",
            "gridwidth": 2,
            "linecolor": "white",
            "showbackground": true,
            "ticks": "",
            "zerolinecolor": "white"
           },
           "zaxis": {
            "backgroundcolor": "#E5ECF6",
            "gridcolor": "white",
            "gridwidth": 2,
            "linecolor": "white",
            "showbackground": true,
            "ticks": "",
            "zerolinecolor": "white"
           }
          },
          "shapedefaults": {
           "line": {
            "color": "#2a3f5f"
           }
          },
          "ternary": {
           "aaxis": {
            "gridcolor": "white",
            "linecolor": "white",
            "ticks": ""
           },
           "baxis": {
            "gridcolor": "white",
            "linecolor": "white",
            "ticks": ""
           },
           "bgcolor": "#E5ECF6",
           "caxis": {
            "gridcolor": "white",
            "linecolor": "white",
            "ticks": ""
           }
          },
          "title": {
           "x": 0.05
          },
          "xaxis": {
           "automargin": true,
           "gridcolor": "white",
           "linecolor": "white",
           "ticks": "",
           "title": {
            "standoff": 15
           },
           "zerolinecolor": "white",
           "zerolinewidth": 2
          },
          "yaxis": {
           "automargin": true,
           "gridcolor": "white",
           "linecolor": "white",
           "ticks": "",
           "title": {
            "standoff": 15
           },
           "zerolinecolor": "white",
           "zerolinewidth": 2
          }
         }
        },
        "title": {
         "text": "Lebron's Total Finals Statistics"
        },
        "xaxis": {
         "anchor": "y",
         "domain": [
          0,
          1
         ],
         "ticktext": [
          "Field Goals",
          "Field Goals Attempted",
          "Three's",
          "Three's Attempted",
          "Free Throws",
          "Free Throws Attempted"
         ],
         "tickvals": [
          "fg",
          "fga",
          "three",
          "threeatt",
          "ft",
          "fta"
         ],
         "title": {
          "text": "Statistical Category"
         }
        },
        "yaxis": {
         "anchor": "x",
         "domain": [
          0,
          1
         ],
         "title": {
          "text": "Total"
         }
        }
       }
      },
      "text/html": [
       "<div>                            <div id=\"304a7c0e-2a3e-48ed-8afa-62bd6a299527\" class=\"plotly-graph-div\" style=\"height:525px; width:100%;\"></div>            <script type=\"text/javascript\">                require([\"plotly\"], function(Plotly) {                    window.PLOTLYENV=window.PLOTLYENV || {};                                    if (document.getElementById(\"304a7c0e-2a3e-48ed-8afa-62bd6a299527\")) {                    Plotly.newPlot(                        \"304a7c0e-2a3e-48ed-8afa-62bd6a299527\",                        [{\"alignmentgroup\":\"True\",\"hovertemplate\":\"index=%{x}<br>Total=%{y}<extra></extra>\",\"legendgroup\":\"\",\"marker\":{\"color\":[\"#552583\",\"#fdb927\",\"#552583\",\"#fdb927\",\"#552583\",\"#fdb927\"],\"pattern\":{\"shape\":\"\"}},\"name\":\"\",\"offsetgroup\":\"\",\"orientation\":\"v\",\"showlegend\":false,\"textposition\":\"auto\",\"x\":[\"fg\",\"fga\",\"three\",\"threeatt\",\"ft\",\"fta\"],\"xaxis\":\"x\",\"y\":[12481,24781,1875,5453,7404,10082],\"yaxis\":\"y\",\"type\":\"bar\"}],                        {\"template\":{\"data\":{\"histogram2dcontour\":[{\"type\":\"histogram2dcontour\",\"colorbar\":{\"outlinewidth\":0,\"ticks\":\"\"},\"colorscale\":[[0.0,\"#0d0887\"],[0.1111111111111111,\"#46039f\"],[0.2222222222222222,\"#7201a8\"],[0.3333333333333333,\"#9c179e\"],[0.4444444444444444,\"#bd3786\"],[0.5555555555555556,\"#d8576b\"],[0.6666666666666666,\"#ed7953\"],[0.7777777777777778,\"#fb9f3a\"],[0.8888888888888888,\"#fdca26\"],[1.0,\"#f0f921\"]]}],\"choropleth\":[{\"type\":\"choropleth\",\"colorbar\":{\"outlinewidth\":0,\"ticks\":\"\"}}],\"histogram2d\":[{\"type\":\"histogram2d\",\"colorbar\":{\"outlinewidth\":0,\"ticks\":\"\"},\"colorscale\":[[0.0,\"#0d0887\"],[0.1111111111111111,\"#46039f\"],[0.2222222222222222,\"#7201a8\"],[0.3333333333333333,\"#9c179e\"],[0.4444444444444444,\"#bd3786\"],[0.5555555555555556,\"#d8576b\"],[0.6666666666666666,\"#ed7953\"],[0.7777777777777778,\"#fb9f3a\"],[0.8888888888888888,\"#fdca26\"],[1.0,\"#f0f921\"]]}],\"heatmap\":[{\"type\":\"heatmap\",\"colorbar\":{\"outlinewidth\":0,\"ticks\":\"\"},\"colorscale\":[[0.0,\"#0d0887\"],[0.1111111111111111,\"#46039f\"],[0.2222222222222222,\"#7201a8\"],[0.3333333333333333,\"#9c179e\"],[0.4444444444444444,\"#bd3786\"],[0.5555555555555556,\"#d8576b\"],[0.6666666666666666,\"#ed7953\"],[0.7777777777777778,\"#fb9f3a\"],[0.8888888888888888,\"#fdca26\"],[1.0,\"#f0f921\"]]}],\"heatmapgl\":[{\"type\":\"heatmapgl\",\"colorbar\":{\"outlinewidth\":0,\"ticks\":\"\"},\"colorscale\":[[0.0,\"#0d0887\"],[0.1111111111111111,\"#46039f\"],[0.2222222222222222,\"#7201a8\"],[0.3333333333333333,\"#9c179e\"],[0.4444444444444444,\"#bd3786\"],[0.5555555555555556,\"#d8576b\"],[0.6666666666666666,\"#ed7953\"],[0.7777777777777778,\"#fb9f3a\"],[0.8888888888888888,\"#fdca26\"],[1.0,\"#f0f921\"]]}],\"contourcarpet\":[{\"type\":\"contourcarpet\",\"colorbar\":{\"outlinewidth\":0,\"ticks\":\"\"}}],\"contour\":[{\"type\":\"contour\",\"colorbar\":{\"outlinewidth\":0,\"ticks\":\"\"},\"colorscale\":[[0.0,\"#0d0887\"],[0.1111111111111111,\"#46039f\"],[0.2222222222222222,\"#7201a8\"],[0.3333333333333333,\"#9c179e\"],[0.4444444444444444,\"#bd3786\"],[0.5555555555555556,\"#d8576b\"],[0.6666666666666666,\"#ed7953\"],[0.7777777777777778,\"#fb9f3a\"],[0.8888888888888888,\"#fdca26\"],[1.0,\"#f0f921\"]]}],\"surface\":[{\"type\":\"surface\",\"colorbar\":{\"outlinewidth\":0,\"ticks\":\"\"},\"colorscale\":[[0.0,\"#0d0887\"],[0.1111111111111111,\"#46039f\"],[0.2222222222222222,\"#7201a8\"],[0.3333333333333333,\"#9c179e\"],[0.4444444444444444,\"#bd3786\"],[0.5555555555555556,\"#d8576b\"],[0.6666666666666666,\"#ed7953\"],[0.7777777777777778,\"#fb9f3a\"],[0.8888888888888888,\"#fdca26\"],[1.0,\"#f0f921\"]]}],\"mesh3d\":[{\"type\":\"mesh3d\",\"colorbar\":{\"outlinewidth\":0,\"ticks\":\"\"}}],\"scatter\":[{\"fillpattern\":{\"fillmode\":\"overlay\",\"size\":10,\"solidity\":0.2},\"type\":\"scatter\"}],\"parcoords\":[{\"type\":\"parcoords\",\"line\":{\"colorbar\":{\"outlinewidth\":0,\"ticks\":\"\"}}}],\"scatterpolargl\":[{\"type\":\"scatterpolargl\",\"marker\":{\"colorbar\":{\"outlinewidth\":0,\"ticks\":\"\"}}}],\"bar\":[{\"error_x\":{\"color\":\"#2a3f5f\"},\"error_y\":{\"color\":\"#2a3f5f\"},\"marker\":{\"line\":{\"color\":\"#E5ECF6\",\"width\":0.5},\"pattern\":{\"fillmode\":\"overlay\",\"size\":10,\"solidity\":0.2}},\"type\":\"bar\"}],\"scattergeo\":[{\"type\":\"scattergeo\",\"marker\":{\"colorbar\":{\"outlinewidth\":0,\"ticks\":\"\"}}}],\"scatterpolar\":[{\"type\":\"scatterpolar\",\"marker\":{\"colorbar\":{\"outlinewidth\":0,\"ticks\":\"\"}}}],\"histogram\":[{\"marker\":{\"pattern\":{\"fillmode\":\"overlay\",\"size\":10,\"solidity\":0.2}},\"type\":\"histogram\"}],\"scattergl\":[{\"type\":\"scattergl\",\"marker\":{\"colorbar\":{\"outlinewidth\":0,\"ticks\":\"\"}}}],\"scatter3d\":[{\"type\":\"scatter3d\",\"line\":{\"colorbar\":{\"outlinewidth\":0,\"ticks\":\"\"}},\"marker\":{\"colorbar\":{\"outlinewidth\":0,\"ticks\":\"\"}}}],\"scattermapbox\":[{\"type\":\"scattermapbox\",\"marker\":{\"colorbar\":{\"outlinewidth\":0,\"ticks\":\"\"}}}],\"scatterternary\":[{\"type\":\"scatterternary\",\"marker\":{\"colorbar\":{\"outlinewidth\":0,\"ticks\":\"\"}}}],\"scattercarpet\":[{\"type\":\"scattercarpet\",\"marker\":{\"colorbar\":{\"outlinewidth\":0,\"ticks\":\"\"}}}],\"carpet\":[{\"aaxis\":{\"endlinecolor\":\"#2a3f5f\",\"gridcolor\":\"white\",\"linecolor\":\"white\",\"minorgridcolor\":\"white\",\"startlinecolor\":\"#2a3f5f\"},\"baxis\":{\"endlinecolor\":\"#2a3f5f\",\"gridcolor\":\"white\",\"linecolor\":\"white\",\"minorgridcolor\":\"white\",\"startlinecolor\":\"#2a3f5f\"},\"type\":\"carpet\"}],\"table\":[{\"cells\":{\"fill\":{\"color\":\"#EBF0F8\"},\"line\":{\"color\":\"white\"}},\"header\":{\"fill\":{\"color\":\"#C8D4E3\"},\"line\":{\"color\":\"white\"}},\"type\":\"table\"}],\"barpolar\":[{\"marker\":{\"line\":{\"color\":\"#E5ECF6\",\"width\":0.5},\"pattern\":{\"fillmode\":\"overlay\",\"size\":10,\"solidity\":0.2}},\"type\":\"barpolar\"}],\"pie\":[{\"automargin\":true,\"type\":\"pie\"}]},\"layout\":{\"autotypenumbers\":\"strict\",\"colorway\":[\"#636efa\",\"#EF553B\",\"#00cc96\",\"#ab63fa\",\"#FFA15A\",\"#19d3f3\",\"#FF6692\",\"#B6E880\",\"#FF97FF\",\"#FECB52\"],\"font\":{\"color\":\"#2a3f5f\"},\"hovermode\":\"closest\",\"hoverlabel\":{\"align\":\"left\"},\"paper_bgcolor\":\"white\",\"plot_bgcolor\":\"#E5ECF6\",\"polar\":{\"bgcolor\":\"#E5ECF6\",\"angularaxis\":{\"gridcolor\":\"white\",\"linecolor\":\"white\",\"ticks\":\"\"},\"radialaxis\":{\"gridcolor\":\"white\",\"linecolor\":\"white\",\"ticks\":\"\"}},\"ternary\":{\"bgcolor\":\"#E5ECF6\",\"aaxis\":{\"gridcolor\":\"white\",\"linecolor\":\"white\",\"ticks\":\"\"},\"baxis\":{\"gridcolor\":\"white\",\"linecolor\":\"white\",\"ticks\":\"\"},\"caxis\":{\"gridcolor\":\"white\",\"linecolor\":\"white\",\"ticks\":\"\"}},\"coloraxis\":{\"colorbar\":{\"outlinewidth\":0,\"ticks\":\"\"}},\"colorscale\":{\"sequential\":[[0.0,\"#0d0887\"],[0.1111111111111111,\"#46039f\"],[0.2222222222222222,\"#7201a8\"],[0.3333333333333333,\"#9c179e\"],[0.4444444444444444,\"#bd3786\"],[0.5555555555555556,\"#d8576b\"],[0.6666666666666666,\"#ed7953\"],[0.7777777777777778,\"#fb9f3a\"],[0.8888888888888888,\"#fdca26\"],[1.0,\"#f0f921\"]],\"sequentialminus\":[[0.0,\"#0d0887\"],[0.1111111111111111,\"#46039f\"],[0.2222222222222222,\"#7201a8\"],[0.3333333333333333,\"#9c179e\"],[0.4444444444444444,\"#bd3786\"],[0.5555555555555556,\"#d8576b\"],[0.6666666666666666,\"#ed7953\"],[0.7777777777777778,\"#fb9f3a\"],[0.8888888888888888,\"#fdca26\"],[1.0,\"#f0f921\"]],\"diverging\":[[0,\"#8e0152\"],[0.1,\"#c51b7d\"],[0.2,\"#de77ae\"],[0.3,\"#f1b6da\"],[0.4,\"#fde0ef\"],[0.5,\"#f7f7f7\"],[0.6,\"#e6f5d0\"],[0.7,\"#b8e186\"],[0.8,\"#7fbc41\"],[0.9,\"#4d9221\"],[1,\"#276419\"]]},\"xaxis\":{\"gridcolor\":\"white\",\"linecolor\":\"white\",\"ticks\":\"\",\"title\":{\"standoff\":15},\"zerolinecolor\":\"white\",\"automargin\":true,\"zerolinewidth\":2},\"yaxis\":{\"gridcolor\":\"white\",\"linecolor\":\"white\",\"ticks\":\"\",\"title\":{\"standoff\":15},\"zerolinecolor\":\"white\",\"automargin\":true,\"zerolinewidth\":2},\"scene\":{\"xaxis\":{\"backgroundcolor\":\"#E5ECF6\",\"gridcolor\":\"white\",\"linecolor\":\"white\",\"showbackground\":true,\"ticks\":\"\",\"zerolinecolor\":\"white\",\"gridwidth\":2},\"yaxis\":{\"backgroundcolor\":\"#E5ECF6\",\"gridcolor\":\"white\",\"linecolor\":\"white\",\"showbackground\":true,\"ticks\":\"\",\"zerolinecolor\":\"white\",\"gridwidth\":2},\"zaxis\":{\"backgroundcolor\":\"#E5ECF6\",\"gridcolor\":\"white\",\"linecolor\":\"white\",\"showbackground\":true,\"ticks\":\"\",\"zerolinecolor\":\"white\",\"gridwidth\":2}},\"shapedefaults\":{\"line\":{\"color\":\"#2a3f5f\"}},\"annotationdefaults\":{\"arrowcolor\":\"#2a3f5f\",\"arrowhead\":0,\"arrowwidth\":1},\"geo\":{\"bgcolor\":\"white\",\"landcolor\":\"#E5ECF6\",\"subunitcolor\":\"white\",\"showland\":true,\"showlakes\":true,\"lakecolor\":\"white\"},\"title\":{\"x\":0.05},\"mapbox\":{\"style\":\"light\"}}},\"xaxis\":{\"anchor\":\"y\",\"domain\":[0.0,1.0],\"title\":{\"text\":\"Statistical Category\"},\"tickvals\":[\"fg\",\"fga\",\"three\",\"threeatt\",\"ft\",\"fta\"],\"ticktext\":[\"Field Goals\",\"Field Goals Attempted\",\"Three's\",\"Three's Attempted\",\"Free Throws\",\"Free Throws Attempted\"]},\"yaxis\":{\"anchor\":\"x\",\"domain\":[0.0,1.0],\"title\":{\"text\":\"Total\"}},\"legend\":{\"tracegroupgap\":0},\"title\":{\"text\":\"Lebron's Total Finals Statistics\"},\"barmode\":\"relative\",\"font\":{\"color\":\"white\"},\"paper_bgcolor\":\"rgb(0,0,0,0.40)\",\"plot_bgcolor\":\"rgb(0,0,0,0.40)\"},                        {\"responsive\": true}                    ).then(function(){\n",
       "                            \n",
       "var gd = document.getElementById('304a7c0e-2a3e-48ed-8afa-62bd6a299527');\n",
       "var x = new MutationObserver(function (mutations, observer) {{\n",
       "        var display = window.getComputedStyle(gd).display;\n",
       "        if (!display || display === 'none') {{\n",
       "            console.log([gd, 'removed!']);\n",
       "            Plotly.purge(gd);\n",
       "            observer.disconnect();\n",
       "        }}\n",
       "}});\n",
       "\n",
       "// Listen for the removal of the full notebook cells\n",
       "var notebookContainer = gd.closest('#notebook-container');\n",
       "if (notebookContainer) {{\n",
       "    x.observe(notebookContainer, {childList: true});\n",
       "}}\n",
       "\n",
       "// Listen for the clearing of the current output cell\n",
       "var outputEl = gd.closest('.output');\n",
       "if (outputEl) {{\n",
       "    x.observe(outputEl, {childList: true});\n",
       "}}\n",
       "\n",
       "                        })                };                });            </script>        </div>"
      ]
     },
     "metadata": {},
     "output_type": "display_data"
    }
   ],
   "source": [
    "#making bar chart with lebrons shooting to figure out how to make the rest of the charts:\n",
    "lebron_shooting_totals_regular = lebron_regular_season[[\"fg\",\"fga\",\"three\",\"threeatt\",\"ft\",\"fta\"]].sum().to_frame()\n",
    "lebron_shooting_totals_regular.rename(columns={lebron_shooting_totals_regular.columns[0]:\"Total\"},inplace=True)\n",
    "lebron_shooting_totals_regular\n",
    "lebron_figure=px.bar(lebron_shooting_totals_regular,x=lebron_shooting_totals_regular.index,y=\"Total\",\n",
    "          title=\"Lebron's Total Finals Statistics\",\n",
    "          color_discrete_sequence =[[\"#552583\",\"#fdb927\",\"#552583\",\"#fdb927\",\"#552583\",\"#fdb927\"]]\n",
    "          ).update_layout(\n",
    "            paper_bgcolor=\"rgb(0,0,0,0.40)\",plot_bgcolor=\"rgb(0,0,0,0.40)\",font={'color':'white'}\n",
    "        ).update_xaxes(\n",
    "        title=\"Statistical Category\",\n",
    "        tickvals=['fg','fga','three','threeatt','ft','fta'],\n",
    "        ticktext=['Field Goals','Field Goals Attempted',\"Three's\",\"Three's Attempted\",\n",
    "                  \"Free Throws\",'Free Throws Attempted'])\n",
    "lebron_figure"
   ]
  },
  {
   "cell_type": "code",
   "execution_count": 18,
   "id": "c8f5cfbb",
   "metadata": {},
   "outputs": [
    {
     "data": {
      "text/html": [
       "<div>\n",
       "<style scoped>\n",
       "    .dataframe tbody tr th:only-of-type {\n",
       "        vertical-align: middle;\n",
       "    }\n",
       "\n",
       "    .dataframe tbody tr th {\n",
       "        vertical-align: top;\n",
       "    }\n",
       "\n",
       "    .dataframe thead th {\n",
       "        text-align: right;\n",
       "    }\n",
       "</style>\n",
       "<table border=\"1\" class=\"dataframe\">\n",
       "  <thead>\n",
       "    <tr style=\"text-align: right;\">\n",
       "      <th></th>\n",
       "      <th>Total</th>\n",
       "    </tr>\n",
       "  </thead>\n",
       "  <tbody>\n",
       "    <tr>\n",
       "      <th>pts</th>\n",
       "      <td>34241</td>\n",
       "    </tr>\n",
       "    <tr>\n",
       "      <th>ast</th>\n",
       "      <td>9346</td>\n",
       "    </tr>\n",
       "    <tr>\n",
       "      <th>trb</th>\n",
       "      <td>9405</td>\n",
       "    </tr>\n",
       "    <tr>\n",
       "      <th>blk</th>\n",
       "      <td>957</td>\n",
       "    </tr>\n",
       "    <tr>\n",
       "      <th>stl</th>\n",
       "      <td>2015</td>\n",
       "    </tr>\n",
       "    <tr>\n",
       "      <th>tov</th>\n",
       "      <td>4424</td>\n",
       "    </tr>\n",
       "  </tbody>\n",
       "</table>\n",
       "</div>"
      ],
      "text/plain": [
       "     Total\n",
       "pts  34241\n",
       "ast   9346\n",
       "trb   9405\n",
       "blk    957\n",
       "stl   2015\n",
       "tov   4424"
      ]
     },
     "execution_count": 18,
     "metadata": {},
     "output_type": "execute_result"
    }
   ],
   "source": [
    "lebron_totals_regular"
   ]
  },
  {
   "cell_type": "code",
   "execution_count": 52,
   "id": "3b184b46",
   "metadata": {},
   "outputs": [
    {
     "data": {
      "application/vnd.plotly.v1+json": {
       "config": {
        "plotlyServerURL": "https://plot.ly"
       },
       "data": [
        {
         "domain": {
          "x": [
           0,
           1
          ],
          "y": [
           0,
           1
          ]
         },
         "hole": 0.4,
         "hovertemplate": "index=%{label}<br>Total=%{value}<extra></extra>",
         "labels": [
          "Field Goals Made",
          "Field Goals Missed"
         ],
         "legendgroup": "",
         "name": "",
         "showlegend": true,
         "type": "pie",
         "values": [
          0.5049632267626983,
          0.4950367732373016
         ]
        }
       ],
       "layout": {
        "font": {
         "color": "white"
        },
        "legend": {
         "tracegroupgap": 0
        },
        "paper_bgcolor": "rgb(0,0,0,0.40)",
        "piecolorway": [
         "#552583",
         "#fdb927"
        ],
        "plot_bgcolor": "rgb(0,0,0,0.40)",
        "template": {
         "data": {
          "bar": [
           {
            "error_x": {
             "color": "#2a3f5f"
            },
            "error_y": {
             "color": "#2a3f5f"
            },
            "marker": {
             "line": {
              "color": "#E5ECF6",
              "width": 0.5
             },
             "pattern": {
              "fillmode": "overlay",
              "size": 10,
              "solidity": 0.2
             }
            },
            "type": "bar"
           }
          ],
          "barpolar": [
           {
            "marker": {
             "line": {
              "color": "#E5ECF6",
              "width": 0.5
             },
             "pattern": {
              "fillmode": "overlay",
              "size": 10,
              "solidity": 0.2
             }
            },
            "type": "barpolar"
           }
          ],
          "carpet": [
           {
            "aaxis": {
             "endlinecolor": "#2a3f5f",
             "gridcolor": "white",
             "linecolor": "white",
             "minorgridcolor": "white",
             "startlinecolor": "#2a3f5f"
            },
            "baxis": {
             "endlinecolor": "#2a3f5f",
             "gridcolor": "white",
             "linecolor": "white",
             "minorgridcolor": "white",
             "startlinecolor": "#2a3f5f"
            },
            "type": "carpet"
           }
          ],
          "choropleth": [
           {
            "colorbar": {
             "outlinewidth": 0,
             "ticks": ""
            },
            "type": "choropleth"
           }
          ],
          "contour": [
           {
            "colorbar": {
             "outlinewidth": 0,
             "ticks": ""
            },
            "colorscale": [
             [
              0,
              "#0d0887"
             ],
             [
              0.1111111111111111,
              "#46039f"
             ],
             [
              0.2222222222222222,
              "#7201a8"
             ],
             [
              0.3333333333333333,
              "#9c179e"
             ],
             [
              0.4444444444444444,
              "#bd3786"
             ],
             [
              0.5555555555555556,
              "#d8576b"
             ],
             [
              0.6666666666666666,
              "#ed7953"
             ],
             [
              0.7777777777777778,
              "#fb9f3a"
             ],
             [
              0.8888888888888888,
              "#fdca26"
             ],
             [
              1,
              "#f0f921"
             ]
            ],
            "type": "contour"
           }
          ],
          "contourcarpet": [
           {
            "colorbar": {
             "outlinewidth": 0,
             "ticks": ""
            },
            "type": "contourcarpet"
           }
          ],
          "heatmap": [
           {
            "colorbar": {
             "outlinewidth": 0,
             "ticks": ""
            },
            "colorscale": [
             [
              0,
              "#0d0887"
             ],
             [
              0.1111111111111111,
              "#46039f"
             ],
             [
              0.2222222222222222,
              "#7201a8"
             ],
             [
              0.3333333333333333,
              "#9c179e"
             ],
             [
              0.4444444444444444,
              "#bd3786"
             ],
             [
              0.5555555555555556,
              "#d8576b"
             ],
             [
              0.6666666666666666,
              "#ed7953"
             ],
             [
              0.7777777777777778,
              "#fb9f3a"
             ],
             [
              0.8888888888888888,
              "#fdca26"
             ],
             [
              1,
              "#f0f921"
             ]
            ],
            "type": "heatmap"
           }
          ],
          "heatmapgl": [
           {
            "colorbar": {
             "outlinewidth": 0,
             "ticks": ""
            },
            "colorscale": [
             [
              0,
              "#0d0887"
             ],
             [
              0.1111111111111111,
              "#46039f"
             ],
             [
              0.2222222222222222,
              "#7201a8"
             ],
             [
              0.3333333333333333,
              "#9c179e"
             ],
             [
              0.4444444444444444,
              "#bd3786"
             ],
             [
              0.5555555555555556,
              "#d8576b"
             ],
             [
              0.6666666666666666,
              "#ed7953"
             ],
             [
              0.7777777777777778,
              "#fb9f3a"
             ],
             [
              0.8888888888888888,
              "#fdca26"
             ],
             [
              1,
              "#f0f921"
             ]
            ],
            "type": "heatmapgl"
           }
          ],
          "histogram": [
           {
            "marker": {
             "pattern": {
              "fillmode": "overlay",
              "size": 10,
              "solidity": 0.2
             }
            },
            "type": "histogram"
           }
          ],
          "histogram2d": [
           {
            "colorbar": {
             "outlinewidth": 0,
             "ticks": ""
            },
            "colorscale": [
             [
              0,
              "#0d0887"
             ],
             [
              0.1111111111111111,
              "#46039f"
             ],
             [
              0.2222222222222222,
              "#7201a8"
             ],
             [
              0.3333333333333333,
              "#9c179e"
             ],
             [
              0.4444444444444444,
              "#bd3786"
             ],
             [
              0.5555555555555556,
              "#d8576b"
             ],
             [
              0.6666666666666666,
              "#ed7953"
             ],
             [
              0.7777777777777778,
              "#fb9f3a"
             ],
             [
              0.8888888888888888,
              "#fdca26"
             ],
             [
              1,
              "#f0f921"
             ]
            ],
            "type": "histogram2d"
           }
          ],
          "histogram2dcontour": [
           {
            "colorbar": {
             "outlinewidth": 0,
             "ticks": ""
            },
            "colorscale": [
             [
              0,
              "#0d0887"
             ],
             [
              0.1111111111111111,
              "#46039f"
             ],
             [
              0.2222222222222222,
              "#7201a8"
             ],
             [
              0.3333333333333333,
              "#9c179e"
             ],
             [
              0.4444444444444444,
              "#bd3786"
             ],
             [
              0.5555555555555556,
              "#d8576b"
             ],
             [
              0.6666666666666666,
              "#ed7953"
             ],
             [
              0.7777777777777778,
              "#fb9f3a"
             ],
             [
              0.8888888888888888,
              "#fdca26"
             ],
             [
              1,
              "#f0f921"
             ]
            ],
            "type": "histogram2dcontour"
           }
          ],
          "mesh3d": [
           {
            "colorbar": {
             "outlinewidth": 0,
             "ticks": ""
            },
            "type": "mesh3d"
           }
          ],
          "parcoords": [
           {
            "line": {
             "colorbar": {
              "outlinewidth": 0,
              "ticks": ""
             }
            },
            "type": "parcoords"
           }
          ],
          "pie": [
           {
            "automargin": true,
            "type": "pie"
           }
          ],
          "scatter": [
           {
            "fillpattern": {
             "fillmode": "overlay",
             "size": 10,
             "solidity": 0.2
            },
            "type": "scatter"
           }
          ],
          "scatter3d": [
           {
            "line": {
             "colorbar": {
              "outlinewidth": 0,
              "ticks": ""
             }
            },
            "marker": {
             "colorbar": {
              "outlinewidth": 0,
              "ticks": ""
             }
            },
            "type": "scatter3d"
           }
          ],
          "scattercarpet": [
           {
            "marker": {
             "colorbar": {
              "outlinewidth": 0,
              "ticks": ""
             }
            },
            "type": "scattercarpet"
           }
          ],
          "scattergeo": [
           {
            "marker": {
             "colorbar": {
              "outlinewidth": 0,
              "ticks": ""
             }
            },
            "type": "scattergeo"
           }
          ],
          "scattergl": [
           {
            "marker": {
             "colorbar": {
              "outlinewidth": 0,
              "ticks": ""
             }
            },
            "type": "scattergl"
           }
          ],
          "scattermapbox": [
           {
            "marker": {
             "colorbar": {
              "outlinewidth": 0,
              "ticks": ""
             }
            },
            "type": "scattermapbox"
           }
          ],
          "scatterpolar": [
           {
            "marker": {
             "colorbar": {
              "outlinewidth": 0,
              "ticks": ""
             }
            },
            "type": "scatterpolar"
           }
          ],
          "scatterpolargl": [
           {
            "marker": {
             "colorbar": {
              "outlinewidth": 0,
              "ticks": ""
             }
            },
            "type": "scatterpolargl"
           }
          ],
          "scatterternary": [
           {
            "marker": {
             "colorbar": {
              "outlinewidth": 0,
              "ticks": ""
             }
            },
            "type": "scatterternary"
           }
          ],
          "surface": [
           {
            "colorbar": {
             "outlinewidth": 0,
             "ticks": ""
            },
            "colorscale": [
             [
              0,
              "#0d0887"
             ],
             [
              0.1111111111111111,
              "#46039f"
             ],
             [
              0.2222222222222222,
              "#7201a8"
             ],
             [
              0.3333333333333333,
              "#9c179e"
             ],
             [
              0.4444444444444444,
              "#bd3786"
             ],
             [
              0.5555555555555556,
              "#d8576b"
             ],
             [
              0.6666666666666666,
              "#ed7953"
             ],
             [
              0.7777777777777778,
              "#fb9f3a"
             ],
             [
              0.8888888888888888,
              "#fdca26"
             ],
             [
              1,
              "#f0f921"
             ]
            ],
            "type": "surface"
           }
          ],
          "table": [
           {
            "cells": {
             "fill": {
              "color": "#EBF0F8"
             },
             "line": {
              "color": "white"
             }
            },
            "header": {
             "fill": {
              "color": "#C8D4E3"
             },
             "line": {
              "color": "white"
             }
            },
            "type": "table"
           }
          ]
         },
         "layout": {
          "annotationdefaults": {
           "arrowcolor": "#2a3f5f",
           "arrowhead": 0,
           "arrowwidth": 1
          },
          "autotypenumbers": "strict",
          "coloraxis": {
           "colorbar": {
            "outlinewidth": 0,
            "ticks": ""
           }
          },
          "colorscale": {
           "diverging": [
            [
             0,
             "#8e0152"
            ],
            [
             0.1,
             "#c51b7d"
            ],
            [
             0.2,
             "#de77ae"
            ],
            [
             0.3,
             "#f1b6da"
            ],
            [
             0.4,
             "#fde0ef"
            ],
            [
             0.5,
             "#f7f7f7"
            ],
            [
             0.6,
             "#e6f5d0"
            ],
            [
             0.7,
             "#b8e186"
            ],
            [
             0.8,
             "#7fbc41"
            ],
            [
             0.9,
             "#4d9221"
            ],
            [
             1,
             "#276419"
            ]
           ],
           "sequential": [
            [
             0,
             "#0d0887"
            ],
            [
             0.1111111111111111,
             "#46039f"
            ],
            [
             0.2222222222222222,
             "#7201a8"
            ],
            [
             0.3333333333333333,
             "#9c179e"
            ],
            [
             0.4444444444444444,
             "#bd3786"
            ],
            [
             0.5555555555555556,
             "#d8576b"
            ],
            [
             0.6666666666666666,
             "#ed7953"
            ],
            [
             0.7777777777777778,
             "#fb9f3a"
            ],
            [
             0.8888888888888888,
             "#fdca26"
            ],
            [
             1,
             "#f0f921"
            ]
           ],
           "sequentialminus": [
            [
             0,
             "#0d0887"
            ],
            [
             0.1111111111111111,
             "#46039f"
            ],
            [
             0.2222222222222222,
             "#7201a8"
            ],
            [
             0.3333333333333333,
             "#9c179e"
            ],
            [
             0.4444444444444444,
             "#bd3786"
            ],
            [
             0.5555555555555556,
             "#d8576b"
            ],
            [
             0.6666666666666666,
             "#ed7953"
            ],
            [
             0.7777777777777778,
             "#fb9f3a"
            ],
            [
             0.8888888888888888,
             "#fdca26"
            ],
            [
             1,
             "#f0f921"
            ]
           ]
          },
          "colorway": [
           "#636efa",
           "#EF553B",
           "#00cc96",
           "#ab63fa",
           "#FFA15A",
           "#19d3f3",
           "#FF6692",
           "#B6E880",
           "#FF97FF",
           "#FECB52"
          ],
          "font": {
           "color": "#2a3f5f"
          },
          "geo": {
           "bgcolor": "white",
           "lakecolor": "white",
           "landcolor": "#E5ECF6",
           "showlakes": true,
           "showland": true,
           "subunitcolor": "white"
          },
          "hoverlabel": {
           "align": "left"
          },
          "hovermode": "closest",
          "mapbox": {
           "style": "light"
          },
          "paper_bgcolor": "white",
          "plot_bgcolor": "#E5ECF6",
          "polar": {
           "angularaxis": {
            "gridcolor": "white",
            "linecolor": "white",
            "ticks": ""
           },
           "bgcolor": "#E5ECF6",
           "radialaxis": {
            "gridcolor": "white",
            "linecolor": "white",
            "ticks": ""
           }
          },
          "scene": {
           "xaxis": {
            "backgroundcolor": "#E5ECF6",
            "gridcolor": "white",
            "gridwidth": 2,
            "linecolor": "white",
            "showbackground": true,
            "ticks": "",
            "zerolinecolor": "white"
           },
           "yaxis": {
            "backgroundcolor": "#E5ECF6",
            "gridcolor": "white",
            "gridwidth": 2,
            "linecolor": "white",
            "showbackground": true,
            "ticks": "",
            "zerolinecolor": "white"
           },
           "zaxis": {
            "backgroundcolor": "#E5ECF6",
            "gridcolor": "white",
            "gridwidth": 2,
            "linecolor": "white",
            "showbackground": true,
            "ticks": "",
            "zerolinecolor": "white"
           }
          },
          "shapedefaults": {
           "line": {
            "color": "#2a3f5f"
           }
          },
          "ternary": {
           "aaxis": {
            "gridcolor": "white",
            "linecolor": "white",
            "ticks": ""
           },
           "baxis": {
            "gridcolor": "white",
            "linecolor": "white",
            "ticks": ""
           },
           "bgcolor": "#E5ECF6",
           "caxis": {
            "gridcolor": "white",
            "linecolor": "white",
            "ticks": ""
           }
          },
          "title": {
           "x": 0.05
          },
          "xaxis": {
           "automargin": true,
           "gridcolor": "white",
           "linecolor": "white",
           "ticks": "",
           "title": {
            "standoff": 15
           },
           "zerolinecolor": "white",
           "zerolinewidth": 2
          },
          "yaxis": {
           "automargin": true,
           "gridcolor": "white",
           "linecolor": "white",
           "ticks": "",
           "title": {
            "standoff": 15
           },
           "zerolinecolor": "white",
           "zerolinewidth": 2
          }
         }
        },
        "title": {
         "text": "Lebron's Field Goal Efficiency"
        }
       }
      },
      "text/html": [
       "<div>                            <div id=\"9db17074-f213-4d73-b232-c0d37b3b4130\" class=\"plotly-graph-div\" style=\"height:525px; width:100%;\"></div>            <script type=\"text/javascript\">                require([\"plotly\"], function(Plotly) {                    window.PLOTLYENV=window.PLOTLYENV || {};                                    if (document.getElementById(\"9db17074-f213-4d73-b232-c0d37b3b4130\")) {                    Plotly.newPlot(                        \"9db17074-f213-4d73-b232-c0d37b3b4130\",                        [{\"domain\":{\"x\":[0.0,1.0],\"y\":[0.0,1.0]},\"hole\":0.4,\"hovertemplate\":\"index=%{label}<br>Total=%{value}<extra></extra>\",\"labels\":[\"Field Goals Made\",\"Field Goals Missed\"],\"legendgroup\":\"\",\"name\":\"\",\"showlegend\":true,\"values\":[0.5049632267626983,0.4950367732373016],\"type\":\"pie\"}],                        {\"template\":{\"data\":{\"histogram2dcontour\":[{\"type\":\"histogram2dcontour\",\"colorbar\":{\"outlinewidth\":0,\"ticks\":\"\"},\"colorscale\":[[0.0,\"#0d0887\"],[0.1111111111111111,\"#46039f\"],[0.2222222222222222,\"#7201a8\"],[0.3333333333333333,\"#9c179e\"],[0.4444444444444444,\"#bd3786\"],[0.5555555555555556,\"#d8576b\"],[0.6666666666666666,\"#ed7953\"],[0.7777777777777778,\"#fb9f3a\"],[0.8888888888888888,\"#fdca26\"],[1.0,\"#f0f921\"]]}],\"choropleth\":[{\"type\":\"choropleth\",\"colorbar\":{\"outlinewidth\":0,\"ticks\":\"\"}}],\"histogram2d\":[{\"type\":\"histogram2d\",\"colorbar\":{\"outlinewidth\":0,\"ticks\":\"\"},\"colorscale\":[[0.0,\"#0d0887\"],[0.1111111111111111,\"#46039f\"],[0.2222222222222222,\"#7201a8\"],[0.3333333333333333,\"#9c179e\"],[0.4444444444444444,\"#bd3786\"],[0.5555555555555556,\"#d8576b\"],[0.6666666666666666,\"#ed7953\"],[0.7777777777777778,\"#fb9f3a\"],[0.8888888888888888,\"#fdca26\"],[1.0,\"#f0f921\"]]}],\"heatmap\":[{\"type\":\"heatmap\",\"colorbar\":{\"outlinewidth\":0,\"ticks\":\"\"},\"colorscale\":[[0.0,\"#0d0887\"],[0.1111111111111111,\"#46039f\"],[0.2222222222222222,\"#7201a8\"],[0.3333333333333333,\"#9c179e\"],[0.4444444444444444,\"#bd3786\"],[0.5555555555555556,\"#d8576b\"],[0.6666666666666666,\"#ed7953\"],[0.7777777777777778,\"#fb9f3a\"],[0.8888888888888888,\"#fdca26\"],[1.0,\"#f0f921\"]]}],\"heatmapgl\":[{\"type\":\"heatmapgl\",\"colorbar\":{\"outlinewidth\":0,\"ticks\":\"\"},\"colorscale\":[[0.0,\"#0d0887\"],[0.1111111111111111,\"#46039f\"],[0.2222222222222222,\"#7201a8\"],[0.3333333333333333,\"#9c179e\"],[0.4444444444444444,\"#bd3786\"],[0.5555555555555556,\"#d8576b\"],[0.6666666666666666,\"#ed7953\"],[0.7777777777777778,\"#fb9f3a\"],[0.8888888888888888,\"#fdca26\"],[1.0,\"#f0f921\"]]}],\"contourcarpet\":[{\"type\":\"contourcarpet\",\"colorbar\":{\"outlinewidth\":0,\"ticks\":\"\"}}],\"contour\":[{\"type\":\"contour\",\"colorbar\":{\"outlinewidth\":0,\"ticks\":\"\"},\"colorscale\":[[0.0,\"#0d0887\"],[0.1111111111111111,\"#46039f\"],[0.2222222222222222,\"#7201a8\"],[0.3333333333333333,\"#9c179e\"],[0.4444444444444444,\"#bd3786\"],[0.5555555555555556,\"#d8576b\"],[0.6666666666666666,\"#ed7953\"],[0.7777777777777778,\"#fb9f3a\"],[0.8888888888888888,\"#fdca26\"],[1.0,\"#f0f921\"]]}],\"surface\":[{\"type\":\"surface\",\"colorbar\":{\"outlinewidth\":0,\"ticks\":\"\"},\"colorscale\":[[0.0,\"#0d0887\"],[0.1111111111111111,\"#46039f\"],[0.2222222222222222,\"#7201a8\"],[0.3333333333333333,\"#9c179e\"],[0.4444444444444444,\"#bd3786\"],[0.5555555555555556,\"#d8576b\"],[0.6666666666666666,\"#ed7953\"],[0.7777777777777778,\"#fb9f3a\"],[0.8888888888888888,\"#fdca26\"],[1.0,\"#f0f921\"]]}],\"mesh3d\":[{\"type\":\"mesh3d\",\"colorbar\":{\"outlinewidth\":0,\"ticks\":\"\"}}],\"scatter\":[{\"fillpattern\":{\"fillmode\":\"overlay\",\"size\":10,\"solidity\":0.2},\"type\":\"scatter\"}],\"parcoords\":[{\"type\":\"parcoords\",\"line\":{\"colorbar\":{\"outlinewidth\":0,\"ticks\":\"\"}}}],\"scatterpolargl\":[{\"type\":\"scatterpolargl\",\"marker\":{\"colorbar\":{\"outlinewidth\":0,\"ticks\":\"\"}}}],\"bar\":[{\"error_x\":{\"color\":\"#2a3f5f\"},\"error_y\":{\"color\":\"#2a3f5f\"},\"marker\":{\"line\":{\"color\":\"#E5ECF6\",\"width\":0.5},\"pattern\":{\"fillmode\":\"overlay\",\"size\":10,\"solidity\":0.2}},\"type\":\"bar\"}],\"scattergeo\":[{\"type\":\"scattergeo\",\"marker\":{\"colorbar\":{\"outlinewidth\":0,\"ticks\":\"\"}}}],\"scatterpolar\":[{\"type\":\"scatterpolar\",\"marker\":{\"colorbar\":{\"outlinewidth\":0,\"ticks\":\"\"}}}],\"histogram\":[{\"marker\":{\"pattern\":{\"fillmode\":\"overlay\",\"size\":10,\"solidity\":0.2}},\"type\":\"histogram\"}],\"scattergl\":[{\"type\":\"scattergl\",\"marker\":{\"colorbar\":{\"outlinewidth\":0,\"ticks\":\"\"}}}],\"scatter3d\":[{\"type\":\"scatter3d\",\"line\":{\"colorbar\":{\"outlinewidth\":0,\"ticks\":\"\"}},\"marker\":{\"colorbar\":{\"outlinewidth\":0,\"ticks\":\"\"}}}],\"scattermapbox\":[{\"type\":\"scattermapbox\",\"marker\":{\"colorbar\":{\"outlinewidth\":0,\"ticks\":\"\"}}}],\"scatterternary\":[{\"type\":\"scatterternary\",\"marker\":{\"colorbar\":{\"outlinewidth\":0,\"ticks\":\"\"}}}],\"scattercarpet\":[{\"type\":\"scattercarpet\",\"marker\":{\"colorbar\":{\"outlinewidth\":0,\"ticks\":\"\"}}}],\"carpet\":[{\"aaxis\":{\"endlinecolor\":\"#2a3f5f\",\"gridcolor\":\"white\",\"linecolor\":\"white\",\"minorgridcolor\":\"white\",\"startlinecolor\":\"#2a3f5f\"},\"baxis\":{\"endlinecolor\":\"#2a3f5f\",\"gridcolor\":\"white\",\"linecolor\":\"white\",\"minorgridcolor\":\"white\",\"startlinecolor\":\"#2a3f5f\"},\"type\":\"carpet\"}],\"table\":[{\"cells\":{\"fill\":{\"color\":\"#EBF0F8\"},\"line\":{\"color\":\"white\"}},\"header\":{\"fill\":{\"color\":\"#C8D4E3\"},\"line\":{\"color\":\"white\"}},\"type\":\"table\"}],\"barpolar\":[{\"marker\":{\"line\":{\"color\":\"#E5ECF6\",\"width\":0.5},\"pattern\":{\"fillmode\":\"overlay\",\"size\":10,\"solidity\":0.2}},\"type\":\"barpolar\"}],\"pie\":[{\"automargin\":true,\"type\":\"pie\"}]},\"layout\":{\"autotypenumbers\":\"strict\",\"colorway\":[\"#636efa\",\"#EF553B\",\"#00cc96\",\"#ab63fa\",\"#FFA15A\",\"#19d3f3\",\"#FF6692\",\"#B6E880\",\"#FF97FF\",\"#FECB52\"],\"font\":{\"color\":\"#2a3f5f\"},\"hovermode\":\"closest\",\"hoverlabel\":{\"align\":\"left\"},\"paper_bgcolor\":\"white\",\"plot_bgcolor\":\"#E5ECF6\",\"polar\":{\"bgcolor\":\"#E5ECF6\",\"angularaxis\":{\"gridcolor\":\"white\",\"linecolor\":\"white\",\"ticks\":\"\"},\"radialaxis\":{\"gridcolor\":\"white\",\"linecolor\":\"white\",\"ticks\":\"\"}},\"ternary\":{\"bgcolor\":\"#E5ECF6\",\"aaxis\":{\"gridcolor\":\"white\",\"linecolor\":\"white\",\"ticks\":\"\"},\"baxis\":{\"gridcolor\":\"white\",\"linecolor\":\"white\",\"ticks\":\"\"},\"caxis\":{\"gridcolor\":\"white\",\"linecolor\":\"white\",\"ticks\":\"\"}},\"coloraxis\":{\"colorbar\":{\"outlinewidth\":0,\"ticks\":\"\"}},\"colorscale\":{\"sequential\":[[0.0,\"#0d0887\"],[0.1111111111111111,\"#46039f\"],[0.2222222222222222,\"#7201a8\"],[0.3333333333333333,\"#9c179e\"],[0.4444444444444444,\"#bd3786\"],[0.5555555555555556,\"#d8576b\"],[0.6666666666666666,\"#ed7953\"],[0.7777777777777778,\"#fb9f3a\"],[0.8888888888888888,\"#fdca26\"],[1.0,\"#f0f921\"]],\"sequentialminus\":[[0.0,\"#0d0887\"],[0.1111111111111111,\"#46039f\"],[0.2222222222222222,\"#7201a8\"],[0.3333333333333333,\"#9c179e\"],[0.4444444444444444,\"#bd3786\"],[0.5555555555555556,\"#d8576b\"],[0.6666666666666666,\"#ed7953\"],[0.7777777777777778,\"#fb9f3a\"],[0.8888888888888888,\"#fdca26\"],[1.0,\"#f0f921\"]],\"diverging\":[[0,\"#8e0152\"],[0.1,\"#c51b7d\"],[0.2,\"#de77ae\"],[0.3,\"#f1b6da\"],[0.4,\"#fde0ef\"],[0.5,\"#f7f7f7\"],[0.6,\"#e6f5d0\"],[0.7,\"#b8e186\"],[0.8,\"#7fbc41\"],[0.9,\"#4d9221\"],[1,\"#276419\"]]},\"xaxis\":{\"gridcolor\":\"white\",\"linecolor\":\"white\",\"ticks\":\"\",\"title\":{\"standoff\":15},\"zerolinecolor\":\"white\",\"automargin\":true,\"zerolinewidth\":2},\"yaxis\":{\"gridcolor\":\"white\",\"linecolor\":\"white\",\"ticks\":\"\",\"title\":{\"standoff\":15},\"zerolinecolor\":\"white\",\"automargin\":true,\"zerolinewidth\":2},\"scene\":{\"xaxis\":{\"backgroundcolor\":\"#E5ECF6\",\"gridcolor\":\"white\",\"linecolor\":\"white\",\"showbackground\":true,\"ticks\":\"\",\"zerolinecolor\":\"white\",\"gridwidth\":2},\"yaxis\":{\"backgroundcolor\":\"#E5ECF6\",\"gridcolor\":\"white\",\"linecolor\":\"white\",\"showbackground\":true,\"ticks\":\"\",\"zerolinecolor\":\"white\",\"gridwidth\":2},\"zaxis\":{\"backgroundcolor\":\"#E5ECF6\",\"gridcolor\":\"white\",\"linecolor\":\"white\",\"showbackground\":true,\"ticks\":\"\",\"zerolinecolor\":\"white\",\"gridwidth\":2}},\"shapedefaults\":{\"line\":{\"color\":\"#2a3f5f\"}},\"annotationdefaults\":{\"arrowcolor\":\"#2a3f5f\",\"arrowhead\":0,\"arrowwidth\":1},\"geo\":{\"bgcolor\":\"white\",\"landcolor\":\"#E5ECF6\",\"subunitcolor\":\"white\",\"showland\":true,\"showlakes\":true,\"lakecolor\":\"white\"},\"title\":{\"x\":0.05},\"mapbox\":{\"style\":\"light\"}}},\"legend\":{\"tracegroupgap\":0},\"title\":{\"text\":\"Lebron's Field Goal Efficiency\"},\"piecolorway\":[\"#552583\",\"#fdb927\"],\"font\":{\"color\":\"white\"},\"paper_bgcolor\":\"rgb(0,0,0,0.40)\",\"plot_bgcolor\":\"rgb(0,0,0,0.40)\"},                        {\"responsive\": true}                    ).then(function(){\n",
       "                            \n",
       "var gd = document.getElementById('9db17074-f213-4d73-b232-c0d37b3b4130');\n",
       "var x = new MutationObserver(function (mutations, observer) {{\n",
       "        var display = window.getComputedStyle(gd).display;\n",
       "        if (!display || display === 'none') {{\n",
       "            console.log([gd, 'removed!']);\n",
       "            Plotly.purge(gd);\n",
       "            observer.disconnect();\n",
       "        }}\n",
       "}});\n",
       "\n",
       "// Listen for the removal of the full notebook cells\n",
       "var notebookContainer = gd.closest('#notebook-container');\n",
       "if (notebookContainer) {{\n",
       "    x.observe(notebookContainer, {childList: true});\n",
       "}}\n",
       "\n",
       "// Listen for the clearing of the current output cell\n",
       "var outputEl = gd.closest('.output');\n",
       "if (outputEl) {{\n",
       "    x.observe(outputEl, {childList: true});\n",
       "}}\n",
       "\n",
       "                        })                };                });            </script>        </div>"
      ]
     },
     "metadata": {},
     "output_type": "display_data"
    }
   ],
   "source": [
    "lebron_regular_season[\"Field Goals Made\"] = lebron_regular_season[\"fg\"]/lebron_regular_season[\"fga\"]\n",
    "lebron_regular_season[\"Field Goals Missed\"] = 1-(lebron_regular_season[\"fg\"]/lebron_regular_season[\"fga\"])\n",
    "lbj_test_average = lebron_regular_season[[\"Field Goals Made\",\"Field Goals Missed\"]].mean().to_frame()\n",
    "lbj_test_average.rename(columns={lbj_test_average.columns[0]:\"Total\"},inplace=True)\n",
    "px.pie(lbj_test_average,values=\"Total\",names=lbj_test_average.index,title=\"Lebron's Field Goal Efficiency\",\n",
    "      hole=.4,color_discrete_sequence=[\"#552583\",\"#fdb927\"]).update_layout(\n",
    "            paper_bgcolor=\"rgb(0,0,0,0.40)\",plot_bgcolor=\"rgb(0,0,0,0.40)\",font={'color':'white'}).update_traces(\n",
    "            )"
   ]
  },
  {
   "cell_type": "code",
   "execution_count": 78,
   "id": "95be801e",
   "metadata": {},
   "outputs": [
    {
     "data": {
      "text/html": [
       "<div>\n",
       "<style scoped>\n",
       "    .dataframe tbody tr th:only-of-type {\n",
       "        vertical-align: middle;\n",
       "    }\n",
       "\n",
       "    .dataframe tbody tr th {\n",
       "        vertical-align: top;\n",
       "    }\n",
       "\n",
       "    .dataframe thead th {\n",
       "        text-align: right;\n",
       "    }\n",
       "</style>\n",
       "<table border=\"1\" class=\"dataframe\">\n",
       "  <thead>\n",
       "    <tr style=\"text-align: right;\">\n",
       "      <th></th>\n",
       "      <th>three</th>\n",
       "      <th>threeatt</th>\n",
       "      <th>threep</th>\n",
       "    </tr>\n",
       "  </thead>\n",
       "  <tbody>\n",
       "    <tr>\n",
       "      <th>0</th>\n",
       "      <td>0</td>\n",
       "      <td>2</td>\n",
       "      <td>0.000</td>\n",
       "    </tr>\n",
       "    <tr>\n",
       "      <th>1</th>\n",
       "      <td>1</td>\n",
       "      <td>5</td>\n",
       "      <td>0.200</td>\n",
       "    </tr>\n",
       "    <tr>\n",
       "      <th>2</th>\n",
       "      <td>0</td>\n",
       "      <td>1</td>\n",
       "      <td>0.000</td>\n",
       "    </tr>\n",
       "    <tr>\n",
       "      <th>3</th>\n",
       "      <td>0</td>\n",
       "      <td>2</td>\n",
       "      <td>0.000</td>\n",
       "    </tr>\n",
       "    <tr>\n",
       "      <th>4</th>\n",
       "      <td>1</td>\n",
       "      <td>2</td>\n",
       "      <td>0.500</td>\n",
       "    </tr>\n",
       "    <tr>\n",
       "      <th>...</th>\n",
       "      <td>...</td>\n",
       "      <td>...</td>\n",
       "      <td>...</td>\n",
       "    </tr>\n",
       "    <tr>\n",
       "      <th>1260</th>\n",
       "      <td>2</td>\n",
       "      <td>5</td>\n",
       "      <td>0.400</td>\n",
       "    </tr>\n",
       "    <tr>\n",
       "      <th>1261</th>\n",
       "      <td>0</td>\n",
       "      <td>5</td>\n",
       "      <td>0.000</td>\n",
       "    </tr>\n",
       "    <tr>\n",
       "      <th>1262</th>\n",
       "      <td>2</td>\n",
       "      <td>6</td>\n",
       "      <td>0.333</td>\n",
       "    </tr>\n",
       "    <tr>\n",
       "      <th>1263</th>\n",
       "      <td>5</td>\n",
       "      <td>11</td>\n",
       "      <td>0.455</td>\n",
       "    </tr>\n",
       "    <tr>\n",
       "      <th>1264</th>\n",
       "      <td>2</td>\n",
       "      <td>5</td>\n",
       "      <td>0.400</td>\n",
       "    </tr>\n",
       "  </tbody>\n",
       "</table>\n",
       "<p>1265 rows × 3 columns</p>\n",
       "</div>"
      ],
      "text/plain": [
       "      three  threeatt  threep\n",
       "0         0         2   0.000\n",
       "1         1         5   0.200\n",
       "2         0         1   0.000\n",
       "3         0         2   0.000\n",
       "4         1         2   0.500\n",
       "...     ...       ...     ...\n",
       "1260      2         5   0.400\n",
       "1261      0         5   0.000\n",
       "1262      2         6   0.333\n",
       "1263      5        11   0.455\n",
       "1264      2         5   0.400\n",
       "\n",
       "[1265 rows x 3 columns]"
      ]
     },
     "execution_count": 78,
     "metadata": {},
     "output_type": "execute_result"
    }
   ],
   "source": [
    "lebron_regular_season[[\"three\",\"threeatt\",\"threep\"]]"
   ]
  },
  {
   "cell_type": "code",
   "execution_count": 8,
   "id": "974985a2",
   "metadata": {},
   "outputs": [
    {
     "data": {
      "text/html": [
       "<div>\n",
       "<style scoped>\n",
       "    .dataframe tbody tr th:only-of-type {\n",
       "        vertical-align: middle;\n",
       "    }\n",
       "\n",
       "    .dataframe tbody tr th {\n",
       "        vertical-align: top;\n",
       "    }\n",
       "\n",
       "    .dataframe thead th {\n",
       "        text-align: right;\n",
       "    }\n",
       "</style>\n",
       "<table border=\"1\" class=\"dataframe\">\n",
       "  <thead>\n",
       "    <tr style=\"text-align: right;\">\n",
       "      <th></th>\n",
       "      <th>game</th>\n",
       "      <th>date</th>\n",
       "      <th>series</th>\n",
       "      <th>series_game</th>\n",
       "      <th>team</th>\n",
       "      <th>opp</th>\n",
       "      <th>result</th>\n",
       "      <th>mp</th>\n",
       "      <th>fg</th>\n",
       "      <th>fga</th>\n",
       "      <th>...</th>\n",
       "      <th>orb</th>\n",
       "      <th>drb</th>\n",
       "      <th>trb</th>\n",
       "      <th>ast</th>\n",
       "      <th>stl</th>\n",
       "      <th>blk</th>\n",
       "      <th>tov</th>\n",
       "      <th>pts</th>\n",
       "      <th>game_score</th>\n",
       "      <th>plus_minus</th>\n",
       "    </tr>\n",
       "  </thead>\n",
       "  <tbody>\n",
       "    <tr>\n",
       "      <th>29</th>\n",
       "      <td>17</td>\n",
       "      <td>2007-06-07</td>\n",
       "      <td>FIN</td>\n",
       "      <td>1</td>\n",
       "      <td>CLE</td>\n",
       "      <td>SAS</td>\n",
       "      <td>L (-9)</td>\n",
       "      <td>44</td>\n",
       "      <td>4</td>\n",
       "      <td>16</td>\n",
       "      <td>...</td>\n",
       "      <td>1</td>\n",
       "      <td>6</td>\n",
       "      <td>7</td>\n",
       "      <td>4</td>\n",
       "      <td>1</td>\n",
       "      <td>1</td>\n",
       "      <td>6</td>\n",
       "      <td>14</td>\n",
       "      <td>5.0</td>\n",
       "      <td>-5</td>\n",
       "    </tr>\n",
       "    <tr>\n",
       "      <th>30</th>\n",
       "      <td>18</td>\n",
       "      <td>2007-06-10</td>\n",
       "      <td>FIN</td>\n",
       "      <td>2</td>\n",
       "      <td>CLE</td>\n",
       "      <td>SAS</td>\n",
       "      <td>L (-11)</td>\n",
       "      <td>38</td>\n",
       "      <td>9</td>\n",
       "      <td>21</td>\n",
       "      <td>...</td>\n",
       "      <td>3</td>\n",
       "      <td>4</td>\n",
       "      <td>7</td>\n",
       "      <td>6</td>\n",
       "      <td>1</td>\n",
       "      <td>0</td>\n",
       "      <td>6</td>\n",
       "      <td>25</td>\n",
       "      <td>13.6</td>\n",
       "      <td>-5</td>\n",
       "    </tr>\n",
       "    <tr>\n",
       "      <th>31</th>\n",
       "      <td>19</td>\n",
       "      <td>2007-06-12</td>\n",
       "      <td>FIN</td>\n",
       "      <td>3</td>\n",
       "      <td>CLE</td>\n",
       "      <td>SAS</td>\n",
       "      <td>L (-3)</td>\n",
       "      <td>42</td>\n",
       "      <td>9</td>\n",
       "      <td>23</td>\n",
       "      <td>...</td>\n",
       "      <td>0</td>\n",
       "      <td>8</td>\n",
       "      <td>8</td>\n",
       "      <td>7</td>\n",
       "      <td>2</td>\n",
       "      <td>1</td>\n",
       "      <td>5</td>\n",
       "      <td>25</td>\n",
       "      <td>15.9</td>\n",
       "      <td>4</td>\n",
       "    </tr>\n",
       "    <tr>\n",
       "      <th>32</th>\n",
       "      <td>20</td>\n",
       "      <td>2007-06-14</td>\n",
       "      <td>FIN</td>\n",
       "      <td>4</td>\n",
       "      <td>CLE</td>\n",
       "      <td>SAS</td>\n",
       "      <td>L (-1)</td>\n",
       "      <td>46</td>\n",
       "      <td>10</td>\n",
       "      <td>30</td>\n",
       "      <td>...</td>\n",
       "      <td>0</td>\n",
       "      <td>6</td>\n",
       "      <td>6</td>\n",
       "      <td>10</td>\n",
       "      <td>0</td>\n",
       "      <td>0</td>\n",
       "      <td>6</td>\n",
       "      <td>24</td>\n",
       "      <td>7.8</td>\n",
       "      <td>2</td>\n",
       "    </tr>\n",
       "    <tr>\n",
       "      <th>86</th>\n",
       "      <td>16</td>\n",
       "      <td>2011-05-31</td>\n",
       "      <td>FIN</td>\n",
       "      <td>1</td>\n",
       "      <td>MIA</td>\n",
       "      <td>DAL</td>\n",
       "      <td>W (+8)</td>\n",
       "      <td>45</td>\n",
       "      <td>9</td>\n",
       "      <td>16</td>\n",
       "      <td>...</td>\n",
       "      <td>0</td>\n",
       "      <td>9</td>\n",
       "      <td>9</td>\n",
       "      <td>5</td>\n",
       "      <td>1</td>\n",
       "      <td>0</td>\n",
       "      <td>1</td>\n",
       "      <td>24</td>\n",
       "      <td>21.0</td>\n",
       "      <td>9</td>\n",
       "    </tr>\n",
       "    <tr>\n",
       "      <th>87</th>\n",
       "      <td>17</td>\n",
       "      <td>2011-06-02</td>\n",
       "      <td>FIN</td>\n",
       "      <td>2</td>\n",
       "      <td>MIA</td>\n",
       "      <td>DAL</td>\n",
       "      <td>L (-2)</td>\n",
       "      <td>40</td>\n",
       "      <td>8</td>\n",
       "      <td>15</td>\n",
       "      <td>...</td>\n",
       "      <td>1</td>\n",
       "      <td>7</td>\n",
       "      <td>8</td>\n",
       "      <td>4</td>\n",
       "      <td>4</td>\n",
       "      <td>1</td>\n",
       "      <td>5</td>\n",
       "      <td>20</td>\n",
       "      <td>15.6</td>\n",
       "      <td>-5</td>\n",
       "    </tr>\n",
       "    <tr>\n",
       "      <th>88</th>\n",
       "      <td>18</td>\n",
       "      <td>2011-06-05</td>\n",
       "      <td>FIN</td>\n",
       "      <td>3</td>\n",
       "      <td>MIA</td>\n",
       "      <td>DAL</td>\n",
       "      <td>W (+2)</td>\n",
       "      <td>45</td>\n",
       "      <td>6</td>\n",
       "      <td>14</td>\n",
       "      <td>...</td>\n",
       "      <td>0</td>\n",
       "      <td>3</td>\n",
       "      <td>3</td>\n",
       "      <td>9</td>\n",
       "      <td>2</td>\n",
       "      <td>0</td>\n",
       "      <td>4</td>\n",
       "      <td>17</td>\n",
       "      <td>13.6</td>\n",
       "      <td>1</td>\n",
       "    </tr>\n",
       "    <tr>\n",
       "      <th>89</th>\n",
       "      <td>19</td>\n",
       "      <td>2011-06-07</td>\n",
       "      <td>FIN</td>\n",
       "      <td>4</td>\n",
       "      <td>MIA</td>\n",
       "      <td>DAL</td>\n",
       "      <td>L (-3)</td>\n",
       "      <td>46</td>\n",
       "      <td>3</td>\n",
       "      <td>11</td>\n",
       "      <td>...</td>\n",
       "      <td>3</td>\n",
       "      <td>6</td>\n",
       "      <td>9</td>\n",
       "      <td>7</td>\n",
       "      <td>2</td>\n",
       "      <td>0</td>\n",
       "      <td>4</td>\n",
       "      <td>8</td>\n",
       "      <td>5.9</td>\n",
       "      <td>-6</td>\n",
       "    </tr>\n",
       "    <tr>\n",
       "      <th>90</th>\n",
       "      <td>20</td>\n",
       "      <td>2011-06-09</td>\n",
       "      <td>FIN</td>\n",
       "      <td>5</td>\n",
       "      <td>MIA</td>\n",
       "      <td>DAL</td>\n",
       "      <td>L (-9)</td>\n",
       "      <td>46</td>\n",
       "      <td>8</td>\n",
       "      <td>19</td>\n",
       "      <td>...</td>\n",
       "      <td>1</td>\n",
       "      <td>9</td>\n",
       "      <td>10</td>\n",
       "      <td>10</td>\n",
       "      <td>0</td>\n",
       "      <td>1</td>\n",
       "      <td>4</td>\n",
       "      <td>17</td>\n",
       "      <td>12.4</td>\n",
       "      <td>-11</td>\n",
       "    </tr>\n",
       "    <tr>\n",
       "      <th>91</th>\n",
       "      <td>21</td>\n",
       "      <td>2011-06-12</td>\n",
       "      <td>FIN</td>\n",
       "      <td>6</td>\n",
       "      <td>MIA</td>\n",
       "      <td>DAL</td>\n",
       "      <td>L (-10)</td>\n",
       "      <td>40</td>\n",
       "      <td>9</td>\n",
       "      <td>15</td>\n",
       "      <td>...</td>\n",
       "      <td>1</td>\n",
       "      <td>3</td>\n",
       "      <td>4</td>\n",
       "      <td>6</td>\n",
       "      <td>1</td>\n",
       "      <td>1</td>\n",
       "      <td>6</td>\n",
       "      <td>21</td>\n",
       "      <td>13.6</td>\n",
       "      <td>-24</td>\n",
       "    </tr>\n",
       "    <tr>\n",
       "      <th>110</th>\n",
       "      <td>19</td>\n",
       "      <td>2012-06-12</td>\n",
       "      <td>FIN</td>\n",
       "      <td>1</td>\n",
       "      <td>MIA</td>\n",
       "      <td>OKC</td>\n",
       "      <td>L (-11)</td>\n",
       "      <td>46</td>\n",
       "      <td>11</td>\n",
       "      <td>24</td>\n",
       "      <td>...</td>\n",
       "      <td>1</td>\n",
       "      <td>8</td>\n",
       "      <td>9</td>\n",
       "      <td>4</td>\n",
       "      <td>4</td>\n",
       "      <td>0</td>\n",
       "      <td>4</td>\n",
       "      <td>30</td>\n",
       "      <td>22.3</td>\n",
       "      <td>-11</td>\n",
       "    </tr>\n",
       "    <tr>\n",
       "      <th>111</th>\n",
       "      <td>20</td>\n",
       "      <td>2012-06-14</td>\n",
       "      <td>FIN</td>\n",
       "      <td>2</td>\n",
       "      <td>MIA</td>\n",
       "      <td>OKC</td>\n",
       "      <td>W (+4)</td>\n",
       "      <td>42</td>\n",
       "      <td>10</td>\n",
       "      <td>22</td>\n",
       "      <td>...</td>\n",
       "      <td>2</td>\n",
       "      <td>6</td>\n",
       "      <td>8</td>\n",
       "      <td>5</td>\n",
       "      <td>1</td>\n",
       "      <td>0</td>\n",
       "      <td>2</td>\n",
       "      <td>32</td>\n",
       "      <td>24.7</td>\n",
       "      <td>6</td>\n",
       "    </tr>\n",
       "    <tr>\n",
       "      <th>112</th>\n",
       "      <td>21</td>\n",
       "      <td>2012-06-17</td>\n",
       "      <td>FIN</td>\n",
       "      <td>3</td>\n",
       "      <td>MIA</td>\n",
       "      <td>OKC</td>\n",
       "      <td>W (+6)</td>\n",
       "      <td>44</td>\n",
       "      <td>11</td>\n",
       "      <td>23</td>\n",
       "      <td>...</td>\n",
       "      <td>5</td>\n",
       "      <td>9</td>\n",
       "      <td>14</td>\n",
       "      <td>3</td>\n",
       "      <td>0</td>\n",
       "      <td>0</td>\n",
       "      <td>4</td>\n",
       "      <td>29</td>\n",
       "      <td>20.4</td>\n",
       "      <td>8</td>\n",
       "    </tr>\n",
       "    <tr>\n",
       "      <th>113</th>\n",
       "      <td>22</td>\n",
       "      <td>2012-06-19</td>\n",
       "      <td>FIN</td>\n",
       "      <td>4</td>\n",
       "      <td>MIA</td>\n",
       "      <td>OKC</td>\n",
       "      <td>W (+6)</td>\n",
       "      <td>44</td>\n",
       "      <td>10</td>\n",
       "      <td>20</td>\n",
       "      <td>...</td>\n",
       "      <td>3</td>\n",
       "      <td>6</td>\n",
       "      <td>9</td>\n",
       "      <td>12</td>\n",
       "      <td>2</td>\n",
       "      <td>0</td>\n",
       "      <td>3</td>\n",
       "      <td>26</td>\n",
       "      <td>25.3</td>\n",
       "      <td>8</td>\n",
       "    </tr>\n",
       "    <tr>\n",
       "      <th>114</th>\n",
       "      <td>23</td>\n",
       "      <td>2012-06-21</td>\n",
       "      <td>FIN</td>\n",
       "      <td>5</td>\n",
       "      <td>MIA</td>\n",
       "      <td>OKC</td>\n",
       "      <td>W (+15)</td>\n",
       "      <td>44</td>\n",
       "      <td>9</td>\n",
       "      <td>19</td>\n",
       "      <td>...</td>\n",
       "      <td>4</td>\n",
       "      <td>7</td>\n",
       "      <td>11</td>\n",
       "      <td>13</td>\n",
       "      <td>1</td>\n",
       "      <td>2</td>\n",
       "      <td>6</td>\n",
       "      <td>26</td>\n",
       "      <td>25.5</td>\n",
       "      <td>20</td>\n",
       "    </tr>\n",
       "    <tr>\n",
       "      <th>131</th>\n",
       "      <td>17</td>\n",
       "      <td>2013-06-06</td>\n",
       "      <td>FIN</td>\n",
       "      <td>1</td>\n",
       "      <td>MIA</td>\n",
       "      <td>SAS</td>\n",
       "      <td>L (-4)</td>\n",
       "      <td>42</td>\n",
       "      <td>7</td>\n",
       "      <td>16</td>\n",
       "      <td>...</td>\n",
       "      <td>2</td>\n",
       "      <td>16</td>\n",
       "      <td>18</td>\n",
       "      <td>10</td>\n",
       "      <td>0</td>\n",
       "      <td>0</td>\n",
       "      <td>2</td>\n",
       "      <td>18</td>\n",
       "      <td>20.4</td>\n",
       "      <td>-3</td>\n",
       "    </tr>\n",
       "    <tr>\n",
       "      <th>132</th>\n",
       "      <td>18</td>\n",
       "      <td>2013-06-09</td>\n",
       "      <td>FIN</td>\n",
       "      <td>2</td>\n",
       "      <td>MIA</td>\n",
       "      <td>SAS</td>\n",
       "      <td>W (+19)</td>\n",
       "      <td>41</td>\n",
       "      <td>7</td>\n",
       "      <td>17</td>\n",
       "      <td>...</td>\n",
       "      <td>1</td>\n",
       "      <td>7</td>\n",
       "      <td>8</td>\n",
       "      <td>7</td>\n",
       "      <td>3</td>\n",
       "      <td>3</td>\n",
       "      <td>2</td>\n",
       "      <td>17</td>\n",
       "      <td>17.9</td>\n",
       "      <td>29</td>\n",
       "    </tr>\n",
       "    <tr>\n",
       "      <th>133</th>\n",
       "      <td>19</td>\n",
       "      <td>2013-06-11</td>\n",
       "      <td>FIN</td>\n",
       "      <td>3</td>\n",
       "      <td>MIA</td>\n",
       "      <td>SAS</td>\n",
       "      <td>L (-36)</td>\n",
       "      <td>39</td>\n",
       "      <td>7</td>\n",
       "      <td>21</td>\n",
       "      <td>...</td>\n",
       "      <td>1</td>\n",
       "      <td>10</td>\n",
       "      <td>11</td>\n",
       "      <td>5</td>\n",
       "      <td>2</td>\n",
       "      <td>0</td>\n",
       "      <td>2</td>\n",
       "      <td>15</td>\n",
       "      <td>10.3</td>\n",
       "      <td>-32</td>\n",
       "    </tr>\n",
       "    <tr>\n",
       "      <th>134</th>\n",
       "      <td>20</td>\n",
       "      <td>2013-06-13</td>\n",
       "      <td>FIN</td>\n",
       "      <td>4</td>\n",
       "      <td>MIA</td>\n",
       "      <td>SAS</td>\n",
       "      <td>W (+16)</td>\n",
       "      <td>41</td>\n",
       "      <td>15</td>\n",
       "      <td>25</td>\n",
       "      <td>...</td>\n",
       "      <td>3</td>\n",
       "      <td>8</td>\n",
       "      <td>11</td>\n",
       "      <td>4</td>\n",
       "      <td>2</td>\n",
       "      <td>2</td>\n",
       "      <td>1</td>\n",
       "      <td>33</td>\n",
       "      <td>29.6</td>\n",
       "      <td>8</td>\n",
       "    </tr>\n",
       "    <tr>\n",
       "      <th>135</th>\n",
       "      <td>21</td>\n",
       "      <td>2013-06-16</td>\n",
       "      <td>FIN</td>\n",
       "      <td>5</td>\n",
       "      <td>MIA</td>\n",
       "      <td>SAS</td>\n",
       "      <td>L (-10)</td>\n",
       "      <td>44</td>\n",
       "      <td>8</td>\n",
       "      <td>22</td>\n",
       "      <td>...</td>\n",
       "      <td>3</td>\n",
       "      <td>3</td>\n",
       "      <td>6</td>\n",
       "      <td>8</td>\n",
       "      <td>4</td>\n",
       "      <td>0</td>\n",
       "      <td>3</td>\n",
       "      <td>25</td>\n",
       "      <td>21.2</td>\n",
       "      <td>-9</td>\n",
       "    </tr>\n",
       "    <tr>\n",
       "      <th>136</th>\n",
       "      <td>22</td>\n",
       "      <td>2013-06-18</td>\n",
       "      <td>FIN</td>\n",
       "      <td>6</td>\n",
       "      <td>MIA</td>\n",
       "      <td>SAS</td>\n",
       "      <td>W (+3)</td>\n",
       "      <td>50</td>\n",
       "      <td>11</td>\n",
       "      <td>26</td>\n",
       "      <td>...</td>\n",
       "      <td>4</td>\n",
       "      <td>6</td>\n",
       "      <td>10</td>\n",
       "      <td>11</td>\n",
       "      <td>3</td>\n",
       "      <td>1</td>\n",
       "      <td>6</td>\n",
       "      <td>32</td>\n",
       "      <td>25.8</td>\n",
       "      <td>-1</td>\n",
       "    </tr>\n",
       "    <tr>\n",
       "      <th>137</th>\n",
       "      <td>23</td>\n",
       "      <td>2013-06-20</td>\n",
       "      <td>FIN</td>\n",
       "      <td>7</td>\n",
       "      <td>MIA</td>\n",
       "      <td>SAS</td>\n",
       "      <td>W (+7)</td>\n",
       "      <td>45</td>\n",
       "      <td>12</td>\n",
       "      <td>23</td>\n",
       "      <td>...</td>\n",
       "      <td>3</td>\n",
       "      <td>9</td>\n",
       "      <td>12</td>\n",
       "      <td>4</td>\n",
       "      <td>2</td>\n",
       "      <td>0</td>\n",
       "      <td>2</td>\n",
       "      <td>37</td>\n",
       "      <td>32.5</td>\n",
       "      <td>8</td>\n",
       "    </tr>\n",
       "    <tr>\n",
       "      <th>153</th>\n",
       "      <td>16</td>\n",
       "      <td>2014-06-05</td>\n",
       "      <td>FIN</td>\n",
       "      <td>1</td>\n",
       "      <td>MIA</td>\n",
       "      <td>SAS</td>\n",
       "      <td>L (-15)</td>\n",
       "      <td>33</td>\n",
       "      <td>9</td>\n",
       "      <td>17</td>\n",
       "      <td>...</td>\n",
       "      <td>3</td>\n",
       "      <td>3</td>\n",
       "      <td>6</td>\n",
       "      <td>3</td>\n",
       "      <td>3</td>\n",
       "      <td>0</td>\n",
       "      <td>4</td>\n",
       "      <td>25</td>\n",
       "      <td>20.0</td>\n",
       "      <td>0</td>\n",
       "    </tr>\n",
       "    <tr>\n",
       "      <th>154</th>\n",
       "      <td>17</td>\n",
       "      <td>2014-06-08</td>\n",
       "      <td>FIN</td>\n",
       "      <td>2</td>\n",
       "      <td>MIA</td>\n",
       "      <td>SAS</td>\n",
       "      <td>W (+2)</td>\n",
       "      <td>38</td>\n",
       "      <td>14</td>\n",
       "      <td>22</td>\n",
       "      <td>...</td>\n",
       "      <td>2</td>\n",
       "      <td>8</td>\n",
       "      <td>10</td>\n",
       "      <td>3</td>\n",
       "      <td>2</td>\n",
       "      <td>0</td>\n",
       "      <td>4</td>\n",
       "      <td>35</td>\n",
       "      <td>27.5</td>\n",
       "      <td>11</td>\n",
       "    </tr>\n",
       "    <tr>\n",
       "      <th>155</th>\n",
       "      <td>18</td>\n",
       "      <td>2014-06-10</td>\n",
       "      <td>FIN</td>\n",
       "      <td>3</td>\n",
       "      <td>MIA</td>\n",
       "      <td>SAS</td>\n",
       "      <td>L (-19)</td>\n",
       "      <td>40</td>\n",
       "      <td>9</td>\n",
       "      <td>14</td>\n",
       "      <td>...</td>\n",
       "      <td>1</td>\n",
       "      <td>4</td>\n",
       "      <td>5</td>\n",
       "      <td>7</td>\n",
       "      <td>5</td>\n",
       "      <td>0</td>\n",
       "      <td>7</td>\n",
       "      <td>22</td>\n",
       "      <td>18.2</td>\n",
       "      <td>-21</td>\n",
       "    </tr>\n",
       "    <tr>\n",
       "      <th>156</th>\n",
       "      <td>19</td>\n",
       "      <td>2014-06-12</td>\n",
       "      <td>FIN</td>\n",
       "      <td>4</td>\n",
       "      <td>MIA</td>\n",
       "      <td>SAS</td>\n",
       "      <td>L (-21)</td>\n",
       "      <td>38</td>\n",
       "      <td>10</td>\n",
       "      <td>17</td>\n",
       "      <td>...</td>\n",
       "      <td>0</td>\n",
       "      <td>8</td>\n",
       "      <td>8</td>\n",
       "      <td>2</td>\n",
       "      <td>0</td>\n",
       "      <td>0</td>\n",
       "      <td>3</td>\n",
       "      <td>28</td>\n",
       "      <td>20.1</td>\n",
       "      <td>-21</td>\n",
       "    </tr>\n",
       "    <tr>\n",
       "      <th>157</th>\n",
       "      <td>20</td>\n",
       "      <td>2014-06-15</td>\n",
       "      <td>FIN</td>\n",
       "      <td>5</td>\n",
       "      <td>MIA</td>\n",
       "      <td>SAS</td>\n",
       "      <td>L (-17)</td>\n",
       "      <td>41</td>\n",
       "      <td>10</td>\n",
       "      <td>21</td>\n",
       "      <td>...</td>\n",
       "      <td>1</td>\n",
       "      <td>9</td>\n",
       "      <td>10</td>\n",
       "      <td>5</td>\n",
       "      <td>0</td>\n",
       "      <td>2</td>\n",
       "      <td>1</td>\n",
       "      <td>31</td>\n",
       "      <td>26.8</td>\n",
       "      <td>-16</td>\n",
       "    </tr>\n",
       "    <tr>\n",
       "      <th>172</th>\n",
       "      <td>15</td>\n",
       "      <td>2015-06-04</td>\n",
       "      <td>FIN</td>\n",
       "      <td>1</td>\n",
       "      <td>CLE</td>\n",
       "      <td>GSW</td>\n",
       "      <td>L (-8)</td>\n",
       "      <td>46</td>\n",
       "      <td>18</td>\n",
       "      <td>38</td>\n",
       "      <td>...</td>\n",
       "      <td>0</td>\n",
       "      <td>8</td>\n",
       "      <td>8</td>\n",
       "      <td>6</td>\n",
       "      <td>0</td>\n",
       "      <td>0</td>\n",
       "      <td>4</td>\n",
       "      <td>44</td>\n",
       "      <td>24.8</td>\n",
       "      <td>-3</td>\n",
       "    </tr>\n",
       "    <tr>\n",
       "      <th>173</th>\n",
       "      <td>16</td>\n",
       "      <td>2015-06-07</td>\n",
       "      <td>FIN</td>\n",
       "      <td>2</td>\n",
       "      <td>CLE</td>\n",
       "      <td>GSW</td>\n",
       "      <td>W (+2)</td>\n",
       "      <td>50</td>\n",
       "      <td>11</td>\n",
       "      <td>35</td>\n",
       "      <td>...</td>\n",
       "      <td>4</td>\n",
       "      <td>12</td>\n",
       "      <td>16</td>\n",
       "      <td>11</td>\n",
       "      <td>1</td>\n",
       "      <td>1</td>\n",
       "      <td>3</td>\n",
       "      <td>39</td>\n",
       "      <td>28.9</td>\n",
       "      <td>0</td>\n",
       "    </tr>\n",
       "    <tr>\n",
       "      <th>174</th>\n",
       "      <td>17</td>\n",
       "      <td>2015-06-09</td>\n",
       "      <td>FIN</td>\n",
       "      <td>3</td>\n",
       "      <td>CLE</td>\n",
       "      <td>GSW</td>\n",
       "      <td>W (+5)</td>\n",
       "      <td>46</td>\n",
       "      <td>14</td>\n",
       "      <td>34</td>\n",
       "      <td>...</td>\n",
       "      <td>1</td>\n",
       "      <td>11</td>\n",
       "      <td>12</td>\n",
       "      <td>8</td>\n",
       "      <td>4</td>\n",
       "      <td>2</td>\n",
       "      <td>4</td>\n",
       "      <td>40</td>\n",
       "      <td>31.6</td>\n",
       "      <td>7</td>\n",
       "    </tr>\n",
       "    <tr>\n",
       "      <th>175</th>\n",
       "      <td>18</td>\n",
       "      <td>2015-06-11</td>\n",
       "      <td>FIN</td>\n",
       "      <td>4</td>\n",
       "      <td>CLE</td>\n",
       "      <td>GSW</td>\n",
       "      <td>L (-21)</td>\n",
       "      <td>41</td>\n",
       "      <td>7</td>\n",
       "      <td>22</td>\n",
       "      <td>...</td>\n",
       "      <td>2</td>\n",
       "      <td>10</td>\n",
       "      <td>12</td>\n",
       "      <td>8</td>\n",
       "      <td>0</td>\n",
       "      <td>0</td>\n",
       "      <td>2</td>\n",
       "      <td>20</td>\n",
       "      <td>11.4</td>\n",
       "      <td>-15</td>\n",
       "    </tr>\n",
       "    <tr>\n",
       "      <th>176</th>\n",
       "      <td>19</td>\n",
       "      <td>2015-06-14</td>\n",
       "      <td>FIN</td>\n",
       "      <td>5</td>\n",
       "      <td>CLE</td>\n",
       "      <td>GSW</td>\n",
       "      <td>L (-13)</td>\n",
       "      <td>45</td>\n",
       "      <td>15</td>\n",
       "      <td>34</td>\n",
       "      <td>...</td>\n",
       "      <td>1</td>\n",
       "      <td>13</td>\n",
       "      <td>14</td>\n",
       "      <td>11</td>\n",
       "      <td>1</td>\n",
       "      <td>0</td>\n",
       "      <td>2</td>\n",
       "      <td>40</td>\n",
       "      <td>30.7</td>\n",
       "      <td>-11</td>\n",
       "    </tr>\n",
       "    <tr>\n",
       "      <th>177</th>\n",
       "      <td>20</td>\n",
       "      <td>2015-06-16</td>\n",
       "      <td>FIN</td>\n",
       "      <td>6</td>\n",
       "      <td>CLE</td>\n",
       "      <td>GSW</td>\n",
       "      <td>L (-8)</td>\n",
       "      <td>47</td>\n",
       "      <td>13</td>\n",
       "      <td>33</td>\n",
       "      <td>...</td>\n",
       "      <td>3</td>\n",
       "      <td>15</td>\n",
       "      <td>18</td>\n",
       "      <td>9</td>\n",
       "      <td>2</td>\n",
       "      <td>0</td>\n",
       "      <td>6</td>\n",
       "      <td>32</td>\n",
       "      <td>20.2</td>\n",
       "      <td>-3</td>\n",
       "    </tr>\n",
       "    <tr>\n",
       "      <th>192</th>\n",
       "      <td>15</td>\n",
       "      <td>2016-06-02</td>\n",
       "      <td>FIN</td>\n",
       "      <td>1</td>\n",
       "      <td>CLE</td>\n",
       "      <td>GSW</td>\n",
       "      <td>L (-15)</td>\n",
       "      <td>41</td>\n",
       "      <td>9</td>\n",
       "      <td>21</td>\n",
       "      <td>...</td>\n",
       "      <td>4</td>\n",
       "      <td>8</td>\n",
       "      <td>12</td>\n",
       "      <td>9</td>\n",
       "      <td>2</td>\n",
       "      <td>1</td>\n",
       "      <td>4</td>\n",
       "      <td>23</td>\n",
       "      <td>20.9</td>\n",
       "      <td>-9</td>\n",
       "    </tr>\n",
       "    <tr>\n",
       "      <th>193</th>\n",
       "      <td>16</td>\n",
       "      <td>2016-06-05</td>\n",
       "      <td>FIN</td>\n",
       "      <td>2</td>\n",
       "      <td>CLE</td>\n",
       "      <td>GSW</td>\n",
       "      <td>L (-33)</td>\n",
       "      <td>34</td>\n",
       "      <td>7</td>\n",
       "      <td>17</td>\n",
       "      <td>...</td>\n",
       "      <td>0</td>\n",
       "      <td>8</td>\n",
       "      <td>8</td>\n",
       "      <td>9</td>\n",
       "      <td>4</td>\n",
       "      <td>1</td>\n",
       "      <td>7</td>\n",
       "      <td>19</td>\n",
       "      <td>15.1</td>\n",
       "      <td>-20</td>\n",
       "    </tr>\n",
       "    <tr>\n",
       "      <th>194</th>\n",
       "      <td>17</td>\n",
       "      <td>2016-06-08</td>\n",
       "      <td>FIN</td>\n",
       "      <td>3</td>\n",
       "      <td>CLE</td>\n",
       "      <td>GSW</td>\n",
       "      <td>W (+30)</td>\n",
       "      <td>40</td>\n",
       "      <td>14</td>\n",
       "      <td>26</td>\n",
       "      <td>...</td>\n",
       "      <td>2</td>\n",
       "      <td>9</td>\n",
       "      <td>11</td>\n",
       "      <td>6</td>\n",
       "      <td>1</td>\n",
       "      <td>2</td>\n",
       "      <td>5</td>\n",
       "      <td>32</td>\n",
       "      <td>23.5</td>\n",
       "      <td>24</td>\n",
       "    </tr>\n",
       "    <tr>\n",
       "      <th>195</th>\n",
       "      <td>18</td>\n",
       "      <td>2016-06-10</td>\n",
       "      <td>FIN</td>\n",
       "      <td>4</td>\n",
       "      <td>CLE</td>\n",
       "      <td>GSW</td>\n",
       "      <td>L (-11)</td>\n",
       "      <td>46</td>\n",
       "      <td>11</td>\n",
       "      <td>21</td>\n",
       "      <td>...</td>\n",
       "      <td>4</td>\n",
       "      <td>9</td>\n",
       "      <td>13</td>\n",
       "      <td>9</td>\n",
       "      <td>2</td>\n",
       "      <td>3</td>\n",
       "      <td>7</td>\n",
       "      <td>25</td>\n",
       "      <td>21.2</td>\n",
       "      <td>-12</td>\n",
       "    </tr>\n",
       "    <tr>\n",
       "      <th>196</th>\n",
       "      <td>19</td>\n",
       "      <td>2016-06-13</td>\n",
       "      <td>FIN</td>\n",
       "      <td>5</td>\n",
       "      <td>CLE</td>\n",
       "      <td>GSW</td>\n",
       "      <td>W (+15)</td>\n",
       "      <td>43</td>\n",
       "      <td>16</td>\n",
       "      <td>30</td>\n",
       "      <td>...</td>\n",
       "      <td>4</td>\n",
       "      <td>12</td>\n",
       "      <td>16</td>\n",
       "      <td>7</td>\n",
       "      <td>3</td>\n",
       "      <td>3</td>\n",
       "      <td>2</td>\n",
       "      <td>41</td>\n",
       "      <td>39.2</td>\n",
       "      <td>13</td>\n",
       "    </tr>\n",
       "    <tr>\n",
       "      <th>197</th>\n",
       "      <td>20</td>\n",
       "      <td>2016-06-16</td>\n",
       "      <td>FIN</td>\n",
       "      <td>6</td>\n",
       "      <td>CLE</td>\n",
       "      <td>GSW</td>\n",
       "      <td>W (+14)</td>\n",
       "      <td>43</td>\n",
       "      <td>16</td>\n",
       "      <td>27</td>\n",
       "      <td>...</td>\n",
       "      <td>2</td>\n",
       "      <td>6</td>\n",
       "      <td>8</td>\n",
       "      <td>11</td>\n",
       "      <td>4</td>\n",
       "      <td>3</td>\n",
       "      <td>1</td>\n",
       "      <td>41</td>\n",
       "      <td>42.5</td>\n",
       "      <td>26</td>\n",
       "    </tr>\n",
       "    <tr>\n",
       "      <th>198</th>\n",
       "      <td>21</td>\n",
       "      <td>2016-06-19</td>\n",
       "      <td>FIN</td>\n",
       "      <td>7</td>\n",
       "      <td>CLE</td>\n",
       "      <td>GSW</td>\n",
       "      <td>W (+4)</td>\n",
       "      <td>47</td>\n",
       "      <td>9</td>\n",
       "      <td>24</td>\n",
       "      <td>...</td>\n",
       "      <td>1</td>\n",
       "      <td>10</td>\n",
       "      <td>11</td>\n",
       "      <td>11</td>\n",
       "      <td>2</td>\n",
       "      <td>3</td>\n",
       "      <td>5</td>\n",
       "      <td>27</td>\n",
       "      <td>23.1</td>\n",
       "      <td>4</td>\n",
       "    </tr>\n",
       "    <tr>\n",
       "      <th>212</th>\n",
       "      <td>14</td>\n",
       "      <td>2017-06-01</td>\n",
       "      <td>FIN</td>\n",
       "      <td>1</td>\n",
       "      <td>CLE</td>\n",
       "      <td>GSW</td>\n",
       "      <td>L (-22)</td>\n",
       "      <td>40</td>\n",
       "      <td>9</td>\n",
       "      <td>20</td>\n",
       "      <td>...</td>\n",
       "      <td>3</td>\n",
       "      <td>12</td>\n",
       "      <td>15</td>\n",
       "      <td>8</td>\n",
       "      <td>0</td>\n",
       "      <td>2</td>\n",
       "      <td>8</td>\n",
       "      <td>28</td>\n",
       "      <td>19.1</td>\n",
       "      <td>-22</td>\n",
       "    </tr>\n",
       "    <tr>\n",
       "      <th>213</th>\n",
       "      <td>15</td>\n",
       "      <td>2017-06-04</td>\n",
       "      <td>FIN</td>\n",
       "      <td>2</td>\n",
       "      <td>CLE</td>\n",
       "      <td>GSW</td>\n",
       "      <td>L (-19)</td>\n",
       "      <td>39</td>\n",
       "      <td>12</td>\n",
       "      <td>18</td>\n",
       "      <td>...</td>\n",
       "      <td>0</td>\n",
       "      <td>11</td>\n",
       "      <td>11</td>\n",
       "      <td>14</td>\n",
       "      <td>3</td>\n",
       "      <td>1</td>\n",
       "      <td>4</td>\n",
       "      <td>29</td>\n",
       "      <td>32.8</td>\n",
       "      <td>-11</td>\n",
       "    </tr>\n",
       "    <tr>\n",
       "      <th>214</th>\n",
       "      <td>16</td>\n",
       "      <td>2017-06-07</td>\n",
       "      <td>FIN</td>\n",
       "      <td>3</td>\n",
       "      <td>CLE</td>\n",
       "      <td>GSW</td>\n",
       "      <td>L (-5)</td>\n",
       "      <td>46</td>\n",
       "      <td>15</td>\n",
       "      <td>27</td>\n",
       "      <td>...</td>\n",
       "      <td>3</td>\n",
       "      <td>8</td>\n",
       "      <td>11</td>\n",
       "      <td>9</td>\n",
       "      <td>1</td>\n",
       "      <td>1</td>\n",
       "      <td>5</td>\n",
       "      <td>39</td>\n",
       "      <td>32.4</td>\n",
       "      <td>7</td>\n",
       "    </tr>\n",
       "    <tr>\n",
       "      <th>215</th>\n",
       "      <td>17</td>\n",
       "      <td>2017-06-09</td>\n",
       "      <td>FIN</td>\n",
       "      <td>4</td>\n",
       "      <td>CLE</td>\n",
       "      <td>GSW</td>\n",
       "      <td>W (+21)</td>\n",
       "      <td>41</td>\n",
       "      <td>11</td>\n",
       "      <td>22</td>\n",
       "      <td>...</td>\n",
       "      <td>1</td>\n",
       "      <td>9</td>\n",
       "      <td>10</td>\n",
       "      <td>11</td>\n",
       "      <td>1</td>\n",
       "      <td>0</td>\n",
       "      <td>2</td>\n",
       "      <td>31</td>\n",
       "      <td>27.7</td>\n",
       "      <td>32</td>\n",
       "    </tr>\n",
       "    <tr>\n",
       "      <th>216</th>\n",
       "      <td>18</td>\n",
       "      <td>2017-06-12</td>\n",
       "      <td>FIN</td>\n",
       "      <td>5</td>\n",
       "      <td>CLE</td>\n",
       "      <td>GSW</td>\n",
       "      <td>L (-9)</td>\n",
       "      <td>46</td>\n",
       "      <td>19</td>\n",
       "      <td>30</td>\n",
       "      <td>...</td>\n",
       "      <td>2</td>\n",
       "      <td>11</td>\n",
       "      <td>13</td>\n",
       "      <td>8</td>\n",
       "      <td>2</td>\n",
       "      <td>1</td>\n",
       "      <td>2</td>\n",
       "      <td>41</td>\n",
       "      <td>36.2</td>\n",
       "      <td>-13</td>\n",
       "    </tr>\n",
       "    <tr>\n",
       "      <th>235</th>\n",
       "      <td>19</td>\n",
       "      <td>2018-05-31</td>\n",
       "      <td>FIN</td>\n",
       "      <td>1</td>\n",
       "      <td>CLE</td>\n",
       "      <td>GSW</td>\n",
       "      <td>L (-10)</td>\n",
       "      <td>48</td>\n",
       "      <td>19</td>\n",
       "      <td>32</td>\n",
       "      <td>...</td>\n",
       "      <td>4</td>\n",
       "      <td>4</td>\n",
       "      <td>8</td>\n",
       "      <td>8</td>\n",
       "      <td>1</td>\n",
       "      <td>1</td>\n",
       "      <td>5</td>\n",
       "      <td>51</td>\n",
       "      <td>41.3</td>\n",
       "      <td>-13</td>\n",
       "    </tr>\n",
       "    <tr>\n",
       "      <th>236</th>\n",
       "      <td>20</td>\n",
       "      <td>2018-06-03</td>\n",
       "      <td>FIN</td>\n",
       "      <td>2</td>\n",
       "      <td>CLE</td>\n",
       "      <td>GSW</td>\n",
       "      <td>L (-19)</td>\n",
       "      <td>44</td>\n",
       "      <td>10</td>\n",
       "      <td>20</td>\n",
       "      <td>...</td>\n",
       "      <td>1</td>\n",
       "      <td>8</td>\n",
       "      <td>9</td>\n",
       "      <td>13</td>\n",
       "      <td>2</td>\n",
       "      <td>0</td>\n",
       "      <td>5</td>\n",
       "      <td>29</td>\n",
       "      <td>26.6</td>\n",
       "      <td>-18</td>\n",
       "    </tr>\n",
       "    <tr>\n",
       "      <th>237</th>\n",
       "      <td>21</td>\n",
       "      <td>2018-06-06</td>\n",
       "      <td>FIN</td>\n",
       "      <td>3</td>\n",
       "      <td>CLE</td>\n",
       "      <td>GSW</td>\n",
       "      <td>L (-8)</td>\n",
       "      <td>47</td>\n",
       "      <td>13</td>\n",
       "      <td>28</td>\n",
       "      <td>...</td>\n",
       "      <td>3</td>\n",
       "      <td>7</td>\n",
       "      <td>10</td>\n",
       "      <td>11</td>\n",
       "      <td>2</td>\n",
       "      <td>2</td>\n",
       "      <td>4</td>\n",
       "      <td>33</td>\n",
       "      <td>28.7</td>\n",
       "      <td>-8</td>\n",
       "    </tr>\n",
       "    <tr>\n",
       "      <th>238</th>\n",
       "      <td>22</td>\n",
       "      <td>2018-06-08</td>\n",
       "      <td>FIN</td>\n",
       "      <td>4</td>\n",
       "      <td>CLE</td>\n",
       "      <td>GSW</td>\n",
       "      <td>L (-23)</td>\n",
       "      <td>41</td>\n",
       "      <td>7</td>\n",
       "      <td>13</td>\n",
       "      <td>...</td>\n",
       "      <td>1</td>\n",
       "      <td>6</td>\n",
       "      <td>7</td>\n",
       "      <td>8</td>\n",
       "      <td>0</td>\n",
       "      <td>1</td>\n",
       "      <td>6</td>\n",
       "      <td>23</td>\n",
       "      <td>16.7</td>\n",
       "      <td>-21</td>\n",
       "    </tr>\n",
       "    <tr>\n",
       "      <th>254</th>\n",
       "      <td>16</td>\n",
       "      <td>2020-09-30</td>\n",
       "      <td>FIN</td>\n",
       "      <td>1</td>\n",
       "      <td>LAL</td>\n",
       "      <td>MIA</td>\n",
       "      <td>W (+18)</td>\n",
       "      <td>36</td>\n",
       "      <td>9</td>\n",
       "      <td>17</td>\n",
       "      <td>...</td>\n",
       "      <td>1</td>\n",
       "      <td>12</td>\n",
       "      <td>13</td>\n",
       "      <td>9</td>\n",
       "      <td>1</td>\n",
       "      <td>0</td>\n",
       "      <td>2</td>\n",
       "      <td>25</td>\n",
       "      <td>24.7</td>\n",
       "      <td>10</td>\n",
       "    </tr>\n",
       "    <tr>\n",
       "      <th>255</th>\n",
       "      <td>17</td>\n",
       "      <td>2020-10-02</td>\n",
       "      <td>FIN</td>\n",
       "      <td>2</td>\n",
       "      <td>LAL</td>\n",
       "      <td>MIA</td>\n",
       "      <td>W (+10)</td>\n",
       "      <td>39</td>\n",
       "      <td>14</td>\n",
       "      <td>25</td>\n",
       "      <td>...</td>\n",
       "      <td>2</td>\n",
       "      <td>7</td>\n",
       "      <td>9</td>\n",
       "      <td>9</td>\n",
       "      <td>1</td>\n",
       "      <td>1</td>\n",
       "      <td>0</td>\n",
       "      <td>33</td>\n",
       "      <td>30.6</td>\n",
       "      <td>7</td>\n",
       "    </tr>\n",
       "    <tr>\n",
       "      <th>256</th>\n",
       "      <td>18</td>\n",
       "      <td>2020-10-04</td>\n",
       "      <td>FIN</td>\n",
       "      <td>3</td>\n",
       "      <td>LAL</td>\n",
       "      <td>MIA</td>\n",
       "      <td>L (-11)</td>\n",
       "      <td>39</td>\n",
       "      <td>9</td>\n",
       "      <td>16</td>\n",
       "      <td>...</td>\n",
       "      <td>1</td>\n",
       "      <td>9</td>\n",
       "      <td>10</td>\n",
       "      <td>8</td>\n",
       "      <td>0</td>\n",
       "      <td>2</td>\n",
       "      <td>8</td>\n",
       "      <td>25</td>\n",
       "      <td>17.8</td>\n",
       "      <td>-4</td>\n",
       "    </tr>\n",
       "    <tr>\n",
       "      <th>257</th>\n",
       "      <td>19</td>\n",
       "      <td>2020-10-06</td>\n",
       "      <td>FIN</td>\n",
       "      <td>4</td>\n",
       "      <td>LAL</td>\n",
       "      <td>MIA</td>\n",
       "      <td>W (+6)</td>\n",
       "      <td>39</td>\n",
       "      <td>8</td>\n",
       "      <td>16</td>\n",
       "      <td>...</td>\n",
       "      <td>2</td>\n",
       "      <td>10</td>\n",
       "      <td>12</td>\n",
       "      <td>8</td>\n",
       "      <td>1</td>\n",
       "      <td>0</td>\n",
       "      <td>6</td>\n",
       "      <td>28</td>\n",
       "      <td>23.4</td>\n",
       "      <td>-2</td>\n",
       "    </tr>\n",
       "    <tr>\n",
       "      <th>258</th>\n",
       "      <td>20</td>\n",
       "      <td>2020-10-09</td>\n",
       "      <td>FIN</td>\n",
       "      <td>5</td>\n",
       "      <td>LAL</td>\n",
       "      <td>MIA</td>\n",
       "      <td>L (-3)</td>\n",
       "      <td>42</td>\n",
       "      <td>15</td>\n",
       "      <td>21</td>\n",
       "      <td>...</td>\n",
       "      <td>3</td>\n",
       "      <td>10</td>\n",
       "      <td>13</td>\n",
       "      <td>7</td>\n",
       "      <td>3</td>\n",
       "      <td>0</td>\n",
       "      <td>4</td>\n",
       "      <td>40</td>\n",
       "      <td>39.1</td>\n",
       "      <td>7</td>\n",
       "    </tr>\n",
       "    <tr>\n",
       "      <th>259</th>\n",
       "      <td>21</td>\n",
       "      <td>2020-10-11</td>\n",
       "      <td>FIN</td>\n",
       "      <td>6</td>\n",
       "      <td>LAL</td>\n",
       "      <td>MIA</td>\n",
       "      <td>W (+13)</td>\n",
       "      <td>41</td>\n",
       "      <td>13</td>\n",
       "      <td>20</td>\n",
       "      <td>...</td>\n",
       "      <td>3</td>\n",
       "      <td>11</td>\n",
       "      <td>14</td>\n",
       "      <td>10</td>\n",
       "      <td>1</td>\n",
       "      <td>0</td>\n",
       "      <td>1</td>\n",
       "      <td>28</td>\n",
       "      <td>29.2</td>\n",
       "      <td>18</td>\n",
       "    </tr>\n",
       "  </tbody>\n",
       "</table>\n",
       "<p>55 rows × 27 columns</p>\n",
       "</div>"
      ],
      "text/plain": [
       "     game       date series  series_game team  opp   result  mp  fg  fga  ...   \n",
       "29     17 2007-06-07    FIN            1  CLE  SAS   L (-9)  44   4   16  ...  \\\n",
       "30     18 2007-06-10    FIN            2  CLE  SAS  L (-11)  38   9   21  ...   \n",
       "31     19 2007-06-12    FIN            3  CLE  SAS   L (-3)  42   9   23  ...   \n",
       "32     20 2007-06-14    FIN            4  CLE  SAS   L (-1)  46  10   30  ...   \n",
       "86     16 2011-05-31    FIN            1  MIA  DAL   W (+8)  45   9   16  ...   \n",
       "87     17 2011-06-02    FIN            2  MIA  DAL   L (-2)  40   8   15  ...   \n",
       "88     18 2011-06-05    FIN            3  MIA  DAL   W (+2)  45   6   14  ...   \n",
       "89     19 2011-06-07    FIN            4  MIA  DAL   L (-3)  46   3   11  ...   \n",
       "90     20 2011-06-09    FIN            5  MIA  DAL   L (-9)  46   8   19  ...   \n",
       "91     21 2011-06-12    FIN            6  MIA  DAL  L (-10)  40   9   15  ...   \n",
       "110    19 2012-06-12    FIN            1  MIA  OKC  L (-11)  46  11   24  ...   \n",
       "111    20 2012-06-14    FIN            2  MIA  OKC   W (+4)  42  10   22  ...   \n",
       "112    21 2012-06-17    FIN            3  MIA  OKC   W (+6)  44  11   23  ...   \n",
       "113    22 2012-06-19    FIN            4  MIA  OKC   W (+6)  44  10   20  ...   \n",
       "114    23 2012-06-21    FIN            5  MIA  OKC  W (+15)  44   9   19  ...   \n",
       "131    17 2013-06-06    FIN            1  MIA  SAS   L (-4)  42   7   16  ...   \n",
       "132    18 2013-06-09    FIN            2  MIA  SAS  W (+19)  41   7   17  ...   \n",
       "133    19 2013-06-11    FIN            3  MIA  SAS  L (-36)  39   7   21  ...   \n",
       "134    20 2013-06-13    FIN            4  MIA  SAS  W (+16)  41  15   25  ...   \n",
       "135    21 2013-06-16    FIN            5  MIA  SAS  L (-10)  44   8   22  ...   \n",
       "136    22 2013-06-18    FIN            6  MIA  SAS   W (+3)  50  11   26  ...   \n",
       "137    23 2013-06-20    FIN            7  MIA  SAS   W (+7)  45  12   23  ...   \n",
       "153    16 2014-06-05    FIN            1  MIA  SAS  L (-15)  33   9   17  ...   \n",
       "154    17 2014-06-08    FIN            2  MIA  SAS   W (+2)  38  14   22  ...   \n",
       "155    18 2014-06-10    FIN            3  MIA  SAS  L (-19)  40   9   14  ...   \n",
       "156    19 2014-06-12    FIN            4  MIA  SAS  L (-21)  38  10   17  ...   \n",
       "157    20 2014-06-15    FIN            5  MIA  SAS  L (-17)  41  10   21  ...   \n",
       "172    15 2015-06-04    FIN            1  CLE  GSW   L (-8)  46  18   38  ...   \n",
       "173    16 2015-06-07    FIN            2  CLE  GSW   W (+2)  50  11   35  ...   \n",
       "174    17 2015-06-09    FIN            3  CLE  GSW   W (+5)  46  14   34  ...   \n",
       "175    18 2015-06-11    FIN            4  CLE  GSW  L (-21)  41   7   22  ...   \n",
       "176    19 2015-06-14    FIN            5  CLE  GSW  L (-13)  45  15   34  ...   \n",
       "177    20 2015-06-16    FIN            6  CLE  GSW   L (-8)  47  13   33  ...   \n",
       "192    15 2016-06-02    FIN            1  CLE  GSW  L (-15)  41   9   21  ...   \n",
       "193    16 2016-06-05    FIN            2  CLE  GSW  L (-33)  34   7   17  ...   \n",
       "194    17 2016-06-08    FIN            3  CLE  GSW  W (+30)  40  14   26  ...   \n",
       "195    18 2016-06-10    FIN            4  CLE  GSW  L (-11)  46  11   21  ...   \n",
       "196    19 2016-06-13    FIN            5  CLE  GSW  W (+15)  43  16   30  ...   \n",
       "197    20 2016-06-16    FIN            6  CLE  GSW  W (+14)  43  16   27  ...   \n",
       "198    21 2016-06-19    FIN            7  CLE  GSW   W (+4)  47   9   24  ...   \n",
       "212    14 2017-06-01    FIN            1  CLE  GSW  L (-22)  40   9   20  ...   \n",
       "213    15 2017-06-04    FIN            2  CLE  GSW  L (-19)  39  12   18  ...   \n",
       "214    16 2017-06-07    FIN            3  CLE  GSW   L (-5)  46  15   27  ...   \n",
       "215    17 2017-06-09    FIN            4  CLE  GSW  W (+21)  41  11   22  ...   \n",
       "216    18 2017-06-12    FIN            5  CLE  GSW   L (-9)  46  19   30  ...   \n",
       "235    19 2018-05-31    FIN            1  CLE  GSW  L (-10)  48  19   32  ...   \n",
       "236    20 2018-06-03    FIN            2  CLE  GSW  L (-19)  44  10   20  ...   \n",
       "237    21 2018-06-06    FIN            3  CLE  GSW   L (-8)  47  13   28  ...   \n",
       "238    22 2018-06-08    FIN            4  CLE  GSW  L (-23)  41   7   13  ...   \n",
       "254    16 2020-09-30    FIN            1  LAL  MIA  W (+18)  36   9   17  ...   \n",
       "255    17 2020-10-02    FIN            2  LAL  MIA  W (+10)  39  14   25  ...   \n",
       "256    18 2020-10-04    FIN            3  LAL  MIA  L (-11)  39   9   16  ...   \n",
       "257    19 2020-10-06    FIN            4  LAL  MIA   W (+6)  39   8   16  ...   \n",
       "258    20 2020-10-09    FIN            5  LAL  MIA   L (-3)  42  15   21  ...   \n",
       "259    21 2020-10-11    FIN            6  LAL  MIA  W (+13)  41  13   20  ...   \n",
       "\n",
       "     orb  drb  trb  ast  stl  blk  tov  pts  game_score  plus_minus  \n",
       "29     1    6    7    4    1    1    6   14         5.0          -5  \n",
       "30     3    4    7    6    1    0    6   25        13.6          -5  \n",
       "31     0    8    8    7    2    1    5   25        15.9           4  \n",
       "32     0    6    6   10    0    0    6   24         7.8           2  \n",
       "86     0    9    9    5    1    0    1   24        21.0           9  \n",
       "87     1    7    8    4    4    1    5   20        15.6          -5  \n",
       "88     0    3    3    9    2    0    4   17        13.6           1  \n",
       "89     3    6    9    7    2    0    4    8         5.9          -6  \n",
       "90     1    9   10   10    0    1    4   17        12.4         -11  \n",
       "91     1    3    4    6    1    1    6   21        13.6         -24  \n",
       "110    1    8    9    4    4    0    4   30        22.3         -11  \n",
       "111    2    6    8    5    1    0    2   32        24.7           6  \n",
       "112    5    9   14    3    0    0    4   29        20.4           8  \n",
       "113    3    6    9   12    2    0    3   26        25.3           8  \n",
       "114    4    7   11   13    1    2    6   26        25.5          20  \n",
       "131    2   16   18   10    0    0    2   18        20.4          -3  \n",
       "132    1    7    8    7    3    3    2   17        17.9          29  \n",
       "133    1   10   11    5    2    0    2   15        10.3         -32  \n",
       "134    3    8   11    4    2    2    1   33        29.6           8  \n",
       "135    3    3    6    8    4    0    3   25        21.2          -9  \n",
       "136    4    6   10   11    3    1    6   32        25.8          -1  \n",
       "137    3    9   12    4    2    0    2   37        32.5           8  \n",
       "153    3    3    6    3    3    0    4   25        20.0           0  \n",
       "154    2    8   10    3    2    0    4   35        27.5          11  \n",
       "155    1    4    5    7    5    0    7   22        18.2         -21  \n",
       "156    0    8    8    2    0    0    3   28        20.1         -21  \n",
       "157    1    9   10    5    0    2    1   31        26.8         -16  \n",
       "172    0    8    8    6    0    0    4   44        24.8          -3  \n",
       "173    4   12   16   11    1    1    3   39        28.9           0  \n",
       "174    1   11   12    8    4    2    4   40        31.6           7  \n",
       "175    2   10   12    8    0    0    2   20        11.4         -15  \n",
       "176    1   13   14   11    1    0    2   40        30.7         -11  \n",
       "177    3   15   18    9    2    0    6   32        20.2          -3  \n",
       "192    4    8   12    9    2    1    4   23        20.9          -9  \n",
       "193    0    8    8    9    4    1    7   19        15.1         -20  \n",
       "194    2    9   11    6    1    2    5   32        23.5          24  \n",
       "195    4    9   13    9    2    3    7   25        21.2         -12  \n",
       "196    4   12   16    7    3    3    2   41        39.2          13  \n",
       "197    2    6    8   11    4    3    1   41        42.5          26  \n",
       "198    1   10   11   11    2    3    5   27        23.1           4  \n",
       "212    3   12   15    8    0    2    8   28        19.1         -22  \n",
       "213    0   11   11   14    3    1    4   29        32.8         -11  \n",
       "214    3    8   11    9    1    1    5   39        32.4           7  \n",
       "215    1    9   10   11    1    0    2   31        27.7          32  \n",
       "216    2   11   13    8    2    1    2   41        36.2         -13  \n",
       "235    4    4    8    8    1    1    5   51        41.3         -13  \n",
       "236    1    8    9   13    2    0    5   29        26.6         -18  \n",
       "237    3    7   10   11    2    2    4   33        28.7          -8  \n",
       "238    1    6    7    8    0    1    6   23        16.7         -21  \n",
       "254    1   12   13    9    1    0    2   25        24.7          10  \n",
       "255    2    7    9    9    1    1    0   33        30.6           7  \n",
       "256    1    9   10    8    0    2    8   25        17.8          -4  \n",
       "257    2   10   12    8    1    0    6   28        23.4          -2  \n",
       "258    3   10   13    7    3    0    4   40        39.1           7  \n",
       "259    3   11   14   10    1    0    1   28        29.2          18  \n",
       "\n",
       "[55 rows x 27 columns]"
      ]
     },
     "execution_count": 8,
     "metadata": {},
     "output_type": "execute_result"
    }
   ],
   "source": [
    "# lebron_playoffs[lebron_playoffs[\"series\"] == \"FIN\"]\n",
    "lebron_playoffs.query(\"series =='FIN'\")"
   ]
  },
  {
   "cell_type": "code",
   "execution_count": 11,
   "id": "9a781237",
   "metadata": {},
   "outputs": [
    {
     "data": {
      "text/html": [
       "<div>\n",
       "<style scoped>\n",
       "    .dataframe tbody tr th:only-of-type {\n",
       "        vertical-align: middle;\n",
       "    }\n",
       "\n",
       "    .dataframe tbody tr th {\n",
       "        vertical-align: top;\n",
       "    }\n",
       "\n",
       "    .dataframe thead th {\n",
       "        text-align: right;\n",
       "    }\n",
       "</style>\n",
       "<table border=\"1\" class=\"dataframe\">\n",
       "  <thead>\n",
       "    <tr style=\"text-align: right;\">\n",
       "      <th></th>\n",
       "      <th>game</th>\n",
       "      <th>date</th>\n",
       "      <th>age</th>\n",
       "      <th>team</th>\n",
       "      <th>opp</th>\n",
       "      <th>result</th>\n",
       "      <th>mp</th>\n",
       "      <th>fg</th>\n",
       "      <th>fga</th>\n",
       "      <th>fgp</th>\n",
       "      <th>...</th>\n",
       "      <th>orb</th>\n",
       "      <th>drb</th>\n",
       "      <th>trb</th>\n",
       "      <th>ast</th>\n",
       "      <th>stl</th>\n",
       "      <th>blk</th>\n",
       "      <th>tov</th>\n",
       "      <th>pts</th>\n",
       "      <th>game_score</th>\n",
       "      <th>plus_minus</th>\n",
       "    </tr>\n",
       "  </thead>\n",
       "  <tbody>\n",
       "    <tr>\n",
       "      <th>0</th>\n",
       "      <td>1</td>\n",
       "      <td>2003-10-29</td>\n",
       "      <td>18-303</td>\n",
       "      <td>CLE</td>\n",
       "      <td>SAC</td>\n",
       "      <td>L (-14)</td>\n",
       "      <td>42</td>\n",
       "      <td>12</td>\n",
       "      <td>20</td>\n",
       "      <td>0.600</td>\n",
       "      <td>...</td>\n",
       "      <td>2</td>\n",
       "      <td>4</td>\n",
       "      <td>6</td>\n",
       "      <td>9</td>\n",
       "      <td>4</td>\n",
       "      <td>0</td>\n",
       "      <td>2</td>\n",
       "      <td>25</td>\n",
       "      <td>24.7</td>\n",
       "      <td>-9</td>\n",
       "    </tr>\n",
       "    <tr>\n",
       "      <th>1</th>\n",
       "      <td>2</td>\n",
       "      <td>2003-10-30</td>\n",
       "      <td>18-304</td>\n",
       "      <td>CLE</td>\n",
       "      <td>PHO</td>\n",
       "      <td>L (-9)</td>\n",
       "      <td>41</td>\n",
       "      <td>8</td>\n",
       "      <td>17</td>\n",
       "      <td>0.471</td>\n",
       "      <td>...</td>\n",
       "      <td>2</td>\n",
       "      <td>10</td>\n",
       "      <td>12</td>\n",
       "      <td>8</td>\n",
       "      <td>1</td>\n",
       "      <td>0</td>\n",
       "      <td>7</td>\n",
       "      <td>21</td>\n",
       "      <td>14.7</td>\n",
       "      <td>-3</td>\n",
       "    </tr>\n",
       "    <tr>\n",
       "      <th>2</th>\n",
       "      <td>3</td>\n",
       "      <td>2003-11-01</td>\n",
       "      <td>18-306</td>\n",
       "      <td>CLE</td>\n",
       "      <td>POR</td>\n",
       "      <td>L (-19)</td>\n",
       "      <td>39</td>\n",
       "      <td>3</td>\n",
       "      <td>12</td>\n",
       "      <td>0.250</td>\n",
       "      <td>...</td>\n",
       "      <td>0</td>\n",
       "      <td>4</td>\n",
       "      <td>4</td>\n",
       "      <td>6</td>\n",
       "      <td>2</td>\n",
       "      <td>0</td>\n",
       "      <td>2</td>\n",
       "      <td>8</td>\n",
       "      <td>5.0</td>\n",
       "      <td>-21</td>\n",
       "    </tr>\n",
       "    <tr>\n",
       "      <th>3</th>\n",
       "      <td>4</td>\n",
       "      <td>2003-11-05</td>\n",
       "      <td>18-310</td>\n",
       "      <td>CLE</td>\n",
       "      <td>DEN</td>\n",
       "      <td>L (-4)</td>\n",
       "      <td>41</td>\n",
       "      <td>3</td>\n",
       "      <td>11</td>\n",
       "      <td>0.273</td>\n",
       "      <td>...</td>\n",
       "      <td>2</td>\n",
       "      <td>9</td>\n",
       "      <td>11</td>\n",
       "      <td>7</td>\n",
       "      <td>2</td>\n",
       "      <td>3</td>\n",
       "      <td>2</td>\n",
       "      <td>7</td>\n",
       "      <td>11.2</td>\n",
       "      <td>-3</td>\n",
       "    </tr>\n",
       "    <tr>\n",
       "      <th>4</th>\n",
       "      <td>5</td>\n",
       "      <td>2003-11-07</td>\n",
       "      <td>18-312</td>\n",
       "      <td>CLE</td>\n",
       "      <td>IND</td>\n",
       "      <td>L (-1)</td>\n",
       "      <td>44</td>\n",
       "      <td>8</td>\n",
       "      <td>18</td>\n",
       "      <td>0.444</td>\n",
       "      <td>...</td>\n",
       "      <td>0</td>\n",
       "      <td>5</td>\n",
       "      <td>5</td>\n",
       "      <td>3</td>\n",
       "      <td>0</td>\n",
       "      <td>0</td>\n",
       "      <td>7</td>\n",
       "      <td>23</td>\n",
       "      <td>9.0</td>\n",
       "      <td>-7</td>\n",
       "    </tr>\n",
       "  </tbody>\n",
       "</table>\n",
       "<p>5 rows × 26 columns</p>\n",
       "</div>"
      ],
      "text/plain": [
       "   game       date     age team  opp   result  mp  fg  fga    fgp  ...  orb   \n",
       "0     1 2003-10-29  18-303  CLE  SAC  L (-14)  42  12   20  0.600  ...    2  \\\n",
       "1     2 2003-10-30  18-304  CLE  PHO   L (-9)  41   8   17  0.471  ...    2   \n",
       "2     3 2003-11-01  18-306  CLE  POR  L (-19)  39   3   12  0.250  ...    0   \n",
       "3     4 2003-11-05  18-310  CLE  DEN   L (-4)  41   3   11  0.273  ...    2   \n",
       "4     5 2003-11-07  18-312  CLE  IND   L (-1)  44   8   18  0.444  ...    0   \n",
       "\n",
       "   drb  trb  ast  stl  blk  tov  pts  game_score  plus_minus  \n",
       "0    4    6    9    4    0    2   25        24.7          -9  \n",
       "1   10   12    8    1    0    7   21        14.7          -3  \n",
       "2    4    4    6    2    0    2    8         5.0         -21  \n",
       "3    9   11    7    2    3    2    7        11.2          -3  \n",
       "4    5    5    3    0    0    7   23         9.0          -7  \n",
       "\n",
       "[5 rows x 26 columns]"
      ]
     },
     "execution_count": 11,
     "metadata": {},
     "output_type": "execute_result"
    }
   ],
   "source": [
    "lebron_regular_season = pd.read_csv(\"lebron_career.csv\",parse_dates=[\"date\"])\n",
    "lebron_regular_season.head(5)"
   ]
  },
  {
   "cell_type": "code",
   "execution_count": 108,
   "id": "f57a713f",
   "metadata": {},
   "outputs": [
    {
     "data": {
      "text/html": [
       "<div>\n",
       "<style scoped>\n",
       "    .dataframe tbody tr th:only-of-type {\n",
       "        vertical-align: middle;\n",
       "    }\n",
       "\n",
       "    .dataframe tbody tr th {\n",
       "        vertical-align: top;\n",
       "    }\n",
       "\n",
       "    .dataframe thead th {\n",
       "        text-align: right;\n",
       "    }\n",
       "</style>\n",
       "<table border=\"1\" class=\"dataframe\">\n",
       "  <thead>\n",
       "    <tr style=\"text-align: right;\">\n",
       "      <th></th>\n",
       "      <th>Total</th>\n",
       "    </tr>\n",
       "  </thead>\n",
       "  <tbody>\n",
       "    <tr>\n",
       "      <th>pts</th>\n",
       "      <td>34241</td>\n",
       "    </tr>\n",
       "    <tr>\n",
       "      <th>ast</th>\n",
       "      <td>9346</td>\n",
       "    </tr>\n",
       "    <tr>\n",
       "      <th>trb</th>\n",
       "      <td>9405</td>\n",
       "    </tr>\n",
       "    <tr>\n",
       "      <th>blk</th>\n",
       "      <td>957</td>\n",
       "    </tr>\n",
       "    <tr>\n",
       "      <th>stl</th>\n",
       "      <td>2015</td>\n",
       "    </tr>\n",
       "    <tr>\n",
       "      <th>tov</th>\n",
       "      <td>4424</td>\n",
       "    </tr>\n",
       "  </tbody>\n",
       "</table>\n",
       "</div>"
      ],
      "text/plain": [
       "     Total\n",
       "pts  34241\n",
       "ast   9346\n",
       "trb   9405\n",
       "blk    957\n",
       "stl   2015\n",
       "tov   4424"
      ]
     },
     "execution_count": 108,
     "metadata": {},
     "output_type": "execute_result"
    }
   ],
   "source": [
    "lebron_totals_regular = lebron_regular_season[[\"pts\",\"ast\",\"trb\",\"blk\",\"stl\",\"tov\"]].sum().to_frame()\n",
    "lebron_totals_regular.rename(columns={lebron_totals_regular.columns[0]:\"Total\"},inplace=True)\n",
    "lebron_totals_regular"
   ]
  },
  {
   "cell_type": "code",
   "execution_count": 111,
   "id": "cadc4e08",
   "metadata": {},
   "outputs": [
    {
     "data": {
      "text/plain": [
       "34241"
      ]
     },
     "execution_count": 111,
     "metadata": {},
     "output_type": "execute_result"
    }
   ],
   "source": [
    "lebron_totals_regular.max()[0]"
   ]
  },
  {
   "cell_type": "code",
   "execution_count": 82,
   "id": "d75e100e",
   "metadata": {},
   "outputs": [
    {
     "data": {
      "application/vnd.plotly.v1+json": {
       "config": {
        "plotlyServerURL": "https://plot.ly"
       },
       "data": [
        {
         "alignmentgroup": "True",
         "hovertemplate": "index=%{x}<br>Total=%{y}<extra></extra>",
         "legendgroup": "",
         "marker": {
          "color": "#636efa",
          "pattern": {
           "shape": ""
          }
         },
         "name": "",
         "offsetgroup": "",
         "orientation": "v",
         "showlegend": false,
         "textposition": "auto",
         "type": "bar",
         "x": [
          "pts",
          "ast",
          "trb",
          "blk",
          "stl",
          "tov"
         ],
         "xaxis": "x",
         "y": [
          34241,
          9346,
          9405,
          957,
          2015,
          4424
         ],
         "yaxis": "y"
        }
       ],
       "layout": {
        "barmode": "relative",
        "font": {
         "color": "white"
        },
        "legend": {
         "tracegroupgap": 0
        },
        "margin": {
         "t": 60
        },
        "paper_bgcolor": "rgb(0,0,0,0)",
        "plot_bgcolor": "rgb(1,0,0,0.40)",
        "template": {
         "data": {
          "bar": [
           {
            "error_x": {
             "color": "#2a3f5f"
            },
            "error_y": {
             "color": "#2a3f5f"
            },
            "marker": {
             "line": {
              "color": "#E5ECF6",
              "width": 0.5
             },
             "pattern": {
              "fillmode": "overlay",
              "size": 10,
              "solidity": 0.2
             }
            },
            "type": "bar"
           }
          ],
          "barpolar": [
           {
            "marker": {
             "line": {
              "color": "#E5ECF6",
              "width": 0.5
             },
             "pattern": {
              "fillmode": "overlay",
              "size": 10,
              "solidity": 0.2
             }
            },
            "type": "barpolar"
           }
          ],
          "carpet": [
           {
            "aaxis": {
             "endlinecolor": "#2a3f5f",
             "gridcolor": "white",
             "linecolor": "white",
             "minorgridcolor": "white",
             "startlinecolor": "#2a3f5f"
            },
            "baxis": {
             "endlinecolor": "#2a3f5f",
             "gridcolor": "white",
             "linecolor": "white",
             "minorgridcolor": "white",
             "startlinecolor": "#2a3f5f"
            },
            "type": "carpet"
           }
          ],
          "choropleth": [
           {
            "colorbar": {
             "outlinewidth": 0,
             "ticks": ""
            },
            "type": "choropleth"
           }
          ],
          "contour": [
           {
            "colorbar": {
             "outlinewidth": 0,
             "ticks": ""
            },
            "colorscale": [
             [
              0,
              "#0d0887"
             ],
             [
              0.1111111111111111,
              "#46039f"
             ],
             [
              0.2222222222222222,
              "#7201a8"
             ],
             [
              0.3333333333333333,
              "#9c179e"
             ],
             [
              0.4444444444444444,
              "#bd3786"
             ],
             [
              0.5555555555555556,
              "#d8576b"
             ],
             [
              0.6666666666666666,
              "#ed7953"
             ],
             [
              0.7777777777777778,
              "#fb9f3a"
             ],
             [
              0.8888888888888888,
              "#fdca26"
             ],
             [
              1,
              "#f0f921"
             ]
            ],
            "type": "contour"
           }
          ],
          "contourcarpet": [
           {
            "colorbar": {
             "outlinewidth": 0,
             "ticks": ""
            },
            "type": "contourcarpet"
           }
          ],
          "heatmap": [
           {
            "colorbar": {
             "outlinewidth": 0,
             "ticks": ""
            },
            "colorscale": [
             [
              0,
              "#0d0887"
             ],
             [
              0.1111111111111111,
              "#46039f"
             ],
             [
              0.2222222222222222,
              "#7201a8"
             ],
             [
              0.3333333333333333,
              "#9c179e"
             ],
             [
              0.4444444444444444,
              "#bd3786"
             ],
             [
              0.5555555555555556,
              "#d8576b"
             ],
             [
              0.6666666666666666,
              "#ed7953"
             ],
             [
              0.7777777777777778,
              "#fb9f3a"
             ],
             [
              0.8888888888888888,
              "#fdca26"
             ],
             [
              1,
              "#f0f921"
             ]
            ],
            "type": "heatmap"
           }
          ],
          "heatmapgl": [
           {
            "colorbar": {
             "outlinewidth": 0,
             "ticks": ""
            },
            "colorscale": [
             [
              0,
              "#0d0887"
             ],
             [
              0.1111111111111111,
              "#46039f"
             ],
             [
              0.2222222222222222,
              "#7201a8"
             ],
             [
              0.3333333333333333,
              "#9c179e"
             ],
             [
              0.4444444444444444,
              "#bd3786"
             ],
             [
              0.5555555555555556,
              "#d8576b"
             ],
             [
              0.6666666666666666,
              "#ed7953"
             ],
             [
              0.7777777777777778,
              "#fb9f3a"
             ],
             [
              0.8888888888888888,
              "#fdca26"
             ],
             [
              1,
              "#f0f921"
             ]
            ],
            "type": "heatmapgl"
           }
          ],
          "histogram": [
           {
            "marker": {
             "pattern": {
              "fillmode": "overlay",
              "size": 10,
              "solidity": 0.2
             }
            },
            "type": "histogram"
           }
          ],
          "histogram2d": [
           {
            "colorbar": {
             "outlinewidth": 0,
             "ticks": ""
            },
            "colorscale": [
             [
              0,
              "#0d0887"
             ],
             [
              0.1111111111111111,
              "#46039f"
             ],
             [
              0.2222222222222222,
              "#7201a8"
             ],
             [
              0.3333333333333333,
              "#9c179e"
             ],
             [
              0.4444444444444444,
              "#bd3786"
             ],
             [
              0.5555555555555556,
              "#d8576b"
             ],
             [
              0.6666666666666666,
              "#ed7953"
             ],
             [
              0.7777777777777778,
              "#fb9f3a"
             ],
             [
              0.8888888888888888,
              "#fdca26"
             ],
             [
              1,
              "#f0f921"
             ]
            ],
            "type": "histogram2d"
           }
          ],
          "histogram2dcontour": [
           {
            "colorbar": {
             "outlinewidth": 0,
             "ticks": ""
            },
            "colorscale": [
             [
              0,
              "#0d0887"
             ],
             [
              0.1111111111111111,
              "#46039f"
             ],
             [
              0.2222222222222222,
              "#7201a8"
             ],
             [
              0.3333333333333333,
              "#9c179e"
             ],
             [
              0.4444444444444444,
              "#bd3786"
             ],
             [
              0.5555555555555556,
              "#d8576b"
             ],
             [
              0.6666666666666666,
              "#ed7953"
             ],
             [
              0.7777777777777778,
              "#fb9f3a"
             ],
             [
              0.8888888888888888,
              "#fdca26"
             ],
             [
              1,
              "#f0f921"
             ]
            ],
            "type": "histogram2dcontour"
           }
          ],
          "mesh3d": [
           {
            "colorbar": {
             "outlinewidth": 0,
             "ticks": ""
            },
            "type": "mesh3d"
           }
          ],
          "parcoords": [
           {
            "line": {
             "colorbar": {
              "outlinewidth": 0,
              "ticks": ""
             }
            },
            "type": "parcoords"
           }
          ],
          "pie": [
           {
            "automargin": true,
            "type": "pie"
           }
          ],
          "scatter": [
           {
            "fillpattern": {
             "fillmode": "overlay",
             "size": 10,
             "solidity": 0.2
            },
            "type": "scatter"
           }
          ],
          "scatter3d": [
           {
            "line": {
             "colorbar": {
              "outlinewidth": 0,
              "ticks": ""
             }
            },
            "marker": {
             "colorbar": {
              "outlinewidth": 0,
              "ticks": ""
             }
            },
            "type": "scatter3d"
           }
          ],
          "scattercarpet": [
           {
            "marker": {
             "colorbar": {
              "outlinewidth": 0,
              "ticks": ""
             }
            },
            "type": "scattercarpet"
           }
          ],
          "scattergeo": [
           {
            "marker": {
             "colorbar": {
              "outlinewidth": 0,
              "ticks": ""
             }
            },
            "type": "scattergeo"
           }
          ],
          "scattergl": [
           {
            "marker": {
             "colorbar": {
              "outlinewidth": 0,
              "ticks": ""
             }
            },
            "type": "scattergl"
           }
          ],
          "scattermapbox": [
           {
            "marker": {
             "colorbar": {
              "outlinewidth": 0,
              "ticks": ""
             }
            },
            "type": "scattermapbox"
           }
          ],
          "scatterpolar": [
           {
            "marker": {
             "colorbar": {
              "outlinewidth": 0,
              "ticks": ""
             }
            },
            "type": "scatterpolar"
           }
          ],
          "scatterpolargl": [
           {
            "marker": {
             "colorbar": {
              "outlinewidth": 0,
              "ticks": ""
             }
            },
            "type": "scatterpolargl"
           }
          ],
          "scatterternary": [
           {
            "marker": {
             "colorbar": {
              "outlinewidth": 0,
              "ticks": ""
             }
            },
            "type": "scatterternary"
           }
          ],
          "surface": [
           {
            "colorbar": {
             "outlinewidth": 0,
             "ticks": ""
            },
            "colorscale": [
             [
              0,
              "#0d0887"
             ],
             [
              0.1111111111111111,
              "#46039f"
             ],
             [
              0.2222222222222222,
              "#7201a8"
             ],
             [
              0.3333333333333333,
              "#9c179e"
             ],
             [
              0.4444444444444444,
              "#bd3786"
             ],
             [
              0.5555555555555556,
              "#d8576b"
             ],
             [
              0.6666666666666666,
              "#ed7953"
             ],
             [
              0.7777777777777778,
              "#fb9f3a"
             ],
             [
              0.8888888888888888,
              "#fdca26"
             ],
             [
              1,
              "#f0f921"
             ]
            ],
            "type": "surface"
           }
          ],
          "table": [
           {
            "cells": {
             "fill": {
              "color": "#EBF0F8"
             },
             "line": {
              "color": "white"
             }
            },
            "header": {
             "fill": {
              "color": "#C8D4E3"
             },
             "line": {
              "color": "white"
             }
            },
            "type": "table"
           }
          ]
         },
         "layout": {
          "annotationdefaults": {
           "arrowcolor": "#2a3f5f",
           "arrowhead": 0,
           "arrowwidth": 1
          },
          "autotypenumbers": "strict",
          "coloraxis": {
           "colorbar": {
            "outlinewidth": 0,
            "ticks": ""
           }
          },
          "colorscale": {
           "diverging": [
            [
             0,
             "#8e0152"
            ],
            [
             0.1,
             "#c51b7d"
            ],
            [
             0.2,
             "#de77ae"
            ],
            [
             0.3,
             "#f1b6da"
            ],
            [
             0.4,
             "#fde0ef"
            ],
            [
             0.5,
             "#f7f7f7"
            ],
            [
             0.6,
             "#e6f5d0"
            ],
            [
             0.7,
             "#b8e186"
            ],
            [
             0.8,
             "#7fbc41"
            ],
            [
             0.9,
             "#4d9221"
            ],
            [
             1,
             "#276419"
            ]
           ],
           "sequential": [
            [
             0,
             "#0d0887"
            ],
            [
             0.1111111111111111,
             "#46039f"
            ],
            [
             0.2222222222222222,
             "#7201a8"
            ],
            [
             0.3333333333333333,
             "#9c179e"
            ],
            [
             0.4444444444444444,
             "#bd3786"
            ],
            [
             0.5555555555555556,
             "#d8576b"
            ],
            [
             0.6666666666666666,
             "#ed7953"
            ],
            [
             0.7777777777777778,
             "#fb9f3a"
            ],
            [
             0.8888888888888888,
             "#fdca26"
            ],
            [
             1,
             "#f0f921"
            ]
           ],
           "sequentialminus": [
            [
             0,
             "#0d0887"
            ],
            [
             0.1111111111111111,
             "#46039f"
            ],
            [
             0.2222222222222222,
             "#7201a8"
            ],
            [
             0.3333333333333333,
             "#9c179e"
            ],
            [
             0.4444444444444444,
             "#bd3786"
            ],
            [
             0.5555555555555556,
             "#d8576b"
            ],
            [
             0.6666666666666666,
             "#ed7953"
            ],
            [
             0.7777777777777778,
             "#fb9f3a"
            ],
            [
             0.8888888888888888,
             "#fdca26"
            ],
            [
             1,
             "#f0f921"
            ]
           ]
          },
          "colorway": [
           "#636efa",
           "#EF553B",
           "#00cc96",
           "#ab63fa",
           "#FFA15A",
           "#19d3f3",
           "#FF6692",
           "#B6E880",
           "#FF97FF",
           "#FECB52"
          ],
          "font": {
           "color": "#2a3f5f"
          },
          "geo": {
           "bgcolor": "white",
           "lakecolor": "white",
           "landcolor": "#E5ECF6",
           "showlakes": true,
           "showland": true,
           "subunitcolor": "white"
          },
          "hoverlabel": {
           "align": "left"
          },
          "hovermode": "closest",
          "mapbox": {
           "style": "light"
          },
          "paper_bgcolor": "white",
          "plot_bgcolor": "#E5ECF6",
          "polar": {
           "angularaxis": {
            "gridcolor": "white",
            "linecolor": "white",
            "ticks": ""
           },
           "bgcolor": "#E5ECF6",
           "radialaxis": {
            "gridcolor": "white",
            "linecolor": "white",
            "ticks": ""
           }
          },
          "scene": {
           "xaxis": {
            "backgroundcolor": "#E5ECF6",
            "gridcolor": "white",
            "gridwidth": 2,
            "linecolor": "white",
            "showbackground": true,
            "ticks": "",
            "zerolinecolor": "white"
           },
           "yaxis": {
            "backgroundcolor": "#E5ECF6",
            "gridcolor": "white",
            "gridwidth": 2,
            "linecolor": "white",
            "showbackground": true,
            "ticks": "",
            "zerolinecolor": "white"
           },
           "zaxis": {
            "backgroundcolor": "#E5ECF6",
            "gridcolor": "white",
            "gridwidth": 2,
            "linecolor": "white",
            "showbackground": true,
            "ticks": "",
            "zerolinecolor": "white"
           }
          },
          "shapedefaults": {
           "line": {
            "color": "#2a3f5f"
           }
          },
          "ternary": {
           "aaxis": {
            "gridcolor": "white",
            "linecolor": "white",
            "ticks": ""
           },
           "baxis": {
            "gridcolor": "white",
            "linecolor": "white",
            "ticks": ""
           },
           "bgcolor": "#E5ECF6",
           "caxis": {
            "gridcolor": "white",
            "linecolor": "white",
            "ticks": ""
           }
          },
          "title": {
           "x": 0.05
          },
          "xaxis": {
           "automargin": true,
           "gridcolor": "white",
           "linecolor": "white",
           "ticks": "",
           "title": {
            "standoff": 15
           },
           "zerolinecolor": "white",
           "zerolinewidth": 2
          },
          "yaxis": {
           "automargin": true,
           "gridcolor": "white",
           "linecolor": "white",
           "ticks": "",
           "title": {
            "standoff": 15
           },
           "zerolinecolor": "white",
           "zerolinewidth": 2
          }
         }
        },
        "xaxis": {
         "anchor": "y",
         "domain": [
          0,
          1
         ],
         "ticktext": [
          "Points",
          "Assists",
          "Rebounds",
          "Blocks",
          "Steals",
          "Turnovers"
         ],
         "tickvals": [
          "pts",
          "ast",
          "trb",
          "blk",
          "stl",
          "tov"
         ],
         "title": {
          "text": "Statistical Category"
         }
        },
        "yaxis": {
         "anchor": "x",
         "domain": [
          0,
          1
         ],
         "title": {
          "text": "Total"
         }
        }
       }
      },
      "text/html": [
       "<div>                            <div id=\"1fcbd137-62e4-4a45-af2e-4c5d1fbc8419\" class=\"plotly-graph-div\" style=\"height:525px; width:100%;\"></div>            <script type=\"text/javascript\">                require([\"plotly\"], function(Plotly) {                    window.PLOTLYENV=window.PLOTLYENV || {};                                    if (document.getElementById(\"1fcbd137-62e4-4a45-af2e-4c5d1fbc8419\")) {                    Plotly.newPlot(                        \"1fcbd137-62e4-4a45-af2e-4c5d1fbc8419\",                        [{\"alignmentgroup\":\"True\",\"hovertemplate\":\"index=%{x}<br>Total=%{y}<extra></extra>\",\"legendgroup\":\"\",\"marker\":{\"color\":\"#636efa\",\"pattern\":{\"shape\":\"\"}},\"name\":\"\",\"offsetgroup\":\"\",\"orientation\":\"v\",\"showlegend\":false,\"textposition\":\"auto\",\"x\":[\"pts\",\"ast\",\"trb\",\"blk\",\"stl\",\"tov\"],\"xaxis\":\"x\",\"y\":[34241,9346,9405,957,2015,4424],\"yaxis\":\"y\",\"type\":\"bar\"}],                        {\"template\":{\"data\":{\"histogram2dcontour\":[{\"type\":\"histogram2dcontour\",\"colorbar\":{\"outlinewidth\":0,\"ticks\":\"\"},\"colorscale\":[[0.0,\"#0d0887\"],[0.1111111111111111,\"#46039f\"],[0.2222222222222222,\"#7201a8\"],[0.3333333333333333,\"#9c179e\"],[0.4444444444444444,\"#bd3786\"],[0.5555555555555556,\"#d8576b\"],[0.6666666666666666,\"#ed7953\"],[0.7777777777777778,\"#fb9f3a\"],[0.8888888888888888,\"#fdca26\"],[1.0,\"#f0f921\"]]}],\"choropleth\":[{\"type\":\"choropleth\",\"colorbar\":{\"outlinewidth\":0,\"ticks\":\"\"}}],\"histogram2d\":[{\"type\":\"histogram2d\",\"colorbar\":{\"outlinewidth\":0,\"ticks\":\"\"},\"colorscale\":[[0.0,\"#0d0887\"],[0.1111111111111111,\"#46039f\"],[0.2222222222222222,\"#7201a8\"],[0.3333333333333333,\"#9c179e\"],[0.4444444444444444,\"#bd3786\"],[0.5555555555555556,\"#d8576b\"],[0.6666666666666666,\"#ed7953\"],[0.7777777777777778,\"#fb9f3a\"],[0.8888888888888888,\"#fdca26\"],[1.0,\"#f0f921\"]]}],\"heatmap\":[{\"type\":\"heatmap\",\"colorbar\":{\"outlinewidth\":0,\"ticks\":\"\"},\"colorscale\":[[0.0,\"#0d0887\"],[0.1111111111111111,\"#46039f\"],[0.2222222222222222,\"#7201a8\"],[0.3333333333333333,\"#9c179e\"],[0.4444444444444444,\"#bd3786\"],[0.5555555555555556,\"#d8576b\"],[0.6666666666666666,\"#ed7953\"],[0.7777777777777778,\"#fb9f3a\"],[0.8888888888888888,\"#fdca26\"],[1.0,\"#f0f921\"]]}],\"heatmapgl\":[{\"type\":\"heatmapgl\",\"colorbar\":{\"outlinewidth\":0,\"ticks\":\"\"},\"colorscale\":[[0.0,\"#0d0887\"],[0.1111111111111111,\"#46039f\"],[0.2222222222222222,\"#7201a8\"],[0.3333333333333333,\"#9c179e\"],[0.4444444444444444,\"#bd3786\"],[0.5555555555555556,\"#d8576b\"],[0.6666666666666666,\"#ed7953\"],[0.7777777777777778,\"#fb9f3a\"],[0.8888888888888888,\"#fdca26\"],[1.0,\"#f0f921\"]]}],\"contourcarpet\":[{\"type\":\"contourcarpet\",\"colorbar\":{\"outlinewidth\":0,\"ticks\":\"\"}}],\"contour\":[{\"type\":\"contour\",\"colorbar\":{\"outlinewidth\":0,\"ticks\":\"\"},\"colorscale\":[[0.0,\"#0d0887\"],[0.1111111111111111,\"#46039f\"],[0.2222222222222222,\"#7201a8\"],[0.3333333333333333,\"#9c179e\"],[0.4444444444444444,\"#bd3786\"],[0.5555555555555556,\"#d8576b\"],[0.6666666666666666,\"#ed7953\"],[0.7777777777777778,\"#fb9f3a\"],[0.8888888888888888,\"#fdca26\"],[1.0,\"#f0f921\"]]}],\"surface\":[{\"type\":\"surface\",\"colorbar\":{\"outlinewidth\":0,\"ticks\":\"\"},\"colorscale\":[[0.0,\"#0d0887\"],[0.1111111111111111,\"#46039f\"],[0.2222222222222222,\"#7201a8\"],[0.3333333333333333,\"#9c179e\"],[0.4444444444444444,\"#bd3786\"],[0.5555555555555556,\"#d8576b\"],[0.6666666666666666,\"#ed7953\"],[0.7777777777777778,\"#fb9f3a\"],[0.8888888888888888,\"#fdca26\"],[1.0,\"#f0f921\"]]}],\"mesh3d\":[{\"type\":\"mesh3d\",\"colorbar\":{\"outlinewidth\":0,\"ticks\":\"\"}}],\"scatter\":[{\"fillpattern\":{\"fillmode\":\"overlay\",\"size\":10,\"solidity\":0.2},\"type\":\"scatter\"}],\"parcoords\":[{\"type\":\"parcoords\",\"line\":{\"colorbar\":{\"outlinewidth\":0,\"ticks\":\"\"}}}],\"scatterpolargl\":[{\"type\":\"scatterpolargl\",\"marker\":{\"colorbar\":{\"outlinewidth\":0,\"ticks\":\"\"}}}],\"bar\":[{\"error_x\":{\"color\":\"#2a3f5f\"},\"error_y\":{\"color\":\"#2a3f5f\"},\"marker\":{\"line\":{\"color\":\"#E5ECF6\",\"width\":0.5},\"pattern\":{\"fillmode\":\"overlay\",\"size\":10,\"solidity\":0.2}},\"type\":\"bar\"}],\"scattergeo\":[{\"type\":\"scattergeo\",\"marker\":{\"colorbar\":{\"outlinewidth\":0,\"ticks\":\"\"}}}],\"scatterpolar\":[{\"type\":\"scatterpolar\",\"marker\":{\"colorbar\":{\"outlinewidth\":0,\"ticks\":\"\"}}}],\"histogram\":[{\"marker\":{\"pattern\":{\"fillmode\":\"overlay\",\"size\":10,\"solidity\":0.2}},\"type\":\"histogram\"}],\"scattergl\":[{\"type\":\"scattergl\",\"marker\":{\"colorbar\":{\"outlinewidth\":0,\"ticks\":\"\"}}}],\"scatter3d\":[{\"type\":\"scatter3d\",\"line\":{\"colorbar\":{\"outlinewidth\":0,\"ticks\":\"\"}},\"marker\":{\"colorbar\":{\"outlinewidth\":0,\"ticks\":\"\"}}}],\"scattermapbox\":[{\"type\":\"scattermapbox\",\"marker\":{\"colorbar\":{\"outlinewidth\":0,\"ticks\":\"\"}}}],\"scatterternary\":[{\"type\":\"scatterternary\",\"marker\":{\"colorbar\":{\"outlinewidth\":0,\"ticks\":\"\"}}}],\"scattercarpet\":[{\"type\":\"scattercarpet\",\"marker\":{\"colorbar\":{\"outlinewidth\":0,\"ticks\":\"\"}}}],\"carpet\":[{\"aaxis\":{\"endlinecolor\":\"#2a3f5f\",\"gridcolor\":\"white\",\"linecolor\":\"white\",\"minorgridcolor\":\"white\",\"startlinecolor\":\"#2a3f5f\"},\"baxis\":{\"endlinecolor\":\"#2a3f5f\",\"gridcolor\":\"white\",\"linecolor\":\"white\",\"minorgridcolor\":\"white\",\"startlinecolor\":\"#2a3f5f\"},\"type\":\"carpet\"}],\"table\":[{\"cells\":{\"fill\":{\"color\":\"#EBF0F8\"},\"line\":{\"color\":\"white\"}},\"header\":{\"fill\":{\"color\":\"#C8D4E3\"},\"line\":{\"color\":\"white\"}},\"type\":\"table\"}],\"barpolar\":[{\"marker\":{\"line\":{\"color\":\"#E5ECF6\",\"width\":0.5},\"pattern\":{\"fillmode\":\"overlay\",\"size\":10,\"solidity\":0.2}},\"type\":\"barpolar\"}],\"pie\":[{\"automargin\":true,\"type\":\"pie\"}]},\"layout\":{\"autotypenumbers\":\"strict\",\"colorway\":[\"#636efa\",\"#EF553B\",\"#00cc96\",\"#ab63fa\",\"#FFA15A\",\"#19d3f3\",\"#FF6692\",\"#B6E880\",\"#FF97FF\",\"#FECB52\"],\"font\":{\"color\":\"#2a3f5f\"},\"hovermode\":\"closest\",\"hoverlabel\":{\"align\":\"left\"},\"paper_bgcolor\":\"white\",\"plot_bgcolor\":\"#E5ECF6\",\"polar\":{\"bgcolor\":\"#E5ECF6\",\"angularaxis\":{\"gridcolor\":\"white\",\"linecolor\":\"white\",\"ticks\":\"\"},\"radialaxis\":{\"gridcolor\":\"white\",\"linecolor\":\"white\",\"ticks\":\"\"}},\"ternary\":{\"bgcolor\":\"#E5ECF6\",\"aaxis\":{\"gridcolor\":\"white\",\"linecolor\":\"white\",\"ticks\":\"\"},\"baxis\":{\"gridcolor\":\"white\",\"linecolor\":\"white\",\"ticks\":\"\"},\"caxis\":{\"gridcolor\":\"white\",\"linecolor\":\"white\",\"ticks\":\"\"}},\"coloraxis\":{\"colorbar\":{\"outlinewidth\":0,\"ticks\":\"\"}},\"colorscale\":{\"sequential\":[[0.0,\"#0d0887\"],[0.1111111111111111,\"#46039f\"],[0.2222222222222222,\"#7201a8\"],[0.3333333333333333,\"#9c179e\"],[0.4444444444444444,\"#bd3786\"],[0.5555555555555556,\"#d8576b\"],[0.6666666666666666,\"#ed7953\"],[0.7777777777777778,\"#fb9f3a\"],[0.8888888888888888,\"#fdca26\"],[1.0,\"#f0f921\"]],\"sequentialminus\":[[0.0,\"#0d0887\"],[0.1111111111111111,\"#46039f\"],[0.2222222222222222,\"#7201a8\"],[0.3333333333333333,\"#9c179e\"],[0.4444444444444444,\"#bd3786\"],[0.5555555555555556,\"#d8576b\"],[0.6666666666666666,\"#ed7953\"],[0.7777777777777778,\"#fb9f3a\"],[0.8888888888888888,\"#fdca26\"],[1.0,\"#f0f921\"]],\"diverging\":[[0,\"#8e0152\"],[0.1,\"#c51b7d\"],[0.2,\"#de77ae\"],[0.3,\"#f1b6da\"],[0.4,\"#fde0ef\"],[0.5,\"#f7f7f7\"],[0.6,\"#e6f5d0\"],[0.7,\"#b8e186\"],[0.8,\"#7fbc41\"],[0.9,\"#4d9221\"],[1,\"#276419\"]]},\"xaxis\":{\"gridcolor\":\"white\",\"linecolor\":\"white\",\"ticks\":\"\",\"title\":{\"standoff\":15},\"zerolinecolor\":\"white\",\"automargin\":true,\"zerolinewidth\":2},\"yaxis\":{\"gridcolor\":\"white\",\"linecolor\":\"white\",\"ticks\":\"\",\"title\":{\"standoff\":15},\"zerolinecolor\":\"white\",\"automargin\":true,\"zerolinewidth\":2},\"scene\":{\"xaxis\":{\"backgroundcolor\":\"#E5ECF6\",\"gridcolor\":\"white\",\"linecolor\":\"white\",\"showbackground\":true,\"ticks\":\"\",\"zerolinecolor\":\"white\",\"gridwidth\":2},\"yaxis\":{\"backgroundcolor\":\"#E5ECF6\",\"gridcolor\":\"white\",\"linecolor\":\"white\",\"showbackground\":true,\"ticks\":\"\",\"zerolinecolor\":\"white\",\"gridwidth\":2},\"zaxis\":{\"backgroundcolor\":\"#E5ECF6\",\"gridcolor\":\"white\",\"linecolor\":\"white\",\"showbackground\":true,\"ticks\":\"\",\"zerolinecolor\":\"white\",\"gridwidth\":2}},\"shapedefaults\":{\"line\":{\"color\":\"#2a3f5f\"}},\"annotationdefaults\":{\"arrowcolor\":\"#2a3f5f\",\"arrowhead\":0,\"arrowwidth\":1},\"geo\":{\"bgcolor\":\"white\",\"landcolor\":\"#E5ECF6\",\"subunitcolor\":\"white\",\"showland\":true,\"showlakes\":true,\"lakecolor\":\"white\"},\"title\":{\"x\":0.05},\"mapbox\":{\"style\":\"light\"}}},\"xaxis\":{\"anchor\":\"y\",\"domain\":[0.0,1.0],\"title\":{\"text\":\"Statistical Category\"},\"tickvals\":[\"pts\",\"ast\",\"trb\",\"blk\",\"stl\",\"tov\"],\"ticktext\":[\"Points\",\"Assists\",\"Rebounds\",\"Blocks\",\"Steals\",\"Turnovers\"]},\"yaxis\":{\"anchor\":\"x\",\"domain\":[0.0,1.0],\"title\":{\"text\":\"Total\"}},\"legend\":{\"tracegroupgap\":0},\"margin\":{\"t\":60},\"barmode\":\"relative\",\"font\":{\"color\":\"white\"},\"paper_bgcolor\":\"rgb(0,0,0,0)\",\"plot_bgcolor\":\"rgb(1,0,0,0.40)\"},                        {\"responsive\": true}                    ).then(function(){\n",
       "                            \n",
       "var gd = document.getElementById('1fcbd137-62e4-4a45-af2e-4c5d1fbc8419');\n",
       "var x = new MutationObserver(function (mutations, observer) {{\n",
       "        var display = window.getComputedStyle(gd).display;\n",
       "        if (!display || display === 'none') {{\n",
       "            console.log([gd, 'removed!']);\n",
       "            Plotly.purge(gd);\n",
       "            observer.disconnect();\n",
       "        }}\n",
       "}});\n",
       "\n",
       "// Listen for the removal of the full notebook cells\n",
       "var notebookContainer = gd.closest('#notebook-container');\n",
       "if (notebookContainer) {{\n",
       "    x.observe(notebookContainer, {childList: true});\n",
       "}}\n",
       "\n",
       "// Listen for the clearing of the current output cell\n",
       "var outputEl = gd.closest('.output');\n",
       "if (outputEl) {{\n",
       "    x.observe(outputEl, {childList: true});\n",
       "}}\n",
       "\n",
       "                        })                };                });            </script>        </div>"
      ]
     },
     "metadata": {},
     "output_type": "display_data"
    }
   ],
   "source": [
    "px.bar(lebron_totals_regular,x=lebron_totals_regular.index,y=\"Total\",\n",
    "      labels={'pts':'Points','ast':'Assists'}\n",
    "      ).update_layout(\n",
    "            paper_bgcolor=\"rgb(0,0,0,0)\",plot_bgcolor=\"rgb(1,0,0,0.40)\",font={'color':'white'}\n",
    "        ).update_xaxes(\n",
    "        title=\"Statistical Category\",\n",
    "        tickvals=['pts','ast','trb','blk','stl','tov'],\n",
    "        ticktext=['Points','Assists','Rebounds','Blocks','Steals','Turnovers']\n",
    ")"
   ]
  },
  {
   "cell_type": "code",
   "execution_count": null,
   "id": "1d0fdce1",
   "metadata": {},
   "outputs": [],
   "source": []
  }
 ],
 "metadata": {
  "kernelspec": {
   "display_name": "Python 3 (ipykernel)",
   "language": "python",
   "name": "python3"
  },
  "language_info": {
   "codemirror_mode": {
    "name": "ipython",
    "version": 3
   },
   "file_extension": ".py",
   "mimetype": "text/x-python",
   "name": "python",
   "nbconvert_exporter": "python",
   "pygments_lexer": "ipython3",
   "version": "3.11.3"
  }
 },
 "nbformat": 4,
 "nbformat_minor": 5
}
